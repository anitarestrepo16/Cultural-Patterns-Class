{
 "cells": [
  {
   "cell_type": "markdown",
   "metadata": {},
   "source": [
    "# Assignment #2\n",
    "Anita Restrepo"
   ]
  },
  {
   "cell_type": "markdown",
   "metadata": {},
   "source": [
    "## Question 1"
   ]
  },
  {
   "cell_type": "markdown",
   "metadata": {},
   "source": [
    "What kind of language does the popular sitcom \"Friends\" use to refer to body image and to what extent are different language patterns conventionalized as legisigns?"
   ]
  },
  {
   "cell_type": "markdown",
   "metadata": {},
   "source": [
    "## Question 2"
   ]
  },
  {
   "cell_type": "markdown",
   "metadata": {},
   "source": [
    "To answer this question, I will be looking at snippets from the script of the TV show obtained through a generous soul on data.world. I was able to download en excel file with this data straight from data.world. Very kind soul indeed."
   ]
  },
  {
   "cell_type": "markdown",
   "metadata": {},
   "source": [
    "## Question 3"
   ]
  },
  {
   "cell_type": "code",
   "execution_count": 5,
   "metadata": {},
   "outputs": [],
   "source": [
    "import pandas as pd # import Pandas\n",
    "import re # import re package to look at text analysis"
   ]
  },
  {
   "cell_type": "code",
   "execution_count": 3,
   "metadata": {},
   "outputs": [
    {
     "data": {
      "text/html": [
       "<div>\n",
       "<style scoped>\n",
       "    .dataframe tbody tr th:only-of-type {\n",
       "        vertical-align: middle;\n",
       "    }\n",
       "\n",
       "    .dataframe tbody tr th {\n",
       "        vertical-align: top;\n",
       "    }\n",
       "\n",
       "    .dataframe thead th {\n",
       "        text-align: right;\n",
       "    }\n",
       "</style>\n",
       "<table border=\"1\" class=\"dataframe\">\n",
       "  <thead>\n",
       "    <tr style=\"text-align: right;\">\n",
       "      <th></th>\n",
       "      <th>~~Output Dialog~~</th>\n",
       "      <th>~~Respect of User (OD)~~</th>\n",
       "      <th>~~Input Dialog~~</th>\n",
       "    </tr>\n",
       "  </thead>\n",
       "  <tbody>\n",
       "    <tr>\n",
       "      <th>0</th>\n",
       "      <td>Top of the world? Dock of the bay?  I'm out.</td>\n",
       "      <td>5</td>\n",
       "      <td>What am I sitting on?</td>\n",
       "    </tr>\n",
       "    <tr>\n",
       "      <th>1</th>\n",
       "      <td>Oh! Look at that, time's up! My turn!</td>\n",
       "      <td>7</td>\n",
       "      <td>I can't believe we've never done this before!...</td>\n",
       "    </tr>\n",
       "    <tr>\n",
       "      <th>2</th>\n",
       "      <td>Wow! Listen, we had a good run. What was it?...</td>\n",
       "      <td>6</td>\n",
       "      <td>Chandler!!! Chandler!!!  Chandler, I saw what...</td>\n",
       "    </tr>\n",
       "    <tr>\n",
       "      <th>3</th>\n",
       "      <td>Hey!</td>\n",
       "      <td>8</td>\n",
       "      <td>Hey!</td>\n",
       "    </tr>\n",
       "    <tr>\n",
       "      <th>4</th>\n",
       "      <td>Okay.</td>\n",
       "      <td>5</td>\n",
       "      <td>Okay, pick a card.</td>\n",
       "    </tr>\n",
       "  </tbody>\n",
       "</table>\n",
       "</div>"
      ],
      "text/plain": [
       "                                   ~~Output Dialog~~  \\\n",
       "0      Top of the world? Dock of the bay?  I'm out.    \n",
       "1             Oh! Look at that, time's up! My turn!    \n",
       "2    Wow! Listen, we had a good run. What was it?...   \n",
       "3                                              Hey!    \n",
       "4                                            Okay.     \n",
       "\n",
       "   ~~Respect of User (OD)~~                                   ~~Input Dialog~~  \n",
       "0                         5                             What am I sitting on?   \n",
       "1                         7   I can't believe we've never done this before!...  \n",
       "2                         6   Chandler!!! Chandler!!!  Chandler, I saw what...  \n",
       "3                         8                                              Hey!   \n",
       "4                         5                                Okay, pick a card.   "
      ]
     },
     "execution_count": 3,
     "metadata": {},
     "output_type": "execute_result"
    }
   ],
   "source": [
    "df = pd.read_excel('Friends_Script.xlsx') #read excel file in as pandas dataframe\n",
    "df.head() # print out the first five lines"
   ]
  },
  {
   "cell_type": "markdown",
   "metadata": {},
   "source": [
    "## Question 4"
   ]
  },
  {
   "cell_type": "code",
   "execution_count": 4,
   "metadata": {},
   "outputs": [],
   "source": [
    "# clean data\n",
    "df.columns = [\"A\", \"B\", \"C\"]  # relabel columns of dataframe for more convenience\n",
    "data1 = pd.Series(df[\"A\"]) # pull out the two columns I am interested in separately\n",
    "data2 = pd.Series(df[\"C\"])\n",
    "data = data1.append(data2, ignore_index = True) # append second column to end of first in the form of a pandas series and ignore the index so it creates new index with correct length\n",
    "# lower case everything\n",
    "data = [str.lower(item) for item in data] # use comprehensive list\n",
    "data = pd.Series(data) # turn back into a Series"
   ]
  },
  {
   "cell_type": "code",
   "execution_count": 7,
   "metadata": {},
   "outputs": [],
   "source": [
    "# create a list of common body image-related terms to look for in the script\n",
    "words = [\"hottie\", \"sexy\", \"exercis\", \"waist\", \"busty\", \"fat \", \"fatso \", \n",
    "         \"fatty\", \"big boned\", \"big-boned\", \"flab\", \"binge\", \" pig \", \"piggy\", \n",
    "         \"pig out\", \"lard \", \"chunky\", \"weight\", \"skinny\", \" thin \", \"healthy\",\n",
    "         \"athletic\", \"saggy\", \"anorexic\", \"skeletal\", \"bag of bones\", \"diet\"]"
   ]
  },
  {
   "cell_type": "markdown",
   "metadata": {},
   "source": [
    "In choosing the selected words, I looked for common body image words and phrases online. I tried to hit a sweet spot (through trial and error) where the words would be specific enough to minimize the potential for them being used outside of a body image context but also sufficiently sensitive to pick up on as much signal as possible. For this reason, words like \"big\" did not make it into the list, though there were various entries where \"big\" was used in a body image related context (science is hard). Additionally, I added spaces before and/or after some of the words in order to make sure the individual words were being matched, as opposed to the combination of letters inside other words (this was especially common for short words like \"fat\" and \"pig\"). Finally, I included \"exercis\" as opposed to \"exercise\" as a quick and dirty way to get at the lemma of this term."
   ]
  },
  {
   "cell_type": "code",
   "execution_count": 8,
   "metadata": {},
   "outputs": [],
   "source": [
    "# create a list of compiled patterns to search for the words in \"words\"\n",
    "patterns = [re.compile(x) for x in words]"
   ]
  },
  {
   "cell_type": "code",
   "execution_count": 9,
   "metadata": {},
   "outputs": [],
   "source": [
    "# create function that searches for each of the patterns and returns a ghost list with all the strings where it found at least one of the patterns\n",
    "ghost = []\n",
    "def ghastly(string): # trying to hang on to that Halloween cheer\n",
    "    for i in patterns:\n",
    "        if i.search(string) != None:\n",
    "            ghost.append(string)"
   ]
  },
  {
   "cell_type": "code",
   "execution_count": 10,
   "metadata": {},
   "outputs": [
    {
     "data": {
      "text/plain": [
       "0        None\n",
       "1        None\n",
       "2        None\n",
       "3        None\n",
       "4        None\n",
       "5        None\n",
       "6        None\n",
       "7        None\n",
       "8        None\n",
       "9        None\n",
       "10       None\n",
       "11       None\n",
       "12       None\n",
       "13       None\n",
       "14       None\n",
       "15       None\n",
       "16       None\n",
       "17       None\n",
       "18       None\n",
       "19       None\n",
       "20       None\n",
       "21       None\n",
       "22       None\n",
       "23       None\n",
       "24       None\n",
       "25       None\n",
       "26       None\n",
       "27       None\n",
       "28       None\n",
       "29       None\n",
       "         ... \n",
       "15224    None\n",
       "15225    None\n",
       "15226    None\n",
       "15227    None\n",
       "15228    None\n",
       "15229    None\n",
       "15230    None\n",
       "15231    None\n",
       "15232    None\n",
       "15233    None\n",
       "15234    None\n",
       "15235    None\n",
       "15236    None\n",
       "15237    None\n",
       "15238    None\n",
       "15239    None\n",
       "15240    None\n",
       "15241    None\n",
       "15242    None\n",
       "15243    None\n",
       "15244    None\n",
       "15245    None\n",
       "15246    None\n",
       "15247    None\n",
       "15248    None\n",
       "15249    None\n",
       "15250    None\n",
       "15251    None\n",
       "15252    None\n",
       "15253    None\n",
       "Length: 15254, dtype: object"
      ]
     },
     "execution_count": 10,
     "metadata": {},
     "output_type": "execute_result"
    }
   ],
   "source": [
    "#apply the function to the full data\n",
    "data.apply(ghastly)"
   ]
  },
  {
   "cell_type": "code",
   "execution_count": 20,
   "metadata": {},
   "outputs": [
    {
     "data": {
      "text/plain": [
       "[' ahh, hotties of the paleontology department, there\\x92s a big selling calendar, eh? ',\n",
       " \" woah, woah, i've put on a little weight? \",\n",
       " ' well, we\\'re talking about sperm donors and zack may be the guy! i mean, look, he\\'s intelligent, he\\'s healthy, he\\'s athletic, i mean, he is \"spermtastic\"! ',\n",
       " ' well, we\\'re talking about sperm donors and zack may be the guy! i mean, look, he\\'s intelligent, he\\'s healthy, he\\'s athletic, i mean, he is \"spermtastic\"! ',\n",
       " ' ah, you\\x92re still just a little fat girl inside aren\\x92t you?  ']"
      ]
     },
     "execution_count": 20,
     "metadata": {},
     "output_type": "execute_result"
    }
   ],
   "source": [
    "# visually inspect the resulting ghost list to make sure most matches are actually body image-related\n",
    "ghost[10:20]\n",
    "ghost[20:30]\n",
    "ghost[50:53]\n",
    "ghost[:5]"
   ]
  },
  {
   "cell_type": "code",
   "execution_count": 25,
   "metadata": {},
   "outputs": [
    {
     "data": {
      "text/plain": [
       "[' ahh, hotties of the paleontology department, there\\x92s a big selling calendar, eh? ',\n",
       " \" woah, woah, i've put on a little weight? \",\n",
       " ' well, we\\'re talking about sperm donors and zack may be the guy! i mean, look, he\\'s intelligent, he\\'s healthy, he\\'s athletic, i mean, he is \"spermtastic\"! ',\n",
       " ' ah, you\\x92re still just a little fat girl inside aren\\x92t you?  ',\n",
       " ' nah, monica\\x92s watching some cooking show. come on, i don\\x92t want to miss when they were skinny. ']"
      ]
     },
     "execution_count": 25,
     "metadata": {},
     "output_type": "execute_result"
    }
   ],
   "source": [
    "# remove duplicate entries\n",
    "ghost = list(dict.fromkeys(ghost))\n",
    "ghost[:5] # check to make sure it worked"
   ]
  },
  {
   "cell_type": "code",
   "execution_count": 26,
   "metadata": {},
   "outputs": [
    {
     "data": {
      "text/plain": [
       "['hottie',\n",
       " 'hottie',\n",
       " 'sexy',\n",
       " 'sexy',\n",
       " 'sexy',\n",
       " 'sexy',\n",
       " 'sexy',\n",
       " 'sexy',\n",
       " 'sexy',\n",
       " 'sexy',\n",
       " 'sexy',\n",
       " 'sexy',\n",
       " 'sexy',\n",
       " 'waist',\n",
       " 'waist',\n",
       " 'waist',\n",
       " 'waist',\n",
       " 'fat ',\n",
       " 'fat ',\n",
       " 'fat ',\n",
       " 'fat ',\n",
       " 'fat ',\n",
       " 'fat ',\n",
       " 'fat ',\n",
       " 'fat ',\n",
       " 'fat ',\n",
       " 'fat ',\n",
       " 'fat ',\n",
       " 'fatty',\n",
       " 'flab',\n",
       " ' pig ',\n",
       " 'piggy',\n",
       " 'piggy',\n",
       " 'chunky',\n",
       " 'weight',\n",
       " 'weight',\n",
       " 'weight',\n",
       " 'weight',\n",
       " 'weight',\n",
       " 'skinny',\n",
       " 'skinny',\n",
       " ' thin ',\n",
       " 'healthy',\n",
       " 'healthy',\n",
       " 'healthy',\n",
       " 'healthy',\n",
       " 'healthy',\n",
       " 'healthy',\n",
       " 'athletic',\n",
       " 'saggy',\n",
       " 'diet',\n",
       " 'diet',\n",
       " 'diet']"
      ]
     },
     "execution_count": 26,
     "metadata": {},
     "output_type": "execute_result"
    }
   ],
   "source": [
    "match = [re.search(pattern, string) for pattern in patterns for string in ghost] # create a \"match\" list that goes through each item in ghost and returns the match object found \n",
    "matched_words = [i.group(0) for i in match if i != None] # if there is a match object, return the actual word that was matched\n",
    "matched_words"
   ]
  },
  {
   "cell_type": "code",
   "execution_count": 27,
   "metadata": {},
   "outputs": [
    {
     "data": {
      "text/html": [
       "<div>\n",
       "<style scoped>\n",
       "    .dataframe tbody tr th:only-of-type {\n",
       "        vertical-align: middle;\n",
       "    }\n",
       "\n",
       "    .dataframe tbody tr th {\n",
       "        vertical-align: top;\n",
       "    }\n",
       "\n",
       "    .dataframe thead th {\n",
       "        text-align: right;\n",
       "    }\n",
       "</style>\n",
       "<table border=\"1\" class=\"dataframe\">\n",
       "  <thead>\n",
       "    <tr style=\"text-align: right;\">\n",
       "      <th></th>\n",
       "      <th>Count</th>\n",
       "      <th>Word</th>\n",
       "    </tr>\n",
       "  </thead>\n",
       "  <tbody>\n",
       "    <tr>\n",
       "      <th>0</th>\n",
       "      <td>2</td>\n",
       "      <td>hottie</td>\n",
       "    </tr>\n",
       "    <tr>\n",
       "      <th>1</th>\n",
       "      <td>11</td>\n",
       "      <td>sexy</td>\n",
       "    </tr>\n",
       "    <tr>\n",
       "      <th>2</th>\n",
       "      <td>0</td>\n",
       "      <td>exercis</td>\n",
       "    </tr>\n",
       "    <tr>\n",
       "      <th>3</th>\n",
       "      <td>4</td>\n",
       "      <td>waist</td>\n",
       "    </tr>\n",
       "    <tr>\n",
       "      <th>4</th>\n",
       "      <td>0</td>\n",
       "      <td>busty</td>\n",
       "    </tr>\n",
       "    <tr>\n",
       "      <th>5</th>\n",
       "      <td>11</td>\n",
       "      <td>fat</td>\n",
       "    </tr>\n",
       "    <tr>\n",
       "      <th>6</th>\n",
       "      <td>0</td>\n",
       "      <td>fatso</td>\n",
       "    </tr>\n",
       "    <tr>\n",
       "      <th>7</th>\n",
       "      <td>1</td>\n",
       "      <td>fatty</td>\n",
       "    </tr>\n",
       "    <tr>\n",
       "      <th>8</th>\n",
       "      <td>0</td>\n",
       "      <td>big boned</td>\n",
       "    </tr>\n",
       "    <tr>\n",
       "      <th>9</th>\n",
       "      <td>0</td>\n",
       "      <td>big-boned</td>\n",
       "    </tr>\n",
       "    <tr>\n",
       "      <th>10</th>\n",
       "      <td>1</td>\n",
       "      <td>flab</td>\n",
       "    </tr>\n",
       "    <tr>\n",
       "      <th>11</th>\n",
       "      <td>0</td>\n",
       "      <td>binge</td>\n",
       "    </tr>\n",
       "    <tr>\n",
       "      <th>12</th>\n",
       "      <td>1</td>\n",
       "      <td>pig</td>\n",
       "    </tr>\n",
       "    <tr>\n",
       "      <th>13</th>\n",
       "      <td>2</td>\n",
       "      <td>piggy</td>\n",
       "    </tr>\n",
       "    <tr>\n",
       "      <th>14</th>\n",
       "      <td>0</td>\n",
       "      <td>pig out</td>\n",
       "    </tr>\n",
       "    <tr>\n",
       "      <th>15</th>\n",
       "      <td>0</td>\n",
       "      <td>lard</td>\n",
       "    </tr>\n",
       "    <tr>\n",
       "      <th>16</th>\n",
       "      <td>1</td>\n",
       "      <td>chunky</td>\n",
       "    </tr>\n",
       "    <tr>\n",
       "      <th>17</th>\n",
       "      <td>5</td>\n",
       "      <td>weight</td>\n",
       "    </tr>\n",
       "    <tr>\n",
       "      <th>18</th>\n",
       "      <td>2</td>\n",
       "      <td>skinny</td>\n",
       "    </tr>\n",
       "    <tr>\n",
       "      <th>19</th>\n",
       "      <td>1</td>\n",
       "      <td>thin</td>\n",
       "    </tr>\n",
       "    <tr>\n",
       "      <th>20</th>\n",
       "      <td>6</td>\n",
       "      <td>healthy</td>\n",
       "    </tr>\n",
       "    <tr>\n",
       "      <th>21</th>\n",
       "      <td>1</td>\n",
       "      <td>athletic</td>\n",
       "    </tr>\n",
       "    <tr>\n",
       "      <th>22</th>\n",
       "      <td>1</td>\n",
       "      <td>saggy</td>\n",
       "    </tr>\n",
       "    <tr>\n",
       "      <th>23</th>\n",
       "      <td>0</td>\n",
       "      <td>anorexic</td>\n",
       "    </tr>\n",
       "    <tr>\n",
       "      <th>24</th>\n",
       "      <td>0</td>\n",
       "      <td>skeletal</td>\n",
       "    </tr>\n",
       "    <tr>\n",
       "      <th>25</th>\n",
       "      <td>0</td>\n",
       "      <td>bag of bones</td>\n",
       "    </tr>\n",
       "    <tr>\n",
       "      <th>26</th>\n",
       "      <td>3</td>\n",
       "      <td>diet</td>\n",
       "    </tr>\n",
       "  </tbody>\n",
       "</table>\n",
       "</div>"
      ],
      "text/plain": [
       "    Count          Word\n",
       "0       2        hottie\n",
       "1      11          sexy\n",
       "2       0       exercis\n",
       "3       4         waist\n",
       "4       0         busty\n",
       "5      11          fat \n",
       "6       0        fatso \n",
       "7       1         fatty\n",
       "8       0     big boned\n",
       "9       0     big-boned\n",
       "10      1          flab\n",
       "11      0         binge\n",
       "12      1          pig \n",
       "13      2         piggy\n",
       "14      0       pig out\n",
       "15      0         lard \n",
       "16      1        chunky\n",
       "17      5        weight\n",
       "18      2        skinny\n",
       "19      1         thin \n",
       "20      6       healthy\n",
       "21      1      athletic\n",
       "22      1         saggy\n",
       "23      0      anorexic\n",
       "24      0      skeletal\n",
       "25      0  bag of bones\n",
       "26      3          diet"
      ]
     },
     "execution_count": 27,
     "metadata": {},
     "output_type": "execute_result"
    }
   ],
   "source": [
    "# create tally_df with a count of how many times each word in words was matched in ghost\n",
    "tally_df = pd.DataFrame({\"Word\": i, \"Count\": matched_words.count(i)} for i in words)\n",
    "tally_df"
   ]
  },
  {
   "cell_type": "code",
   "execution_count": 29,
   "metadata": {},
   "outputs": [
    {
     "data": {
      "image/png": "[encoded data removed]",
      "text/plain": [
       "<Figure size 432x288 with 1 Axes>"
      ]
     },
     "metadata": {
      "needs_background": "light"
     },
     "output_type": "display_data"
    }
   ],
   "source": [
    "# plot a histogram of each of the matched words\n",
    "tally_df.plot.bar(x = \"Word\", y = \"Count\", title = \"Histogram of Matched Words\", legend = False);"
   ]
  },
  {
   "cell_type": "markdown",
   "metadata": {},
   "source": [
    "When looking at the frequency of use of certain body image-related words (hottie, sexy, exercise, waist, busty, fat, fatso, fatty, big boned, big-boned, flab, binge, pig, piggy, pig out, lard, chunky, weight, skinny, thin, healthy, athletic, saggy, anorexic, skeletal, bag of bones, diet), it seems that five separate groups come out. The most used words are “sexy” and “fat”; the second most used are “weight” and “healthy”; the third most used are “waist” and “diet”; the fourth most used are “hottie”, “piggy”, and “skinny”; and the fifth most used are “fatty”, “flab”, “pig”, “chunky”, “thin”, “athletic” and “saggy”. \n",
    "\n",
    "From this preliminary exploratory study, certain patterns seem to be emerging. The most used words could be conceived as two opposing ends of a spectrum of sexual desire, possibly hinting at the fact that the term “fat” is being conventionalized as a legisign for a sexually undesirable, negative body image. This may seem obvious to a western culture, but is not necessarily true for other cultures with different beauty standards. \n",
    "\n",
    "The second and third groups taken together could possibly index a preoccupation with achieving beauty standards and “ideal” body weight, though it is hard to tell what the conventionalized “ideal” body image might be. The fact that the word “healthy” is in the second group provides some hope, in that the goal of the seeming concern with “diet” and “weight” might be to be healthy and not so much to achieve externally imposed beauty standards. Nonetheless, we must consider a potential confound that is present with all the words chosen for the analysis but perhaps more so for “healthy”: the context of use may not be body image-related, even though the words were chosen for their particular specificity. Additionally, the preponderance of “diet” over “exercis” (which did not come up at all) may be conveying the cultural idea that it is more appropriate to limit eating instead of increasing exercise in the pursuit of the “athletic” body image (which came up in the fifth group). This might also be considered evidence against the theory that the frequency of “healthy” is indexing a quest for health as opposed to beauty images since exercise is a generally healthier way of achieving weight loss than dieting. \n",
    "\n",
    "In conclusion, the current preliminary analysis of word frequency may hint at the conventionalization of two cultural phenomena: body image portrayed on a sexual desirability spectrum and the preoccupation with taking steps to achieve an “ideal” body image, particularly in the form of dieting over exercise."
   ]
  },
  {
   "cell_type": "markdown",
   "metadata": {},
   "source": [
    "## Question 5"
   ]
  },
  {
   "cell_type": "markdown",
   "metadata": {},
   "source": [
    "Now that I have explored the frequency of use of different body image-related words in a subset of the script of \"Friends\", there are multiple other analyses that would help to more narrowly identify the trends seen in the data above. First, I will do some web scraping from a website (https://fangj.github.io/friends/) that has compiled the full \"Friends\" script by episode and identifies the speakers as well as the stage instructions. The fact that it follows a very consistent script structure where the speakers are bolded followed by colons and the stage instructions are surrounded by brackets will make it easy to ask python to parse out the different components. I also think the list of body image-related words needs to be expanded to include words that are more commonly used to refer to the male body as well as words that can be considered neutral (though they are scarily hard to find – I guess we only talk about body image if it’s very good or very bad!). Once this is done, I would like to analyze frequency of word use based on valence (positive vs. negative vs. neutral words). While not providing a very fine-grained view of the legisigns involved, this would allow me to determine the overall tendency towards positive vs. negatively valenced language. Additionally, I am eager to analyze whether certain subsets of words are differentially used by male or female speakers, thus potentially conventionalizing the cultural norm that males and females should speak about the body in different ways. Finally, since \"Friends\" ran for ten consecutive years (1994-2004), looking at the temporal change in frequency of use of different words would serve as a proxy for understanding how these cultural patterns changed in that timespan. These follow-up analyses will allow me to more specifically identify how the kind of language that is being used in reference to body image in the show is being conventionalized into different cultural patterns both within the show, and through its viewers, potentially in the real world."
   ]
  }
 ],
 "metadata": {
  "kernelspec": {
   "display_name": "Python 3",
   "language": "python",
   "name": "python3"
  },
  "language_info": {
   "codemirror_mode": {
    "name": "ipython",
    "version": 3
   },
   "file_extension": ".py",
   "mimetype": "text/x-python",
   "name": "python",
   "nbconvert_exporter": "python",
   "pygments_lexer": "ipython3",
   "version": "3.7.4"
  }
 },
 "nbformat": 4,
 "nbformat_minor": 2
}
