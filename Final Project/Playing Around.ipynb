{
 "cells": [
  {
   "cell_type": "code",
   "execution_count": 1,
   "metadata": {},
   "outputs": [],
   "source": [
    "import pandas as pd"
   ]
  },
  {
   "cell_type": "code",
   "execution_count": 2,
   "metadata": {},
   "outputs": [],
   "source": [
    "df = pd.read_excel(\"Friends_Script.xlsx\")"
   ]
  },
  {
   "cell_type": "code",
   "execution_count": 3,
   "metadata": {},
   "outputs": [
    {
     "data": {
      "text/html": [
       "<div>\n",
       "<style scoped>\n",
       "    .dataframe tbody tr th:only-of-type {\n",
       "        vertical-align: middle;\n",
       "    }\n",
       "\n",
       "    .dataframe tbody tr th {\n",
       "        vertical-align: top;\n",
       "    }\n",
       "\n",
       "    .dataframe thead th {\n",
       "        text-align: right;\n",
       "    }\n",
       "</style>\n",
       "<table border=\"1\" class=\"dataframe\">\n",
       "  <thead>\n",
       "    <tr style=\"text-align: right;\">\n",
       "      <th></th>\n",
       "      <th>~~Output Dialog~~</th>\n",
       "      <th>~~Respect of User (OD)~~</th>\n",
       "      <th>~~Input Dialog~~</th>\n",
       "    </tr>\n",
       "  </thead>\n",
       "  <tbody>\n",
       "    <tr>\n",
       "      <th>0</th>\n",
       "      <td>Top of the world? Dock of the bay?  I'm out.</td>\n",
       "      <td>5</td>\n",
       "      <td>What am I sitting on?</td>\n",
       "    </tr>\n",
       "    <tr>\n",
       "      <th>1</th>\n",
       "      <td>Oh! Look at that, time's up! My turn!</td>\n",
       "      <td>7</td>\n",
       "      <td>I can't believe we've never done this before!...</td>\n",
       "    </tr>\n",
       "    <tr>\n",
       "      <th>2</th>\n",
       "      <td>Wow! Listen, we had a good run. What was it?...</td>\n",
       "      <td>6</td>\n",
       "      <td>Chandler!!! Chandler!!!  Chandler, I saw what...</td>\n",
       "    </tr>\n",
       "    <tr>\n",
       "      <th>3</th>\n",
       "      <td>Hey!</td>\n",
       "      <td>8</td>\n",
       "      <td>Hey!</td>\n",
       "    </tr>\n",
       "    <tr>\n",
       "      <th>4</th>\n",
       "      <td>Okay.</td>\n",
       "      <td>5</td>\n",
       "      <td>Okay, pick a card.</td>\n",
       "    </tr>\n",
       "  </tbody>\n",
       "</table>\n",
       "</div>"
      ],
      "text/plain": [
       "                                   ~~Output Dialog~~  \\\n",
       "0      Top of the world? Dock of the bay?  I'm out.    \n",
       "1             Oh! Look at that, time's up! My turn!    \n",
       "2    Wow! Listen, we had a good run. What was it?...   \n",
       "3                                              Hey!    \n",
       "4                                            Okay.     \n",
       "\n",
       "   ~~Respect of User (OD)~~                                   ~~Input Dialog~~  \n",
       "0                         5                             What am I sitting on?   \n",
       "1                         7   I can't believe we've never done this before!...  \n",
       "2                         6   Chandler!!! Chandler!!!  Chandler, I saw what...  \n",
       "3                         8                                              Hey!   \n",
       "4                         5                                Okay, pick a card.   "
      ]
     },
     "execution_count": 3,
     "metadata": {},
     "output_type": "execute_result"
    }
   ],
   "source": [
    "df.head()"
   ]
  },
  {
   "cell_type": "code",
   "execution_count": 4,
   "metadata": {},
   "outputs": [],
   "source": [
    "#clean data\n",
    "df.columns = [\"A\", \"B\", \"C\"]"
   ]
  },
  {
   "cell_type": "code",
   "execution_count": 5,
   "metadata": {},
   "outputs": [
    {
     "data": {
      "text/plain": [
       "0                               What am I sitting on? \n",
       "1     I can't believe we've never done this before!...\n",
       "2     Chandler!!! Chandler!!!  Chandler, I saw what...\n",
       "3                                                Hey! \n",
       "4                                  Okay, pick a card. \n",
       "Name: C, dtype: object"
      ]
     },
     "execution_count": 5,
     "metadata": {},
     "output_type": "execute_result"
    }
   ],
   "source": [
    "data1 = pd.Series(df[\"A\"])\n",
    "data2 = pd.Series(df[\"C\"])\n",
    "data1.head()\n",
    "data2.head()"
   ]
  },
  {
   "cell_type": "code",
   "execution_count": 50,
   "metadata": {},
   "outputs": [
    {
     "data": {
      "text/plain": [
       "RangeIndex(start=0, stop=15254, step=1)"
      ]
     },
     "execution_count": 50,
     "metadata": {},
     "output_type": "execute_result"
    }
   ],
   "source": [
    "data = data1.append(data2, ignore_index = True) # append second column to end of first in the form of a pandas series and ignore the index so it creates new index with correct length\n",
    "data.index"
   ]
  },
  {
   "cell_type": "code",
   "execution_count": 58,
   "metadata": {},
   "outputs": [
    {
     "data": {
      "text/plain": [
       "0        top of the world? dock of the bay?  i'm out. \n",
       "1               oh! look at that, time's up! my turn! \n",
       "2      wow! listen, we had a good run. what was it?...\n",
       "3                                                hey! \n",
       "4                                              okay.  \n",
       "dtype: object"
      ]
     },
     "execution_count": 58,
     "metadata": {},
     "output_type": "execute_result"
    }
   ],
   "source": [
    "# lower case everything\n",
    "data = [str.lower(item) for item in data]\n",
    "data = pd.Series(data)\n",
    "data.head()"
   ]
  },
  {
   "cell_type": "code",
   "execution_count": 347,
   "metadata": {},
   "outputs": [],
   "source": [
    "import re\n",
    "# create lists of bad and good words\n",
    "bad_words = [\"hottie\", \"sexy\", \"exercis\", \"waist\", \"busty\", \"fat \", \"fatso \", \"fatty\", \"big boned\", \"big-boned\", \"flab\", \"binge\", \" pig \", \"piggy\", \"pig out\", \"lard \", \"chunky\", \"weight\", \"skinny\", \" thin \", \"healthy\", \"athletic\", \"saggy\"]\n",
    "good_words = [\"sexy\", \"healthy\", \"thin\", \"skinny\", \"waist\", \"exercis\"]\n"
   ]
  },
  {
   "cell_type": "code",
   "execution_count": 348,
   "metadata": {},
   "outputs": [],
   "source": [
    "# create patterns for each item in lists of good and bad words\n",
    "bad_patterns = [re.compile(x) for x in bad_words]\n",
    "good_patterns = [re.compile(x) for x in good_words]"
   ]
  },
  {
   "cell_type": "code",
   "execution_count": 349,
   "metadata": {},
   "outputs": [],
   "source": [
    "# create function that searches for each of the patterns and returns a ghost list with all the strings where it found at least one of the patterns\n",
    "bad_ghost = []\n",
    "def present_bad(string):\n",
    "    for i in bad_patterns:\n",
    "        if i.search(string) != None:\n",
    "            bad_ghost.append(string)\n",
    "good_ghost = []\n",
    "def present_good(string):\n",
    "    for i in good_patterns:\n",
    "        if i.search(string) != None:\n",
    "            good_ghost.append(string)"
   ]
  },
  {
   "cell_type": "code",
   "execution_count": 350,
   "metadata": {},
   "outputs": [
    {
     "data": {
      "text/plain": [
       "0        None\n",
       "1        None\n",
       "2        None\n",
       "3        None\n",
       "4        None\n",
       "5        None\n",
       "6        None\n",
       "7        None\n",
       "8        None\n",
       "9        None\n",
       "10       None\n",
       "11       None\n",
       "12       None\n",
       "13       None\n",
       "14       None\n",
       "15       None\n",
       "16       None\n",
       "17       None\n",
       "18       None\n",
       "19       None\n",
       "20       None\n",
       "21       None\n",
       "22       None\n",
       "23       None\n",
       "24       None\n",
       "25       None\n",
       "26       None\n",
       "27       None\n",
       "28       None\n",
       "29       None\n",
       "         ... \n",
       "15224    None\n",
       "15225    None\n",
       "15226    None\n",
       "15227    None\n",
       "15228    None\n",
       "15229    None\n",
       "15230    None\n",
       "15231    None\n",
       "15232    None\n",
       "15233    None\n",
       "15234    None\n",
       "15235    None\n",
       "15236    None\n",
       "15237    None\n",
       "15238    None\n",
       "15239    None\n",
       "15240    None\n",
       "15241    None\n",
       "15242    None\n",
       "15243    None\n",
       "15244    None\n",
       "15245    None\n",
       "15246    None\n",
       "15247    None\n",
       "15248    None\n",
       "15249    None\n",
       "15250    None\n",
       "15251    None\n",
       "15252    None\n",
       "15253    None\n",
       "Length: 15254, dtype: object"
      ]
     },
     "execution_count": 350,
     "metadata": {},
     "output_type": "execute_result"
    }
   ],
   "source": [
    "#apply the functions to the full data\n",
    "data.apply(present_bad)\n",
    "data.apply(present_good)"
   ]
  },
  {
   "cell_type": "code",
   "execution_count": 352,
   "metadata": {},
   "outputs": [
    {
     "data": {
      "text/plain": [
       "[' ahh, hotties of the paleontology department, there\\x92s a big selling calendar, eh? ',\n",
       " \" woah, woah, i've put on a little weight? \",\n",
       " ' well, we\\'re talking about sperm donors and zack may be the guy! i mean, look, he\\'s intelligent, he\\'s healthy, he\\'s athletic, i mean, he is \"spermtastic\"! ',\n",
       " ' ah, you\\x92re still just a little fat girl inside aren\\x92t you?  ',\n",
       " ' nah, monica\\x92s watching some cooking show. come on, i don\\x92t want to miss when they were skinny. ']"
      ]
     },
     "execution_count": 352,
     "metadata": {},
     "output_type": "execute_result"
    }
   ],
   "source": [
    "# remove duplicate entries\n",
    "bad_ghost = list(dict.fromkeys(bad_ghost))\n",
    "bad_ghost[:5]"
   ]
  },
  {
   "cell_type": "code",
   "execution_count": 385,
   "metadata": {},
   "outputs": [
    {
     "data": {
      "text/plain": [
       "['hottie',\n",
       " 'hottie',\n",
       " 'sexy',\n",
       " 'sexy',\n",
       " 'sexy',\n",
       " 'sexy',\n",
       " 'sexy',\n",
       " 'sexy',\n",
       " 'sexy',\n",
       " 'sexy',\n",
       " 'sexy',\n",
       " 'sexy',\n",
       " 'sexy',\n",
       " 'waist',\n",
       " 'waist',\n",
       " 'waist',\n",
       " 'waist',\n",
       " 'fat ',\n",
       " 'fat ',\n",
       " 'fat ',\n",
       " 'fat ',\n",
       " 'fat ',\n",
       " 'fat ',\n",
       " 'fat ',\n",
       " 'fat ',\n",
       " 'fat ',\n",
       " 'fat ',\n",
       " 'fat ',\n",
       " 'fatty',\n",
       " 'flab',\n",
       " ' pig ',\n",
       " 'piggy',\n",
       " 'piggy',\n",
       " 'chunky',\n",
       " 'weight',\n",
       " 'weight',\n",
       " 'weight',\n",
       " 'weight',\n",
       " 'weight',\n",
       " 'skinny',\n",
       " 'skinny',\n",
       " ' thin ',\n",
       " 'healthy',\n",
       " 'healthy',\n",
       " 'healthy',\n",
       " 'healthy',\n",
       " 'healthy',\n",
       " 'healthy',\n",
       " 'athletic',\n",
       " 'saggy']"
      ]
     },
     "execution_count": 385,
     "metadata": {},
     "output_type": "execute_result"
    }
   ],
   "source": [
    "match = [re.search(pattern, string) for pattern in bad_patterns for string in bad_ghost] # create a \"match\" list that goes through each item in bad_ghost and returns the match object found \n",
    "matched_words = [i.group(0) for i in match if i != None] # if there is a match object, return the actual word that was matched\n",
    "matched_words"
   ]
  },
  {
   "cell_type": "code",
   "execution_count": 393,
   "metadata": {},
   "outputs": [
    {
     "data": {
      "text/html": [
       "<div>\n",
       "<style scoped>\n",
       "    .dataframe tbody tr th:only-of-type {\n",
       "        vertical-align: middle;\n",
       "    }\n",
       "\n",
       "    .dataframe tbody tr th {\n",
       "        vertical-align: top;\n",
       "    }\n",
       "\n",
       "    .dataframe thead th {\n",
       "        text-align: right;\n",
       "    }\n",
       "</style>\n",
       "<table border=\"1\" class=\"dataframe\">\n",
       "  <thead>\n",
       "    <tr style=\"text-align: right;\">\n",
       "      <th></th>\n",
       "      <th>Count</th>\n",
       "      <th>Word</th>\n",
       "    </tr>\n",
       "  </thead>\n",
       "  <tbody>\n",
       "    <tr>\n",
       "      <th>0</th>\n",
       "      <td>2</td>\n",
       "      <td>hottie</td>\n",
       "    </tr>\n",
       "    <tr>\n",
       "      <th>1</th>\n",
       "      <td>11</td>\n",
       "      <td>sexy</td>\n",
       "    </tr>\n",
       "    <tr>\n",
       "      <th>2</th>\n",
       "      <td>0</td>\n",
       "      <td>exercis</td>\n",
       "    </tr>\n",
       "    <tr>\n",
       "      <th>3</th>\n",
       "      <td>4</td>\n",
       "      <td>waist</td>\n",
       "    </tr>\n",
       "    <tr>\n",
       "      <th>4</th>\n",
       "      <td>0</td>\n",
       "      <td>busty</td>\n",
       "    </tr>\n",
       "    <tr>\n",
       "      <th>5</th>\n",
       "      <td>11</td>\n",
       "      <td>fat</td>\n",
       "    </tr>\n",
       "    <tr>\n",
       "      <th>6</th>\n",
       "      <td>0</td>\n",
       "      <td>fatso</td>\n",
       "    </tr>\n",
       "    <tr>\n",
       "      <th>7</th>\n",
       "      <td>1</td>\n",
       "      <td>fatty</td>\n",
       "    </tr>\n",
       "    <tr>\n",
       "      <th>8</th>\n",
       "      <td>0</td>\n",
       "      <td>big boned</td>\n",
       "    </tr>\n",
       "    <tr>\n",
       "      <th>9</th>\n",
       "      <td>0</td>\n",
       "      <td>big-boned</td>\n",
       "    </tr>\n",
       "    <tr>\n",
       "      <th>10</th>\n",
       "      <td>1</td>\n",
       "      <td>flab</td>\n",
       "    </tr>\n",
       "    <tr>\n",
       "      <th>11</th>\n",
       "      <td>0</td>\n",
       "      <td>binge</td>\n",
       "    </tr>\n",
       "    <tr>\n",
       "      <th>12</th>\n",
       "      <td>1</td>\n",
       "      <td>pig</td>\n",
       "    </tr>\n",
       "    <tr>\n",
       "      <th>13</th>\n",
       "      <td>2</td>\n",
       "      <td>piggy</td>\n",
       "    </tr>\n",
       "    <tr>\n",
       "      <th>14</th>\n",
       "      <td>0</td>\n",
       "      <td>pig out</td>\n",
       "    </tr>\n",
       "    <tr>\n",
       "      <th>15</th>\n",
       "      <td>0</td>\n",
       "      <td>lard</td>\n",
       "    </tr>\n",
       "    <tr>\n",
       "      <th>16</th>\n",
       "      <td>1</td>\n",
       "      <td>chunky</td>\n",
       "    </tr>\n",
       "    <tr>\n",
       "      <th>17</th>\n",
       "      <td>5</td>\n",
       "      <td>weight</td>\n",
       "    </tr>\n",
       "    <tr>\n",
       "      <th>18</th>\n",
       "      <td>2</td>\n",
       "      <td>skinny</td>\n",
       "    </tr>\n",
       "    <tr>\n",
       "      <th>19</th>\n",
       "      <td>1</td>\n",
       "      <td>thin</td>\n",
       "    </tr>\n",
       "    <tr>\n",
       "      <th>20</th>\n",
       "      <td>6</td>\n",
       "      <td>healthy</td>\n",
       "    </tr>\n",
       "    <tr>\n",
       "      <th>21</th>\n",
       "      <td>1</td>\n",
       "      <td>athletic</td>\n",
       "    </tr>\n",
       "    <tr>\n",
       "      <th>22</th>\n",
       "      <td>1</td>\n",
       "      <td>saggy</td>\n",
       "    </tr>\n",
       "  </tbody>\n",
       "</table>\n",
       "</div>"
      ],
      "text/plain": [
       "    Count       Word\n",
       "0       2     hottie\n",
       "1      11       sexy\n",
       "2       0    exercis\n",
       "3       4      waist\n",
       "4       0      busty\n",
       "5      11       fat \n",
       "6       0     fatso \n",
       "7       1      fatty\n",
       "8       0  big boned\n",
       "9       0  big-boned\n",
       "10      1       flab\n",
       "11      0      binge\n",
       "12      1       pig \n",
       "13      2      piggy\n",
       "14      0    pig out\n",
       "15      0      lard \n",
       "16      1     chunky\n",
       "17      5     weight\n",
       "18      2     skinny\n",
       "19      1      thin \n",
       "20      6    healthy\n",
       "21      1   athletic\n",
       "22      1      saggy"
      ]
     },
     "execution_count": 393,
     "metadata": {},
     "output_type": "execute_result"
    }
   ],
   "source": [
    "# create tally_df with a count of how many times each word in bad_words was matched in bad_ghost\n",
    "tally_df = pd.DataFrame({\"Word\": i, \"Count\": matched_words.count(i)} for i in bad_words)\n",
    "tally_df"
   ]
  },
  {
   "cell_type": "code",
   "execution_count": 396,
   "metadata": {},
   "outputs": [
    {
     "data": {
      "image/png": "[encoded data removed]",
      "text/plain": [
       "<Figure size 432x288 with 1 Axes>"
      ]
     },
     "metadata": {
      "needs_background": "light"
     },
     "output_type": "display_data"
    }
   ],
   "source": [
    "tally_df.plot.bar(x = \"Word\", y = \"Count\", title = \"Histogram of Matched Words\", legend = False);"
   ]
  },
  {
   "cell_type": "code",
   "execution_count": 238,
   "metadata": {},
   "outputs": [
    {
     "data": {
      "image/png": "[encoded data removed]",
      "text/plain": [
       "<Figure size 432x288 with 1 Axes>"
      ]
     },
     "metadata": {
      "needs_background": "light"
     },
     "output_type": "display_data"
    }
   ],
   "source": [
    "import matplotlib.pyplot as plt\n",
    "all_ghosts.plot(type = 'bar', x = 'title = \"Number of Bad vs. Good Words about Body Image\");"
   ]
  },
  {
   "cell_type": "markdown",
   "metadata": {},
   "source": [
    "## From final project - unused code"
   ]
  },
  {
   "cell_type": "code",
   "execution_count": null,
   "metadata": {},
   "outputs": [],
   "source": [
    "alt_script = soup.find_all('font')\n",
    "del alt_script[:4]\n",
    "alt_script\n",
    "list_script = [i.get_text() for i in alt_script]\n",
    "list_script\n",
    "list_script = pd.Series(list_script)\n",
    "Script = open(\"Script.txt\", \"w\")\n",
    "n = Script.write(script)\n",
    "Script.close()"
   ]
  }
 ],
 "metadata": {
  "kernelspec": {
   "display_name": "Python 3",
   "language": "python",
   "name": "python3"
  },
  "language_info": {
   "codemirror_mode": {
    "name": "ipython",
    "version": 3
   },
   "file_extension": ".py",
   "mimetype": "text/x-python",
   "name": "python",
   "nbconvert_exporter": "python",
   "pygments_lexer": "ipython3",
   "version": "3.7.4"
  }
 },
 "nbformat": 4,
 "nbformat_minor": 2
}
