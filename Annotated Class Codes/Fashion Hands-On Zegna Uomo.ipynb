{
 "cells": [
  {
   "cell_type": "markdown",
   "metadata": {},
   "source": [
    "*******\n",
    "\n",
    "# This section of code is optional\n",
    "It covers the process by which I downloaded the YouTube data we will be using for the lab (the end result of which is available on Canvas as a JSON). Scroll further down to see material necessary to in-class hands-on session."
   ]
  },
  {
   "cell_type": "code",
   "execution_count": 1,
   "metadata": {},
   "outputs": [
    {
     "name": "stdout",
     "output_type": "stream",
     "text": [
      "Requirement already satisfied: youtube_dl in c:\\users\\jon clindaniel\\anaconda3\\lib\\site-packages (2019.10.22)\n"
     ]
    }
   ],
   "source": [
    "#Install youtube-dl for downloading youtube videos/metadata (as well as information from other video streaming sites)\n",
    "!pip install youtube_dl #software written in python - ! signals a command line command from within jupyter notebook"
   ]
  },
  {
   "cell_type": "code",
   "execution_count": 2,
   "metadata": {},
   "outputs": [],
   "source": [
    "import youtube_dl\n",
    "import pandas as pd\n",
    "import requests\n",
    "import re"
   ]
  },
  {
   "cell_type": "code",
   "execution_count": 3,
   "metadata": {},
   "outputs": [
    {
     "name": "stdout",
     "output_type": "stream",
     "text": [
      "[youtube:search] query \"Zegna Uomo\": Downloading page 1\n",
      "[youtube:search] query \"Zegna Uomo\": Downloading page 2\n",
      "[youtube:search] query \"Zegna Uomo\": Downloading page 3\n",
      "[youtube:search] query \"Zegna Uomo\": Downloading page 4\n",
      "[youtube:search] query \"Zegna Uomo\": Downloading page 5\n",
      "[download] Downloading playlist: Zegna Uomo\n",
      "[youtube:search] playlist Zegna Uomo: Collected 100 video ids (downloading 100 of them)\n",
      "[download] Downloading video 1 of 100\n",
      "[youtube] Otqi2zZrRJM: Downloading webpage\n",
      "[youtube] Otqi2zZrRJM: Downloading video info webpage\n",
      "[youtube] Otqi2zZrRJM: Looking for automatic captions\n",
      "[download] Downloading video 2 of 100\n",
      "[youtube] 4cWpCynRQzw: Downloading webpage\n",
      "[youtube] 4cWpCynRQzw: Downloading video info webpage\n",
      "[youtube] 4cWpCynRQzw: Looking for automatic captions\n",
      "[download] Downloading video 3 of 100\n",
      "[youtube] axzIdt6rFYM: Downloading webpage\n",
      "[youtube] axzIdt6rFYM: Downloading video info webpage\n",
      "[youtube] axzIdt6rFYM: Looking for automatic captions\n",
      "[youtube] axzIdt6rFYM: Downloading MPD manifest\n",
      "[download] Downloading video 4 of 100\n",
      "[youtube] MibC6tRSBpk: Downloading webpage\n",
      "[youtube] MibC6tRSBpk: Downloading video info webpage\n",
      "[youtube] MibC6tRSBpk: Looking for automatic captions\n",
      "[download] Downloading video 5 of 100\n",
      "[youtube] ow3QAF_aB_M: Downloading webpage\n",
      "[youtube] ow3QAF_aB_M: Downloading video info webpage\n",
      "[youtube] ow3QAF_aB_M: Looking for automatic captions\n",
      "[youtube] ow3QAF_aB_M: Downloading MPD manifest\n",
      "[download] Downloading video 6 of 100\n",
      "[youtube] jlRLCn7cHeg: Downloading webpage\n",
      "[youtube] jlRLCn7cHeg: Downloading video info webpage\n",
      "[youtube] jlRLCn7cHeg: Looking for automatic captions\n",
      "[download] Downloading video 7 of 100\n",
      "[youtube] fOb2ZjaeNwQ: Downloading webpage\n",
      "[youtube] fOb2ZjaeNwQ: Downloading video info webpage\n",
      "[youtube] fOb2ZjaeNwQ: Looking for automatic captions\n",
      "[download] Downloading video 8 of 100\n",
      "[youtube] _9kTLCKna6U: Downloading webpage\n",
      "[youtube] _9kTLCKna6U: Downloading video info webpage\n",
      "[youtube] _9kTLCKna6U: Looking for automatic captions\n",
      "[download] Downloading video 9 of 100\n",
      "[youtube] wAeVZHHfqU8: Downloading webpage\n",
      "[youtube] wAeVZHHfqU8: Downloading video info webpage\n",
      "[youtube] wAeVZHHfqU8: Looking for automatic captions\n",
      "[download] Downloading video 10 of 100\n",
      "[youtube] dkoS8ZpiZ-U: Downloading webpage\n",
      "[youtube] dkoS8ZpiZ-U: Downloading video info webpage\n",
      "[youtube] dkoS8ZpiZ-U: Looking for automatic captions\n",
      "[youtube] dkoS8ZpiZ-U: Downloading MPD manifest\n",
      "[download] Downloading video 11 of 100\n",
      "[youtube] sWk94lBXuzk: Downloading webpage\n",
      "[youtube] sWk94lBXuzk: Downloading video info webpage\n",
      "[youtube] sWk94lBXuzk: Looking for automatic captions\n"
     ]
    },
    {
     "name": "stderr",
     "output_type": "stream",
     "text": [
      "WARNING: Couldn't find automatic captions for sWk94lBXuzk\n"
     ]
    },
    {
     "name": "stdout",
     "output_type": "stream",
     "text": [
      "[download] Downloading video 12 of 100\n",
      "[youtube] TFKz6QDY_9k: Downloading webpage\n",
      "[youtube] TFKz6QDY_9k: Downloading video info webpage\n",
      "[youtube] TFKz6QDY_9k: Looking for automatic captions\n",
      "[download] Downloading video 13 of 100\n",
      "[youtube] 6jeZgHWlsao: Downloading webpage\n",
      "[youtube] 6jeZgHWlsao: Downloading video info webpage\n",
      "[youtube] 6jeZgHWlsao: Looking for automatic captions\n",
      "[download] Downloading video 14 of 100\n",
      "[youtube] e1BxYRif2FM: Downloading webpage\n",
      "[youtube] e1BxYRif2FM: Downloading video info webpage\n",
      "[youtube] e1BxYRif2FM: Looking for automatic captions\n",
      "[download] Downloading video 15 of 100\n",
      "[youtube] 0uzaSR-9owA: Downloading webpage\n",
      "[youtube] 0uzaSR-9owA: Downloading video info webpage\n",
      "[youtube] 0uzaSR-9owA: Looking for automatic captions\n",
      "[youtube] 0uzaSR-9owA: Downloading MPD manifest\n",
      "[download] Downloading video 16 of 100\n",
      "[youtube] 51iCVeAYHro: Downloading webpage\n",
      "[youtube] 51iCVeAYHro: Downloading video info webpage\n",
      "[youtube] 51iCVeAYHro: Looking for automatic captions\n",
      "[download] Downloading video 17 of 100\n",
      "[youtube] 1mU6tQl1fHM: Downloading webpage\n",
      "[youtube] 1mU6tQl1fHM: Downloading video info webpage\n",
      "[youtube] 1mU6tQl1fHM: Looking for automatic captions\n",
      "[youtube] 1mU6tQl1fHM: Downloading MPD manifest\n",
      "[download] Downloading video 18 of 100\n",
      "[youtube] kQDK7WtkZSs: Downloading webpage\n",
      "[youtube] kQDK7WtkZSs: Downloading video info webpage\n",
      "[youtube] kQDK7WtkZSs: Looking for automatic captions\n",
      "[youtube] kQDK7WtkZSs: Downloading MPD manifest\n",
      "[download] Downloading video 19 of 100\n",
      "[youtube] eHbhTfOwZKI: Downloading webpage\n",
      "[youtube] eHbhTfOwZKI: Downloading video info webpage\n",
      "[youtube] eHbhTfOwZKI: Looking for automatic captions\n",
      "[download] Downloading video 20 of 100\n",
      "[youtube] QurSbRGy_r4: Downloading webpage\n",
      "[youtube] QurSbRGy_r4: Downloading video info webpage\n",
      "[youtube] QurSbRGy_r4: Looking for automatic captions\n"
     ]
    },
    {
     "name": "stderr",
     "output_type": "stream",
     "text": [
      "WARNING: Couldn't find automatic captions for QurSbRGy_r4\n"
     ]
    },
    {
     "name": "stdout",
     "output_type": "stream",
     "text": [
      "[download] Downloading video 21 of 100\n",
      "[youtube] myGkJ3fJjrQ: Downloading webpage\n",
      "[youtube] myGkJ3fJjrQ: Downloading video info webpage\n",
      "[youtube] myGkJ3fJjrQ: Looking for automatic captions\n",
      "[download] Downloading video 22 of 100\n",
      "[youtube] tgZis3DkQVo: Downloading webpage\n",
      "[youtube] tgZis3DkQVo: Downloading video info webpage\n",
      "[youtube] tgZis3DkQVo: Looking for automatic captions\n",
      "[download] Downloading video 23 of 100\n",
      "[youtube] ioSGxWHiaZU: Downloading webpage\n",
      "[youtube] ioSGxWHiaZU: Downloading video info webpage\n",
      "[youtube] ioSGxWHiaZU: Looking for automatic captions\n",
      "[download] Downloading video 24 of 100\n",
      "[youtube] QbkoRoZZ4gw: Downloading webpage\n",
      "[youtube] QbkoRoZZ4gw: Downloading video info webpage\n",
      "[youtube] QbkoRoZZ4gw: Looking for automatic captions\n"
     ]
    },
    {
     "name": "stderr",
     "output_type": "stream",
     "text": [
      "WARNING: Couldn't find automatic captions for QbkoRoZZ4gw\n"
     ]
    },
    {
     "name": "stdout",
     "output_type": "stream",
     "text": [
      "[download] Downloading video 25 of 100\n",
      "[youtube] YKx4BfZ2fJQ: Downloading webpage\n",
      "[youtube] YKx4BfZ2fJQ: Downloading video info webpage\n",
      "[youtube] YKx4BfZ2fJQ: Looking for automatic captions\n",
      "[download] Downloading video 26 of 100\n",
      "[youtube] d1_R6gFj_pw: Downloading webpage\n",
      "[youtube] d1_R6gFj_pw: Downloading video info webpage\n",
      "[youtube] d1_R6gFj_pw: Looking for automatic captions\n"
     ]
    },
    {
     "name": "stderr",
     "output_type": "stream",
     "text": [
      "WARNING: Couldn't find automatic captions for d1_R6gFj_pw\n"
     ]
    },
    {
     "name": "stdout",
     "output_type": "stream",
     "text": [
      "[download] Downloading video 27 of 100\n",
      "[youtube] 6jeZgHWlsao: Downloading webpage\n",
      "[youtube] 6jeZgHWlsao: Downloading video info webpage\n",
      "[youtube] 6jeZgHWlsao: Looking for automatic captions\n",
      "[download] Downloading video 28 of 100\n",
      "[youtube] UW-zHgizU3I: Downloading webpage\n",
      "[youtube] UW-zHgizU3I: Downloading video info webpage\n",
      "[youtube] UW-zHgizU3I: Looking for automatic captions\n"
     ]
    },
    {
     "name": "stderr",
     "output_type": "stream",
     "text": [
      "WARNING: Couldn't find automatic captions for UW-zHgizU3I\n"
     ]
    },
    {
     "name": "stdout",
     "output_type": "stream",
     "text": [
      "[download] Downloading video 29 of 100\n",
      "[youtube] hr6mpIasoOY: Downloading webpage\n",
      "[youtube] hr6mpIasoOY: Downloading video info webpage\n",
      "[youtube] hr6mpIasoOY: Looking for automatic captions\n",
      "[download] Downloading video 30 of 100\n",
      "[youtube] jacMq_BLeoE: Downloading webpage\n",
      "[youtube] jacMq_BLeoE: Downloading video info webpage\n",
      "[youtube] jacMq_BLeoE: Looking for automatic captions\n",
      "[youtube] jacMq_BLeoE: Downloading MPD manifest\n",
      "[download] Downloading video 31 of 100\n",
      "[youtube] Cfaz7OUDiZI: Downloading webpage\n",
      "[youtube] Cfaz7OUDiZI: Downloading video info webpage\n",
      "[youtube] Cfaz7OUDiZI: Looking for automatic captions\n"
     ]
    },
    {
     "name": "stderr",
     "output_type": "stream",
     "text": [
      "WARNING: Couldn't find automatic captions for Cfaz7OUDiZI\n"
     ]
    },
    {
     "name": "stdout",
     "output_type": "stream",
     "text": [
      "[youtube] Cfaz7OUDiZI: Downloading MPD manifest\n",
      "[download] Downloading video 32 of 100\n",
      "[youtube] zBaNNxIAOHM: Downloading webpage\n",
      "[youtube] zBaNNxIAOHM: Downloading video info webpage\n",
      "[youtube] zBaNNxIAOHM: Looking for automatic captions\n"
     ]
    },
    {
     "name": "stderr",
     "output_type": "stream",
     "text": [
      "WARNING: Couldn't find automatic captions for zBaNNxIAOHM\n"
     ]
    },
    {
     "name": "stdout",
     "output_type": "stream",
     "text": [
      "[download] Downloading video 33 of 100\n",
      "[youtube] KK4-El2cdPg: Downloading webpage\n",
      "[youtube] KK4-El2cdPg: Downloading video info webpage\n",
      "[youtube] KK4-El2cdPg: Looking for automatic captions\n",
      "[youtube] KK4-El2cdPg: Downloading MPD manifest\n",
      "[download] Downloading video 34 of 100\n",
      "[youtube] f_JX6vJDAUQ: Downloading webpage\n",
      "[youtube] f_JX6vJDAUQ: Downloading video info webpage\n",
      "[youtube] f_JX6vJDAUQ: Looking for automatic captions\n",
      "[download] Downloading video 35 of 100\n",
      "[youtube] JPfvHkFnmPY: Downloading webpage\n",
      "[youtube] JPfvHkFnmPY: Downloading video info webpage\n",
      "[youtube] JPfvHkFnmPY: Looking for automatic captions\n"
     ]
    },
    {
     "name": "stderr",
     "output_type": "stream",
     "text": [
      "WARNING: Couldn't find automatic captions for JPfvHkFnmPY\n"
     ]
    },
    {
     "name": "stdout",
     "output_type": "stream",
     "text": [
      "[download] Downloading video 36 of 100\n",
      "[youtube] GxXwzovGTPw: Downloading webpage\n",
      "[youtube] GxXwzovGTPw: Downloading video info webpage\n",
      "[youtube] GxXwzovGTPw: Looking for automatic captions\n",
      "[youtube] GxXwzovGTPw: Downloading MPD manifest\n",
      "[download] Downloading video 37 of 100\n",
      "[youtube] TFKz6QDY_9k: Downloading webpage\n",
      "[youtube] TFKz6QDY_9k: Downloading video info webpage\n",
      "[youtube] TFKz6QDY_9k: Looking for automatic captions\n",
      "[download] Downloading video 38 of 100\n",
      "[youtube] D8gdeC7BFRM: Downloading webpage\n",
      "[youtube] D8gdeC7BFRM: Downloading video info webpage\n",
      "[youtube] D8gdeC7BFRM: Looking for automatic captions\n",
      "[download] Downloading video 39 of 100\n",
      "[youtube] p9fE64CT0NE: Downloading webpage\n",
      "[youtube] p9fE64CT0NE: Downloading video info webpage\n",
      "[youtube] p9fE64CT0NE: Looking for automatic captions\n",
      "[youtube] p9fE64CT0NE: Downloading MPD manifest\n",
      "[download] Downloading video 40 of 100\n",
      "[youtube] xNHxfcnHZcQ: Downloading webpage\n",
      "[youtube] xNHxfcnHZcQ: Downloading video info webpage\n",
      "[youtube] xNHxfcnHZcQ: Looking for automatic captions\n"
     ]
    },
    {
     "name": "stderr",
     "output_type": "stream",
     "text": [
      "WARNING: Couldn't find automatic captions for xNHxfcnHZcQ\n"
     ]
    },
    {
     "name": "stdout",
     "output_type": "stream",
     "text": [
      "[youtube] xNHxfcnHZcQ: Downloading MPD manifest\n",
      "[download] Downloading video 41 of 100\n",
      "[youtube] 2oF1hP8XX8w: Downloading webpage\n",
      "[youtube] 2oF1hP8XX8w: Downloading video info webpage\n",
      "[youtube] 2oF1hP8XX8w: Looking for automatic captions\n"
     ]
    },
    {
     "name": "stderr",
     "output_type": "stream",
     "text": [
      "WARNING: Couldn't find automatic captions for 2oF1hP8XX8w\n"
     ]
    },
    {
     "name": "stdout",
     "output_type": "stream",
     "text": [
      "[download] Downloading video 42 of 100\n",
      "[youtube] NmsP5lzcbOI: Downloading webpage\n",
      "[youtube] NmsP5lzcbOI: Downloading video info webpage\n",
      "[youtube] NmsP5lzcbOI: Looking for automatic captions\n",
      "[download] Downloading video 43 of 100\n",
      "[youtube] YdMP9H4Tj5Y: Downloading webpage\n",
      "[youtube] YdMP9H4Tj5Y: Downloading video info webpage\n",
      "[youtube] YdMP9H4Tj5Y: Looking for automatic captions\n",
      "[download] Downloading video 44 of 100\n",
      "[youtube] QOvyr_EKV1g: Downloading webpage\n",
      "[youtube] QOvyr_EKV1g: Downloading video info webpage\n",
      "[youtube] QOvyr_EKV1g: Looking for automatic captions\n",
      "[download] Downloading video 45 of 100\n",
      "[youtube] xSLQGo833yU: Downloading webpage\n",
      "[youtube] xSLQGo833yU: Downloading video info webpage\n",
      "[youtube] xSLQGo833yU: Looking for automatic captions\n"
     ]
    },
    {
     "name": "stderr",
     "output_type": "stream",
     "text": [
      "WARNING: Couldn't find automatic captions for xSLQGo833yU\n"
     ]
    },
    {
     "name": "stdout",
     "output_type": "stream",
     "text": [
      "[download] Downloading video 46 of 100\n",
      "[youtube] xax2B82CMSo: Downloading webpage\n",
      "[youtube] xax2B82CMSo: Downloading video info webpage\n",
      "[youtube] xax2B82CMSo: Looking for automatic captions\n"
     ]
    },
    {
     "name": "stderr",
     "output_type": "stream",
     "text": [
      "WARNING: Couldn't find automatic captions for xax2B82CMSo\n"
     ]
    },
    {
     "name": "stdout",
     "output_type": "stream",
     "text": [
      "[download] Downloading video 47 of 100\n",
      "[youtube] 9pYLGO4PFXA: Downloading webpage\n",
      "[youtube] 9pYLGO4PFXA: Downloading video info webpage\n",
      "[youtube] 9pYLGO4PFXA: Looking for automatic captions\n",
      "[download] Downloading video 48 of 100\n",
      "[youtube] 5s-USM9zR0Y: Downloading webpage\n",
      "[youtube] 5s-USM9zR0Y: Downloading video info webpage\n",
      "[youtube] 5s-USM9zR0Y: Looking for automatic captions\n",
      "[download] Downloading video 49 of 100\n",
      "[youtube] 1_zMvtu8TM4: Downloading webpage\n",
      "[youtube] 1_zMvtu8TM4: Downloading video info webpage\n",
      "[youtube] 1_zMvtu8TM4: Looking for automatic captions\n",
      "[download] Downloading video 50 of 100\n",
      "[youtube] JLULjR_tmdo: Downloading webpage\n",
      "[youtube] JLULjR_tmdo: Downloading video info webpage\n",
      "[youtube] JLULjR_tmdo: Looking for automatic captions\n",
      "[download] Downloading video 51 of 100\n",
      "[youtube] SD-58GVj_30: Downloading webpage\n",
      "[youtube] SD-58GVj_30: Downloading video info webpage\n",
      "[youtube] SD-58GVj_30: Looking for automatic captions\n",
      "[download] Downloading video 52 of 100\n",
      "[youtube] cMPTxTSp20I: Downloading webpage\n",
      "[youtube] cMPTxTSp20I: Downloading video info webpage\n",
      "[youtube] cMPTxTSp20I: Looking for automatic captions\n",
      "[youtube] cMPTxTSp20I: Downloading MPD manifest\n",
      "[download] Downloading video 53 of 100\n",
      "[youtube] 7yNnMgbcR9U: Downloading webpage\n",
      "[youtube] 7yNnMgbcR9U: Downloading video info webpage\n",
      "[youtube] 7yNnMgbcR9U: Looking for automatic captions\n",
      "[download] Downloading video 54 of 100\n",
      "[youtube] RbeCmO-YQjw: Downloading webpage\n",
      "[youtube] RbeCmO-YQjw: Downloading video info webpage\n",
      "[youtube] RbeCmO-YQjw: Looking for automatic captions\n",
      "[youtube] RbeCmO-YQjw: Downloading MPD manifest\n",
      "[download] Downloading video 55 of 100\n",
      "[youtube] HGy89_EAEoQ: Downloading webpage\n",
      "[youtube] HGy89_EAEoQ: Downloading video info webpage\n",
      "[youtube] HGy89_EAEoQ: Looking for automatic captions\n"
     ]
    },
    {
     "name": "stderr",
     "output_type": "stream",
     "text": [
      "WARNING: Couldn't find automatic captions for HGy89_EAEoQ\n"
     ]
    },
    {
     "name": "stdout",
     "output_type": "stream",
     "text": [
      "[download] Downloading video 56 of 100\n",
      "[youtube] t426YWUgwNU: Downloading webpage\n",
      "[youtube] t426YWUgwNU: Downloading video info webpage\n",
      "[youtube] t426YWUgwNU: Looking for automatic captions\n"
     ]
    },
    {
     "name": "stderr",
     "output_type": "stream",
     "text": [
      "WARNING: Couldn't find automatic captions for t426YWUgwNU\n"
     ]
    },
    {
     "name": "stdout",
     "output_type": "stream",
     "text": [
      "[download] Downloading video 57 of 100\n",
      "[youtube] Kj_gvpRIo5k: Downloading webpage\n",
      "[youtube] Kj_gvpRIo5k: Downloading video info webpage\n",
      "[youtube] Kj_gvpRIo5k: Looking for automatic captions\n"
     ]
    },
    {
     "name": "stderr",
     "output_type": "stream",
     "text": [
      "WARNING: Couldn't find automatic captions for Kj_gvpRIo5k\n"
     ]
    },
    {
     "name": "stdout",
     "output_type": "stream",
     "text": [
      "[youtube] Kj_gvpRIo5k: Downloading MPD manifest\n",
      "[download] Downloading video 58 of 100\n",
      "[youtube] 3FW2wJgSmFY: Downloading webpage\n",
      "[youtube] 3FW2wJgSmFY: Downloading video info webpage\n",
      "[youtube] 3FW2wJgSmFY: Looking for automatic captions\n"
     ]
    },
    {
     "name": "stderr",
     "output_type": "stream",
     "text": [
      "WARNING: Couldn't find automatic captions for 3FW2wJgSmFY\n"
     ]
    },
    {
     "name": "stdout",
     "output_type": "stream",
     "text": [
      "[youtube] 3FW2wJgSmFY: Downloading MPD manifest\n",
      "[download] Downloading video 59 of 100\n",
      "[youtube] xE3mq6ST_LE: Downloading webpage\n",
      "[youtube] xE3mq6ST_LE: Downloading video info webpage\n",
      "[youtube] xE3mq6ST_LE: Looking for automatic captions\n"
     ]
    },
    {
     "name": "stderr",
     "output_type": "stream",
     "text": [
      "WARNING: Couldn't find automatic captions for xE3mq6ST_LE\n"
     ]
    },
    {
     "name": "stdout",
     "output_type": "stream",
     "text": [
      "[download] Downloading video 60 of 100\n",
      "[youtube] ofyA_gcOjV0: Downloading webpage\n",
      "[youtube] ofyA_gcOjV0: Downloading video info webpage\n",
      "[youtube] ofyA_gcOjV0: Looking for automatic captions\n"
     ]
    },
    {
     "name": "stderr",
     "output_type": "stream",
     "text": [
      "WARNING: Couldn't find automatic captions for ofyA_gcOjV0\n"
     ]
    },
    {
     "name": "stdout",
     "output_type": "stream",
     "text": [
      "[download] Downloading video 61 of 100\n",
      "[youtube] yP0YoXOH7d8: Downloading webpage\n",
      "[youtube] yP0YoXOH7d8: Downloading video info webpage\n",
      "[youtube] yP0YoXOH7d8: Looking for automatic captions\n"
     ]
    },
    {
     "name": "stderr",
     "output_type": "stream",
     "text": [
      "WARNING: Couldn't find automatic captions for yP0YoXOH7d8\n"
     ]
    },
    {
     "name": "stdout",
     "output_type": "stream",
     "text": [
      "[download] Downloading video 62 of 100\n",
      "[youtube] PdQXsLdkJX4: Downloading webpage\n",
      "[youtube] PdQXsLdkJX4: Downloading video info webpage\n",
      "[youtube] PdQXsLdkJX4: Looking for automatic captions\n",
      "[download] Downloading video 63 of 100\n",
      "[youtube] 8yDSqW_CS2o: Downloading webpage\n",
      "[youtube] 8yDSqW_CS2o: Downloading video info webpage\n",
      "[youtube] 8yDSqW_CS2o: Looking for automatic captions\n"
     ]
    },
    {
     "name": "stderr",
     "output_type": "stream",
     "text": [
      "WARNING: Couldn't find automatic captions for 8yDSqW_CS2o\n"
     ]
    },
    {
     "name": "stdout",
     "output_type": "stream",
     "text": [
      "[youtube] 8yDSqW_CS2o: Downloading MPD manifest\n",
      "[download] Downloading video 64 of 100\n",
      "[youtube] NTC1d50w_6M: Downloading webpage\n",
      "[youtube] NTC1d50w_6M: Downloading video info webpage\n",
      "[youtube] NTC1d50w_6M: Looking for automatic captions\n",
      "[youtube] NTC1d50w_6M: Downloading MPD manifest\n",
      "[download] Downloading video 65 of 100\n",
      "[youtube] 9QhrdZ-mRDk: Downloading webpage\n",
      "[youtube] 9QhrdZ-mRDk: Downloading video info webpage\n",
      "[youtube] 9QhrdZ-mRDk: Looking for automatic captions\n"
     ]
    },
    {
     "name": "stderr",
     "output_type": "stream",
     "text": [
      "WARNING: Couldn't find automatic captions for 9QhrdZ-mRDk\n"
     ]
    },
    {
     "name": "stdout",
     "output_type": "stream",
     "text": [
      "[download] Downloading video 66 of 100\n",
      "[youtube] MNp4KYzwSmI: Downloading webpage\n",
      "[youtube] MNp4KYzwSmI: Downloading video info webpage\n",
      "[youtube] MNp4KYzwSmI: Looking for automatic captions\n"
     ]
    },
    {
     "name": "stderr",
     "output_type": "stream",
     "text": [
      "WARNING: Couldn't find automatic captions for MNp4KYzwSmI\n"
     ]
    },
    {
     "name": "stdout",
     "output_type": "stream",
     "text": [
      "[youtube] MNp4KYzwSmI: Downloading MPD manifest\n",
      "[download] Downloading video 67 of 100\n",
      "[youtube] g-kn05gqJAA: Downloading webpage\n",
      "[youtube] g-kn05gqJAA: Downloading video info webpage\n",
      "[youtube] g-kn05gqJAA: Looking for automatic captions\n"
     ]
    },
    {
     "name": "stderr",
     "output_type": "stream",
     "text": [
      "WARNING: Couldn't find automatic captions for g-kn05gqJAA\n"
     ]
    },
    {
     "name": "stdout",
     "output_type": "stream",
     "text": [
      "[download] Downloading video 68 of 100\n",
      "[youtube] y4bvfXPQiEI: Downloading webpage\n",
      "[youtube] y4bvfXPQiEI: Downloading video info webpage\n",
      "[youtube] y4bvfXPQiEI: Looking for automatic captions\n"
     ]
    },
    {
     "name": "stderr",
     "output_type": "stream",
     "text": [
      "WARNING: Couldn't find automatic captions for y4bvfXPQiEI\n"
     ]
    },
    {
     "name": "stdout",
     "output_type": "stream",
     "text": [
      "[youtube] y4bvfXPQiEI: Downloading MPD manifest\n",
      "[download] Downloading video 69 of 100\n",
      "[youtube] wEQg-tguLmw: Downloading webpage\n",
      "[youtube] wEQg-tguLmw: Downloading video info webpage\n",
      "[youtube] wEQg-tguLmw: Looking for automatic captions\n"
     ]
    },
    {
     "name": "stderr",
     "output_type": "stream",
     "text": [
      "WARNING: Couldn't find automatic captions for wEQg-tguLmw\n"
     ]
    },
    {
     "name": "stdout",
     "output_type": "stream",
     "text": [
      "[youtube] wEQg-tguLmw: Downloading MPD manifest\n",
      "[download] Downloading video 70 of 100\n",
      "[youtube] 5S3pky9V0lA: Downloading webpage\n",
      "[youtube] 5S3pky9V0lA: Downloading video info webpage\n",
      "[youtube] 5S3pky9V0lA: Looking for automatic captions\n",
      "[download] Downloading video 71 of 100\n",
      "[youtube] R82UuGiG1cY: Downloading webpage\n",
      "[youtube] R82UuGiG1cY: Downloading video info webpage\n",
      "[youtube] R82UuGiG1cY: Looking for automatic captions\n"
     ]
    },
    {
     "name": "stderr",
     "output_type": "stream",
     "text": [
      "WARNING: Couldn't find automatic captions for R82UuGiG1cY\n"
     ]
    },
    {
     "name": "stdout",
     "output_type": "stream",
     "text": [
      "[download] Downloading video 72 of 100\n",
      "[youtube] 3o6IR1MXKQ8: Downloading webpage\n",
      "[youtube] 3o6IR1MXKQ8: Downloading video info webpage\n",
      "[youtube] 3o6IR1MXKQ8: Looking for automatic captions\n"
     ]
    },
    {
     "name": "stderr",
     "output_type": "stream",
     "text": [
      "WARNING: Couldn't find automatic captions for 3o6IR1MXKQ8\n"
     ]
    },
    {
     "name": "stdout",
     "output_type": "stream",
     "text": [
      "[youtube] 3o6IR1MXKQ8: Downloading MPD manifest\n",
      "[download] Downloading video 73 of 100\n",
      "[youtube] -ccf7LWCNds: Downloading webpage\n",
      "[youtube] -ccf7LWCNds: Downloading video info webpage\n",
      "[youtube] -ccf7LWCNds: Looking for automatic captions\n"
     ]
    },
    {
     "name": "stderr",
     "output_type": "stream",
     "text": [
      "WARNING: Couldn't find automatic captions for -ccf7LWCNds\n"
     ]
    },
    {
     "name": "stdout",
     "output_type": "stream",
     "text": [
      "[download] Downloading video 74 of 100\n",
      "[youtube] mRgyMuInMzI: Downloading webpage\n",
      "[youtube] mRgyMuInMzI: Downloading video info webpage\n",
      "[youtube] mRgyMuInMzI: Looking for automatic captions\n"
     ]
    },
    {
     "name": "stderr",
     "output_type": "stream",
     "text": [
      "WARNING: Couldn't find automatic captions for mRgyMuInMzI\n"
     ]
    },
    {
     "name": "stdout",
     "output_type": "stream",
     "text": [
      "[download] Downloading video 75 of 100\n",
      "[youtube] IxlIzlvt3Eo: Downloading webpage\n",
      "[youtube] IxlIzlvt3Eo: Downloading video info webpage\n",
      "[youtube] IxlIzlvt3Eo: Looking for automatic captions\n"
     ]
    },
    {
     "name": "stderr",
     "output_type": "stream",
     "text": [
      "WARNING: Couldn't find automatic captions for IxlIzlvt3Eo\n"
     ]
    },
    {
     "name": "stdout",
     "output_type": "stream",
     "text": [
      "[youtube] IxlIzlvt3Eo: Downloading MPD manifest\n",
      "[download] Downloading video 76 of 100\n",
      "[youtube] PvWNlvCIw4k: Downloading webpage\n",
      "[youtube] PvWNlvCIw4k: Downloading video info webpage\n",
      "[youtube] PvWNlvCIw4k: Looking for automatic captions\n"
     ]
    },
    {
     "name": "stderr",
     "output_type": "stream",
     "text": [
      "WARNING: Couldn't find automatic captions for PvWNlvCIw4k\n"
     ]
    },
    {
     "name": "stdout",
     "output_type": "stream",
     "text": [
      "[download] Downloading video 77 of 100\n",
      "[youtube] LA0WX1ujnOw: Downloading webpage\n",
      "[youtube] LA0WX1ujnOw: Downloading video info webpage\n",
      "[youtube] LA0WX1ujnOw: Looking for automatic captions\n"
     ]
    },
    {
     "name": "stderr",
     "output_type": "stream",
     "text": [
      "WARNING: Couldn't find automatic captions for LA0WX1ujnOw\n"
     ]
    },
    {
     "name": "stdout",
     "output_type": "stream",
     "text": [
      "[youtube] LA0WX1ujnOw: Downloading MPD manifest\n",
      "[download] Downloading video 78 of 100\n",
      "[youtube] lxZ_YFuQQ50: Downloading webpage\n",
      "[youtube] lxZ_YFuQQ50: Downloading video info webpage\n",
      "[youtube] lxZ_YFuQQ50: Looking for automatic captions\n"
     ]
    },
    {
     "name": "stderr",
     "output_type": "stream",
     "text": [
      "WARNING: Couldn't find automatic captions for lxZ_YFuQQ50\n"
     ]
    },
    {
     "name": "stdout",
     "output_type": "stream",
     "text": [
      "[youtube] lxZ_YFuQQ50: Downloading MPD manifest\n",
      "[download] Downloading video 79 of 100\n",
      "[youtube] Lrv61U4edTg: Downloading webpage\n",
      "[youtube] Lrv61U4edTg: Downloading video info webpage\n",
      "[youtube] Lrv61U4edTg: Looking for automatic captions\n"
     ]
    },
    {
     "name": "stderr",
     "output_type": "stream",
     "text": [
      "WARNING: Couldn't find automatic captions for Lrv61U4edTg\n"
     ]
    },
    {
     "name": "stdout",
     "output_type": "stream",
     "text": [
      "[download] Downloading video 80 of 100\n",
      "[youtube] _4fVVGfuJEc: Downloading webpage\n",
      "[youtube] _4fVVGfuJEc: Downloading video info webpage\n",
      "[youtube] _4fVVGfuJEc: Looking for automatic captions\n"
     ]
    },
    {
     "name": "stderr",
     "output_type": "stream",
     "text": [
      "WARNING: Couldn't find automatic captions for _4fVVGfuJEc\n"
     ]
    },
    {
     "name": "stdout",
     "output_type": "stream",
     "text": [
      "[youtube] _4fVVGfuJEc: Downloading MPD manifest\n",
      "[download] Downloading video 81 of 100\n",
      "[youtube] YyLBH-e_Iwc: Downloading webpage\n",
      "[youtube] YyLBH-e_Iwc: Downloading video info webpage\n",
      "[youtube] YyLBH-e_Iwc: Looking for automatic captions\n"
     ]
    },
    {
     "name": "stderr",
     "output_type": "stream",
     "text": [
      "WARNING: Couldn't find automatic captions for YyLBH-e_Iwc\n"
     ]
    },
    {
     "name": "stdout",
     "output_type": "stream",
     "text": [
      "[download] Downloading video 82 of 100\n",
      "[youtube] Ti_Z1vq1jSY: Downloading webpage\n",
      "[youtube] Ti_Z1vq1jSY: Downloading video info webpage\n",
      "[youtube] Ti_Z1vq1jSY: Looking for automatic captions\n",
      "[download] Downloading video 83 of 100\n",
      "[youtube] mcQ5EP8MJhI: Downloading webpage\n",
      "[youtube] mcQ5EP8MJhI: Downloading video info webpage\n",
      "[youtube] mcQ5EP8MJhI: Looking for automatic captions\n"
     ]
    },
    {
     "name": "stderr",
     "output_type": "stream",
     "text": [
      "WARNING: Couldn't find automatic captions for mcQ5EP8MJhI\n"
     ]
    },
    {
     "name": "stdout",
     "output_type": "stream",
     "text": [
      "[download] Downloading video 84 of 100\n",
      "[youtube] lDyLJlGkrqg: Downloading webpage\n",
      "[youtube] lDyLJlGkrqg: Downloading video info webpage\n",
      "[youtube] lDyLJlGkrqg: Looking for automatic captions\n"
     ]
    },
    {
     "name": "stderr",
     "output_type": "stream",
     "text": [
      "WARNING: Couldn't find automatic captions for lDyLJlGkrqg\n"
     ]
    },
    {
     "name": "stdout",
     "output_type": "stream",
     "text": [
      "[download] Downloading video 85 of 100\n",
      "[youtube] 8NojSCWiZXo: Downloading webpage\n",
      "[youtube] 8NojSCWiZXo: Downloading video info webpage\n",
      "[youtube] 8NojSCWiZXo: Looking for automatic captions\n"
     ]
    },
    {
     "name": "stderr",
     "output_type": "stream",
     "text": [
      "WARNING: Couldn't find automatic captions for 8NojSCWiZXo\n"
     ]
    },
    {
     "name": "stdout",
     "output_type": "stream",
     "text": [
      "[download] Downloading video 86 of 100\n",
      "[youtube] p8KUP3JNI4I: Downloading webpage\n",
      "[youtube] p8KUP3JNI4I: Downloading video info webpage\n",
      "[youtube] p8KUP3JNI4I: Looking for automatic captions\n"
     ]
    },
    {
     "name": "stderr",
     "output_type": "stream",
     "text": [
      "WARNING: Couldn't find automatic captions for p8KUP3JNI4I\n"
     ]
    },
    {
     "name": "stdout",
     "output_type": "stream",
     "text": [
      "[download] Downloading video 87 of 100\n",
      "[youtube] TeXQBMlZC8k: Downloading webpage\n",
      "[youtube] TeXQBMlZC8k: Downloading video info webpage\n",
      "[youtube] TeXQBMlZC8k: Looking for automatic captions\n"
     ]
    },
    {
     "name": "stderr",
     "output_type": "stream",
     "text": [
      "WARNING: Couldn't find automatic captions for TeXQBMlZC8k\n"
     ]
    },
    {
     "name": "stdout",
     "output_type": "stream",
     "text": [
      "[download] Downloading video 88 of 100\n",
      "[youtube] PQhnEgvTFmE: Downloading webpage\n",
      "[youtube] PQhnEgvTFmE: Downloading video info webpage\n",
      "[youtube] PQhnEgvTFmE: Looking for automatic captions\n"
     ]
    },
    {
     "name": "stderr",
     "output_type": "stream",
     "text": [
      "WARNING: Couldn't find automatic captions for PQhnEgvTFmE\n"
     ]
    },
    {
     "name": "stdout",
     "output_type": "stream",
     "text": [
      "[download] Downloading video 89 of 100\n",
      "[youtube] kAgsddZ6b8U: Downloading webpage\n",
      "[youtube] kAgsddZ6b8U: Downloading video info webpage\n",
      "[youtube] kAgsddZ6b8U: Looking for automatic captions\n"
     ]
    },
    {
     "name": "stderr",
     "output_type": "stream",
     "text": [
      "WARNING: Couldn't find automatic captions for kAgsddZ6b8U\n"
     ]
    },
    {
     "name": "stdout",
     "output_type": "stream",
     "text": [
      "[download] Downloading video 90 of 100\n",
      "[youtube] fGqT3lzOSKU: Downloading webpage\n",
      "[youtube] fGqT3lzOSKU: Downloading video info webpage\n",
      "[youtube] fGqT3lzOSKU: Looking for automatic captions\n"
     ]
    },
    {
     "name": "stderr",
     "output_type": "stream",
     "text": [
      "WARNING: Couldn't find automatic captions for fGqT3lzOSKU\n"
     ]
    },
    {
     "name": "stdout",
     "output_type": "stream",
     "text": [
      "[download] Downloading video 91 of 100\n",
      "[youtube] 20Uz-o0glEM: Downloading webpage\n",
      "[youtube] 20Uz-o0glEM: Downloading video info webpage\n",
      "[youtube] 20Uz-o0glEM: Looking for automatic captions\n",
      "[download] Downloading video 92 of 100\n",
      "[youtube] U5JiaQgEI84: Downloading webpage\n",
      "[youtube] U5JiaQgEI84: Downloading video info webpage\n",
      "[youtube] U5JiaQgEI84: Looking for automatic captions\n",
      "[youtube] U5JiaQgEI84: Downloading MPD manifest\n",
      "[download] Downloading video 93 of 100\n",
      "[youtube] 36hTaMiPLQ4: Downloading webpage\n",
      "[youtube] 36hTaMiPLQ4: Downloading video info webpage\n",
      "[youtube] 36hTaMiPLQ4: Looking for automatic captions\n"
     ]
    },
    {
     "name": "stderr",
     "output_type": "stream",
     "text": [
      "WARNING: Couldn't find automatic captions for 36hTaMiPLQ4\n"
     ]
    },
    {
     "name": "stdout",
     "output_type": "stream",
     "text": [
      "[download] Downloading video 94 of 100\n",
      "[youtube] BRogBKf9Bm8: Downloading webpage\n",
      "[youtube] BRogBKf9Bm8: Downloading video info webpage\n",
      "[youtube] BRogBKf9Bm8: Looking for automatic captions\n"
     ]
    },
    {
     "name": "stderr",
     "output_type": "stream",
     "text": [
      "WARNING: Couldn't find automatic captions for BRogBKf9Bm8\n"
     ]
    },
    {
     "name": "stdout",
     "output_type": "stream",
     "text": [
      "[download] Downloading video 95 of 100\n",
      "[youtube] Gq3LiSFx1t4: Downloading webpage\n",
      "[youtube] Gq3LiSFx1t4: Downloading video info webpage\n",
      "[youtube] Gq3LiSFx1t4: Looking for automatic captions\n"
     ]
    },
    {
     "name": "stderr",
     "output_type": "stream",
     "text": [
      "WARNING: Couldn't find automatic captions for Gq3LiSFx1t4\n"
     ]
    },
    {
     "name": "stdout",
     "output_type": "stream",
     "text": [
      "[youtube] Gq3LiSFx1t4: Downloading MPD manifest\n",
      "[download] Downloading video 96 of 100\n",
      "[youtube] 9dem-ZU9OLE: Downloading webpage\n",
      "[youtube] 9dem-ZU9OLE: Downloading video info webpage\n",
      "[youtube] 9dem-ZU9OLE: Looking for automatic captions\n",
      "[youtube] 9dem-ZU9OLE: Downloading MPD manifest\n",
      "[download] Downloading video 97 of 100\n",
      "[youtube] DieAckaG7TY: Downloading webpage\n",
      "[youtube] DieAckaG7TY: Downloading video info webpage\n",
      "[youtube] DieAckaG7TY: Looking for automatic captions\n"
     ]
    },
    {
     "name": "stderr",
     "output_type": "stream",
     "text": [
      "WARNING: Couldn't find automatic captions for DieAckaG7TY\n"
     ]
    },
    {
     "name": "stdout",
     "output_type": "stream",
     "text": [
      "[download] Downloading video 98 of 100\n",
      "[youtube] DsthYpCm0XM: Downloading webpage\n",
      "[youtube] DsthYpCm0XM: Downloading video info webpage\n",
      "[youtube] DsthYpCm0XM: Looking for automatic captions\n"
     ]
    },
    {
     "name": "stderr",
     "output_type": "stream",
     "text": [
      "WARNING: Couldn't find automatic captions for DsthYpCm0XM\n"
     ]
    },
    {
     "name": "stdout",
     "output_type": "stream",
     "text": [
      "[download] Downloading video 99 of 100\n",
      "[youtube] Aq_QxwNf5N8: Downloading webpage\n",
      "[youtube] Aq_QxwNf5N8: Downloading video info webpage\n",
      "[youtube] Aq_QxwNf5N8: Looking for automatic captions\n"
     ]
    },
    {
     "name": "stderr",
     "output_type": "stream",
     "text": [
      "WARNING: Couldn't find automatic captions for Aq_QxwNf5N8\n"
     ]
    },
    {
     "name": "stdout",
     "output_type": "stream",
     "text": [
      "[download] Downloading video 100 of 100\n",
      "[youtube] qNlo5ZuOdpA: Downloading webpage\n",
      "[youtube] qNlo5ZuOdpA: Downloading video info webpage\n",
      "[youtube] qNlo5ZuOdpA: Looking for automatic captions\n",
      "[download] Finished downloading playlist: Zegna Uomo\n"
     ]
    }
   ],
   "source": [
    "#perform a search \n",
    "ydl_opts = {'dump_single_json': True, 'writeautomaticsub': True, 'subtitleslangs': ['en']} #want as json, want subtitles in english\n",
    "with youtube_dl.YoutubeDL(ydl_opts) as ydl:\n",
    "    result = ydl.extract_info(\"ytsearch100:Zegna Uomo\", download=False) #(ytsearch100 b/c want top 100, no download of videos)"
   ]
  },
  {
   "cell_type": "code",
   "execution_count": 47,
   "metadata": {},
   "outputs": [
    {
     "data": {
      "text/html": [
       "<div>\n",
       "<style scoped>\n",
       "    .dataframe tbody tr th:only-of-type {\n",
       "        vertical-align: middle;\n",
       "    }\n",
       "\n",
       "    .dataframe tbody tr th {\n",
       "        vertical-align: top;\n",
       "    }\n",
       "\n",
       "    .dataframe thead th {\n",
       "        text-align: right;\n",
       "    }\n",
       "</style>\n",
       "<table border=\"1\" class=\"dataframe\">\n",
       "  <thead>\n",
       "    <tr style=\"text-align: right;\">\n",
       "      <th></th>\n",
       "      <th>Title</th>\n",
       "      <th>Description</th>\n",
       "      <th>Tags</th>\n",
       "      <th>Captions</th>\n",
       "    </tr>\n",
       "  </thead>\n",
       "  <tbody>\n",
       "    <tr>\n",
       "      <th>0</th>\n",
       "      <td>Uomo Ermenegildo Zegna for Men (2013)</td>\n",
       "      <td>a fragrance i TRULY love Frarantica Link    Fo...</td>\n",
       "      <td>zegna uomo fragrance review mens all year roun...</td>\n",
       "      <td>hey guys how are y'all doing I've been  mea...</td>\n",
       "    </tr>\n",
       "    <tr>\n",
       "      <th>1</th>\n",
       "      <td>Redolessence Smells &amp; Rates best Zegna fragrance</td>\n",
       "      <td>Facebook   Twitter   IG    Redolessence    Zeg...</td>\n",
       "      <td>best Zegna fragrance best Zegna cologne Zegna ...</td>\n",
       "      <td>what's going on guys so today's video I  go...</td>\n",
       "    </tr>\n",
       "    <tr>\n",
       "      <th>2</th>\n",
       "      <td>Ermenegildo Zegna Uomo (Review) 🔥🔥Cheapie sexi...</td>\n",
       "      <td></td>\n",
       "      <td></td>\n",
       "      <td>hey everybody welcome back     good      ev...</td>\n",
       "    </tr>\n",
       "    <tr>\n",
       "      <th>3</th>\n",
       "      <td>Uomo by Ermenegildo Zegna - A Quicky Review</td>\n",
       "      <td>Fragrantica Profile:    Zegna Website:</td>\n",
       "      <td>uomo Ermenegildo Zegna (Organization) fresh be...</td>\n",
       "      <td>come to another fragrance quickie and  toda...</td>\n",
       "    </tr>\n",
       "    <tr>\n",
       "      <th>4</th>\n",
       "      <td>FIRST IMPRESSION! | UOMO by Ermenegildo Zegna</td>\n",
       "      <td>HELLO EVERYONE!  Today at StudioScents I'm pre...</td>\n",
       "      <td>Fragrancepreview UOMO ErmenegildoZegna Firstim...</td>\n",
       "      <td>hi and welcome back to studio since I'm  To...</td>\n",
       "    </tr>\n",
       "  </tbody>\n",
       "</table>\n",
       "</div>"
      ],
      "text/plain": [
       "                                               Title  \\\n",
       "0              Uomo Ermenegildo Zegna for Men (2013)   \n",
       "1   Redolessence Smells & Rates best Zegna fragrance   \n",
       "2  Ermenegildo Zegna Uomo (Review) 🔥🔥Cheapie sexi...   \n",
       "3        Uomo by Ermenegildo Zegna - A Quicky Review   \n",
       "4      FIRST IMPRESSION! | UOMO by Ermenegildo Zegna   \n",
       "\n",
       "                                         Description  \\\n",
       "0  a fragrance i TRULY love Frarantica Link    Fo...   \n",
       "1  Facebook   Twitter   IG    Redolessence    Zeg...   \n",
       "2                                                      \n",
       "3           Fragrantica Profile:    Zegna Website:     \n",
       "4  HELLO EVERYONE!  Today at StudioScents I'm pre...   \n",
       "\n",
       "                                                Tags  \\\n",
       "0  zegna uomo fragrance review mens all year roun...   \n",
       "1  best Zegna fragrance best Zegna cologne Zegna ...   \n",
       "2                                                      \n",
       "3  uomo Ermenegildo Zegna (Organization) fresh be...   \n",
       "4  Fragrancepreview UOMO ErmenegildoZegna Firstim...   \n",
       "\n",
       "                                            Captions  \n",
       "0     hey guys how are y'all doing I've been  mea...  \n",
       "1     what's going on guys so today's video I  go...  \n",
       "2     hey everybody welcome back     good      ev...  \n",
       "3     come to another fragrance quickie and  toda...  \n",
       "4     hi and welcome back to studio since I'm  To...  "
      ]
     },
     "execution_count": 47,
     "metadata": {},
     "output_type": "execute_result"
    }
   ],
   "source": [
    "tag_re = re.compile(r'<[^>]+>') #useful but complicated thing to clean text data\n",
    "link_re = re.compile(r'http\\S+|\\d+') #remove html dirtiness\n",
    "\n",
    "def remove_tags(text):\n",
    "    return tag_re.sub(' ', text)\n",
    "\n",
    "def remove_links(text):\n",
    "    return link_re.sub(' ', text)\n",
    "\n",
    "\n",
    "title, description, tags, captions = ([] for i in range(4))\n",
    "\n",
    "for i in result['entries']:\n",
    "    # append each item to a separate list and then add them as a dictionary to dataframe all at once after the loop has run\n",
    "    title.append(i['title'])\n",
    "    description.append(remove_links(i['description']).replace('\\n',' '))\n",
    "    tags.append(remove_links(' '.join(i['tags'])))\n",
    "    if 'en' in i['automatic_captions']:\n",
    "        auto_captions = requests.get(i['automatic_captions']['en'][0]['url'])\n",
    "        auto_captions_clean = remove_tags(auto_captions.text).replace('&amp;#39;', \"'\")         \\\n",
    "                                                             .replace('&lt;font',\" \")           \\\n",
    "                                                             .replace('color=&quot;', \" \")      \\\n",
    "                                                             .replace('&lt;/font&gt;', \" \")     \\\n",
    "                                                             .replace('#CCCCCC&quot;&gt;', \" \") \\\n",
    "                                                             .replace('#E5E5E5&quot;&gt;', \" \")\n",
    "        captions.append(auto_captions_clean)\n",
    "    else:\n",
    "        captions.append(float('nan')) #if no captions affiliated, just drop\n",
    "\n",
    "uomo_yt_df = pd.DataFrame({'Title': title, 'Description': description, 'Tags': tags, 'Captions': captions})\n",
    "\n",
    "# uomo_yt_df.to_json('uomo_yt100.json') # save dataframe to JSON\n",
    "\n",
    "uomo_yt_df.head()\n",
    "#end result is pandas dataframe that takes values in as columns - video titles, decriptions, tags and full captions"
   ]
  },
  {
   "cell_type": "markdown",
   "metadata": {},
   "source": [
    "**************\n",
    "\n",
    "## In-class Hands-on material begins here:\n",
    "Before class, please download the \"gensim\" package and run the following code cell to download several items for NLTK (Natural Language Toolkit) we will be using in the lab. You can do this by clicking on your 'Anaconda Navigator' Program and completing the [following instructions](https://stackoverflow.com/questions/39299726/cant-find-package-on-anaconda-navigator-what-to-do-next), or by accessing your terminal and typing `conda install gensim` (and completing the installation process)."
   ]
  },
  {
   "cell_type": "code",
   "execution_count": 57,
   "metadata": {},
   "outputs": [],
   "source": [
    "import pandas as pd\n",
    "import nltk\n",
    "import matplotlib.pyplot as plt\n",
    "from gensim import corpora, models\n",
    "\n",
    "\n",
    "nltk.download('punkt')\n",
    "nltk.download('averaged_perceptron_tagger')\n",
    "nltk.download('tagsets') \n",
    "nltk.download('stopwords')\n",
    "nltk.download('wordnet')\n",
    "\n",
    "# Read in Youtube Data for Uomo\n",
    "uomo_yt_df = pd.read_json('uomo_yt100.json')\n",
    "\n",
    "# Drop any video entries that are missing metadata\n",
    "uomo_yt_df.dropna(inplace=True) \n",
    "\n",
    "###### in class #####\n",
    "\n",
    "#nltk allows you to tag parts of speech (i.e. verb, noun, etc)\n",
    "# find what kind of adjectives are associated with product - need to use a .apply function to run through each row in df\n",
    "def pos_tag(text):\n",
    "    import string\n",
    "    \n",
    "    stop=nltk.corpus.stopwords.words('english') + list(string.punctuation) + [\"amp\", \"39\"] #when working with text, want to identify stop words (that occur a lot) but don't have to do with analyses - e.g. the, it, etc + also get rid of punctuation + get rid of apostrophes b/c of the way they are encoded from API\n",
    "    # now have sentences in long strings so need to split into words - tokenization\n",
    "    tokens = [i for i in nltk.word_tokenize(text.lower()) if i not in stop] #list comprehension - create list of for loop outputs - very fast, want to use\n",
    "    #above: tokenization splits string up by spaces, lower case everything, loop: for each entry in list of words, if not a stopword, then include in list\n",
    "    pos_tagged = nltk.pos_tag(tokens) #tag parts of speech using nltk (uses probability)\n",
    "    return pos_tagged #takes in text string and spits out list of words with part of speech tagged\n",
    "#apply function to captions\n",
    "pos_tagged_captions = uomo_yt_df['Captions'].apply(pos_tag)\n",
    "pos_tagged_captions\n",
    "#to look up what different tags mean\n",
    "nltk.help.upenn_tagset('JJ')\n",
    "#need to put captions into one object in order to find frequencies\n",
    "pos_tagged_captions_full = [] #start off with empty list\n",
    "for i in pos_tagged_captions: #for each row in cpations column\n",
    "    pos_tagged_captions_full.extend(i) #add row into general list of items\n",
    "\n",
    "#nltk has built in frequency distribution function\n",
    "fd = nltk.FreqDist(word + \"/\" + tag for (word, tag) in pos_tagged_captions_full if tag[:2] == 'JJ') #label specified by word itself, separated by slash and then given tag (should be JJ b/c looking for adjectives)\n",
    "#plot\n",
    "fd.plot()\n",
    "#result: plot with every adjective listed in whole data\n",
    "fd.plot(20, title = 'Overall Frequency of top 20 adjectives in youtube captions for UOMO') #get top 20 words to solve above issue\n",
    "\n",
    "# put code into function so we can plot adjective frequencies for diff. parts of original dataframe (i.e. description, captions, etc)\n",
    "def plot_top_adj(series, data_description):\n",
    "    pos_tagged = series.apply(pos_tag)\n",
    "    pos_tagged_full = []\n",
    "    for i in pos_tagged:\n",
    "        pos_tagged_full.extend(i)\n",
    "        \n",
    "    fd = nltk.FreqDist(word + \"/\" + tag for (word, tag) in pos_tagged_full if tag[:2] == 'JJ') \n",
    "    fd.plot(10, title = 'Top 10 Adjectives for' + data_description)\n",
    "    return\n",
    "\n",
    "plot_top_adj(uomo_yt_df['Description'], 'Youtube Uomo Descriptions')\n",
    "\n",
    "# verbs and nouns can have diff. forms for the same thing - lemetize: need to cut down to essential form (standardize)\n",
    "#make function to find part of speech\n",
    "def get_wordnet_pos(word): #put in word, tag with the key we create below, then output the nouns\n",
    "    tag = nltk.pos_tag([word])[0][1][0].upper()#have to put into list because of pos_tag input, slices to be taken, upper = uppercase because it likes it that way\n",
    "    tag_dict = {\n",
    "        \"J\" = nltk.corpus.wordnet.ADJ,\n",
    "        \"N\" = nltk.corpus.wordnet.NOUN,\n",
    "        \"V\" = nltk.corpus.wordnet.VERB,\n",
    "        \"R\" = nltk.corpus.wordnet.ADV\n",
    "    }\n",
    "    return tag_dict.get(tag, nltk.corpus.wordnet.NOUN) #getting all the nouns\n",
    "\n",
    "def get_lemmas(text): #make function to find lemmas\n",
    "    import string #because did not include at top in packages imported\n",
    "    stop=nltk.corpus.stopwords.words('english') + list(string.punctuation) + [\"amp\", \"39\"] #when working with text, want to identify stop words (that occur a lot) but don't have to do with analyses - e.g. the, it, etc + also get rid of punctuation + get rid of apostrophes b/c of the way they are encoded from API\n",
    "    tokens = [i for i in nltk.word_tokenize(text.lower()) if i not in stop] #list comprehension - create list of for loop outputs - very fast, want to use\n",
    "    lemmas = [nltk.stem.WordNetLemmatizer().lemmatize(t, get_wordnet_pos(t)) for t in tokens] #use nltk function that knows lemmas (stems) of most words, t for token, have to tell it part of speech so it can get correct lemmas\n",
    "    return lemmas\n",
    "\n",
    "def plot_top_lemmas(series, data_description):\n",
    "    lemmas = series.apply(get_lemmas)\n",
    "    lemmas_full = []\n",
    "    for i in lemmas:\n",
    "        lemmas_full.extend(i)\n",
    "        \n",
    "    nltk.FreqDist(lemmas_full).plot(10, title = 'Top 10 Lemmas Overall for ' + data_description);\n",
    "    return\n",
    "\n",
    "plot_top_lemmas(uomo_yt_df['Captions'], 'YouTube Captions')\n",
    "\n",
    "##### TF-IDF : weighting factor that shows how much a word is used in a document - gets rid of really common words (e.g. facebook,zegna) and brings out unique words that still happen often\n",
    "#function to pull out tf-idf values\n",
    "def plot_top_tfidf(series, data_description):\n",
    "    lemmas = series.apply(get_lemmas)\n",
    "    dictionary = corpora.Dictionary([i for i in lemmas]) #different dictionary (from gensim package, not normal dictionary we talk about)\n",
    "    #bag of words (bow): every unique word is represented with an ID number- bag of tuples with (word ID, number of times it appears)\n",
    "    bow_corpus = [dictionary.doc2bow(text) for text in lemmas] #push each row in lemmas through bag of words thing\n",
    "    tfidf = models.TfidfModel(bow_corpus)\n",
    "    tfidf_weights = tfidf[bow_corpus[0]] #calculate tfidf weight - what we're actually interested in\n",
    "    #sort from highest to lowest in dictionary with keys and values\n",
    "    sorted_tfidf_weights = sorted(tfidf_weights, key = lambda w: w[1], reverse=True) #lambda function is doing stuff under hood\n",
    "    #use dictionary comprehension - instead of i for i in a list, use key values\n",
    "    top_10 = {dictionary[k]:v for k,v in sorted_tfidf_weights[:10]} #get original word and tfidf weight\n",
    "    plt.plot(list(top_10.keys()), list(top_10.values())) #plot keys on x and values (tfidf weights) on y\n",
    "    plt.xticks(rotation = 'vertical')\n",
    "    plt.title('Tope 10 Lemmas (TFIDF) for '+ data_description);\n",
    "    return\n",
    "#use plot function on captions\n",
    "plot_top_tfidf(uomo_yt_df['Captions'], 'Youtube Uomo Captions')\n",
    "\n",
    "\n",
    "#### amazon reviews ####\n",
    "#read in\n",
    "amazon_rev_df = pd.read_csv('uomo_amazon.csv')\n",
    "#plot top adjectives using function made above\n",
    "plot_top_adj(amazon_rev_df['review'], 'Reviews')\n",
    "#plot top lemmas using function made above\n",
    "plot_top_tfidf(amazon_rev_df['review'], 'Reviews')\n"
   ]
  },
  {
   "cell_type": "markdown",
   "metadata": {},
   "source": [
    "******************"
   ]
  }
 ],
 "metadata": {
  "kernelspec": {
   "display_name": "Python 3",
   "language": "python",
   "name": "python3"
  },
  "language_info": {
   "codemirror_mode": {
    "name": "ipython",
    "version": 3
   },
   "file_extension": ".py",
   "mimetype": "text/x-python",
   "name": "python",
   "nbconvert_exporter": "python",
   "pygments_lexer": "ipython3",
   "version": "3.7.4"
  }
 },
 "nbformat": 4,
 "nbformat_minor": 2
}
