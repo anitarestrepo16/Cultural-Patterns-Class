{
 "cells": [
  {
   "cell_type": "markdown",
   "metadata": {},
   "source": [
    "# Hands-on: Deciphering Inka Khipu Signs\n"
   ]
  },
  {
   "cell_type": "code",
   "execution_count": 1,
   "metadata": {},
   "outputs": [],
   "source": [
    "#function that develops plot with 95% CI and then scatterplot overlayed with likelihood that expected values fit with data\n",
    "import pandas as pd\n",
    "import matplotlib.pyplot as plt\n",
    "import numpy as np\n",
    "\n",
    "def plot_multi_proportion_confint_digits(actual_first_digit_frequencies, \n",
    "                                         actual_first_digit_counts, \n",
    "                                         expected_first_digit_frequencies,\n",
    "                                         label_actual,\n",
    "                                         label_expected,\n",
    "                                         title\n",
    "                                        ):\n",
    "    # Import function-specific package:\n",
    "    from statsmodels.stats.proportion import multinomial_proportions_confint\n",
    "    \n",
    "    # Plot 95% CIs as lines with caps on the top and bottom for easier interpretation\n",
    "    plt.figure(figsize=(9,5))\n",
    "\n",
    "    (_, caps, _) = plt.errorbar(x=np.arange(1, 10, 1), \n",
    "                     y=actual_first_digit_frequencies, \n",
    "                     yerr=[(top-bot)/2 for top,bot in multinomial_proportions_confint(actual_first_digit_counts)],\n",
    "                     capsize=5, fmt='none', label=label_actual+' 95% CI')\n",
    "\n",
    "    for cap in caps:\n",
    "        cap.set_markeredgewidth(1)\n",
    "\n",
    "    # Plot expected values as scatter plot points, in order to visualize where CIs include expected values\n",
    "    plt.scatter(np.arange(1,10,1), expected_first_digit_frequencies, label=label_expected, color='red')\n",
    "    \n",
    "    # Format \n",
    "    plt.xticks([1,2,3,4,5,6,7,8,9])\n",
    "    plt.xlabel('First Digits')\n",
    "    plt.ylabel('Frequency')\n",
    "    plt.title(title)\n",
    "    plt.legend();\n",
    "    \n",
    "    return"
   ]
  },
  {
   "cell_type": "code",
   "execution_count": 2,
   "metadata": {},
   "outputs": [],
   "source": [
    "#first look at census data to understand Benford's Law\n",
    "population_df = pd.read_csv('Population_by_County_2010_Census.csv')"
   ]
  },
  {
   "cell_type": "code",
   "execution_count": 3,
   "metadata": {},
   "outputs": [
    {
     "data": {
      "text/html": [
       "<div>\n",
       "<style scoped>\n",
       "    .dataframe tbody tr th:only-of-type {\n",
       "        vertical-align: middle;\n",
       "    }\n",
       "\n",
       "    .dataframe tbody tr th {\n",
       "        vertical-align: top;\n",
       "    }\n",
       "\n",
       "    .dataframe thead th {\n",
       "        text-align: right;\n",
       "    }\n",
       "</style>\n",
       "<table border=\"1\" class=\"dataframe\">\n",
       "  <thead>\n",
       "    <tr style=\"text-align: right;\">\n",
       "      <th></th>\n",
       "      <th>GEO.id</th>\n",
       "      <th>GEO.id2</th>\n",
       "      <th>Geography</th>\n",
       "      <th>Population</th>\n",
       "    </tr>\n",
       "  </thead>\n",
       "  <tbody>\n",
       "    <tr>\n",
       "      <th>0</th>\n",
       "      <td>0500000US01001</td>\n",
       "      <td>1001</td>\n",
       "      <td>Autauga County, Alabama</td>\n",
       "      <td>54571</td>\n",
       "    </tr>\n",
       "    <tr>\n",
       "      <th>1</th>\n",
       "      <td>0500000US01003</td>\n",
       "      <td>1003</td>\n",
       "      <td>Baldwin County, Alabama</td>\n",
       "      <td>182265</td>\n",
       "    </tr>\n",
       "    <tr>\n",
       "      <th>2</th>\n",
       "      <td>0500000US01005</td>\n",
       "      <td>1005</td>\n",
       "      <td>Barbour County, Alabama</td>\n",
       "      <td>27457</td>\n",
       "    </tr>\n",
       "    <tr>\n",
       "      <th>3</th>\n",
       "      <td>0500000US01007</td>\n",
       "      <td>1007</td>\n",
       "      <td>Bibb County, Alabama</td>\n",
       "      <td>22915</td>\n",
       "    </tr>\n",
       "    <tr>\n",
       "      <th>4</th>\n",
       "      <td>0500000US01009</td>\n",
       "      <td>1009</td>\n",
       "      <td>Blount County, Alabama</td>\n",
       "      <td>57322</td>\n",
       "    </tr>\n",
       "  </tbody>\n",
       "</table>\n",
       "</div>"
      ],
      "text/plain": [
       "           GEO.id  GEO.id2                Geography  Population\n",
       "0  0500000US01001     1001  Autauga County, Alabama       54571\n",
       "1  0500000US01003     1003  Baldwin County, Alabama      182265\n",
       "2  0500000US01005     1005  Barbour County, Alabama       27457\n",
       "3  0500000US01007     1007     Bibb County, Alabama       22915\n",
       "4  0500000US01009     1009   Blount County, Alabama       57322"
      ]
     },
     "execution_count": 3,
     "metadata": {},
     "output_type": "execute_result"
    }
   ],
   "source": [
    "population_df.head()"
   ]
  },
  {
   "cell_type": "code",
   "execution_count": 4,
   "metadata": {},
   "outputs": [],
   "source": [
    "#don't care about counties, just want digits of population\n",
    "population_size = population_df['Population']"
   ]
  },
  {
   "cell_type": "code",
   "execution_count": 5,
   "metadata": {},
   "outputs": [],
   "source": [
    "#define function that returns first digit of number we feed into it\n",
    "def first_digit(number):\n",
    "    return int(str(number)[0]) #turn into string to isolate first element then turn back into integer"
   ]
  },
  {
   "cell_type": "code",
   "execution_count": 6,
   "metadata": {},
   "outputs": [],
   "source": [
    "#apply to population_size\n",
    "first_digits_population_size = population_size.apply(first_digit)"
   ]
  },
  {
   "cell_type": "code",
   "execution_count": 8,
   "metadata": {},
   "outputs": [
    {
     "data": {
      "text/plain": [
       "0    5\n",
       "1    1\n",
       "2    2\n",
       "3    2\n",
       "4    5\n",
       "Name: Population, dtype: int64"
      ]
     },
     "execution_count": 8,
     "metadata": {},
     "output_type": "execute_result"
    }
   ],
   "source": [
    "first_digits_population_size.head()"
   ]
  },
  {
   "cell_type": "code",
   "execution_count": 10,
   "metadata": {},
   "outputs": [
    {
     "data": {
      "text/plain": [
       "1    0.303310\n",
       "2    0.189052\n",
       "3    0.119032\n",
       "4    0.098027\n",
       "5    0.067791\n",
       "6    0.066836\n",
       "7    0.057925\n",
       "8    0.048377\n",
       "9    0.049650\n",
       "Name: Population, dtype: float64"
      ]
     },
     "execution_count": 10,
     "metadata": {},
     "output_type": "execute_result"
    }
   ],
   "source": [
    "#figure out frequencies in form of proportion #value_counts returns counts for each individual element\n",
    "first_digit_frequencies = first_digits_population_size.value_counts()/len(first_digits_population_size)\n",
    "#sort index so ordered from numbers 1 -9 \n",
    "first_digit_frequencies.sort_index(inplace = True)\n",
    "first_digit_frequencies"
   ]
  },
  {
   "cell_type": "code",
   "execution_count": 11,
   "metadata": {},
   "outputs": [
    {
     "data": {
      "image/png": "[encoded data removed]",
      "text/plain": [
       "<Figure size 432x288 with 1 Axes>"
      ]
     },
     "metadata": {
      "needs_background": "light"
     },
     "output_type": "display_data"
    }
   ],
   "source": [
    "#now plot!\n",
    "first_digit_frequencies.plot(kind = 'bar', title = 'First Digits of Population Size by US County');"
   ]
  },
  {
   "cell_type": "markdown",
   "metadata": {},
   "source": [
    "Pandas does not allow axis labeling with plot function - need to use plt"
   ]
  },
  {
   "cell_type": "code",
   "execution_count": 13,
   "metadata": {},
   "outputs": [
    {
     "data": {
      "image/png": "[encoded data removed]",
      "text/plain": [
       "<Figure size 432x288 with 1 Axes>"
      ]
     },
     "metadata": {
      "needs_background": "light"
     },
     "output_type": "display_data"
    }
   ],
   "source": [
    "first_digit_frequencies.plot(kind = 'bar', title = 'First Digits of Population Size by US County');\n",
    "plt.xlabel('First Digits')\n",
    "plt.ylabel('Frequency');"
   ]
  },
  {
   "cell_type": "code",
   "execution_count": 21,
   "metadata": {},
   "outputs": [
    {
     "data": {
      "text/html": [
       "<div>\n",
       "<style scoped>\n",
       "    .dataframe tbody tr th:only-of-type {\n",
       "        vertical-align: middle;\n",
       "    }\n",
       "\n",
       "    .dataframe tbody tr th {\n",
       "        vertical-align: top;\n",
       "    }\n",
       "\n",
       "    .dataframe thead th {\n",
       "        text-align: right;\n",
       "    }\n",
       "</style>\n",
       "<table border=\"1\" class=\"dataframe\">\n",
       "  <thead>\n",
       "    <tr style=\"text-align: right;\">\n",
       "      <th></th>\n",
       "      <th>Actual</th>\n",
       "      <th>Expected</th>\n",
       "    </tr>\n",
       "  </thead>\n",
       "  <tbody>\n",
       "    <tr>\n",
       "      <th>1</th>\n",
       "      <td>0.303310</td>\n",
       "      <td>0.301</td>\n",
       "    </tr>\n",
       "    <tr>\n",
       "      <th>2</th>\n",
       "      <td>0.189052</td>\n",
       "      <td>0.176</td>\n",
       "    </tr>\n",
       "    <tr>\n",
       "      <th>3</th>\n",
       "      <td>0.119032</td>\n",
       "      <td>0.125</td>\n",
       "    </tr>\n",
       "    <tr>\n",
       "      <th>4</th>\n",
       "      <td>0.098027</td>\n",
       "      <td>0.097</td>\n",
       "    </tr>\n",
       "    <tr>\n",
       "      <th>5</th>\n",
       "      <td>0.067791</td>\n",
       "      <td>0.079</td>\n",
       "    </tr>\n",
       "    <tr>\n",
       "      <th>6</th>\n",
       "      <td>0.066836</td>\n",
       "      <td>0.067</td>\n",
       "    </tr>\n",
       "    <tr>\n",
       "      <th>7</th>\n",
       "      <td>0.057925</td>\n",
       "      <td>0.058</td>\n",
       "    </tr>\n",
       "    <tr>\n",
       "      <th>8</th>\n",
       "      <td>0.048377</td>\n",
       "      <td>0.051</td>\n",
       "    </tr>\n",
       "    <tr>\n",
       "      <th>9</th>\n",
       "      <td>0.049650</td>\n",
       "      <td>0.046</td>\n",
       "    </tr>\n",
       "  </tbody>\n",
       "</table>\n",
       "</div>"
      ],
      "text/plain": [
       "     Actual  Expected\n",
       "1  0.303310     0.301\n",
       "2  0.189052     0.176\n",
       "3  0.119032     0.125\n",
       "4  0.098027     0.097\n",
       "5  0.067791     0.079\n",
       "6  0.066836     0.067\n",
       "7  0.057925     0.058\n",
       "8  0.048377     0.051\n",
       "9  0.049650     0.046"
      ]
     },
     "execution_count": 21,
     "metadata": {},
     "output_type": "execute_result"
    }
   ],
   "source": [
    "#compare to benford's expected frequencies\n",
    "expected_frequencies = pd.Series([.301, .176, .125, .097, .079, .067, .058, .051, .046], \n",
    "                                 index = [1, 2, 3, 4, 5, 6, 7, 8, 9])\n",
    "#combine into dataframe with population size frequencies\n",
    "freqs = pd.DataFrame([first_digit_frequencies, expected_frequencies]).T #.T to transpose so digit numbers are on rows\n",
    "freqs.columns = ['Actual', 'Expected'] #rename columns\n",
    "freqs"
   ]
  },
  {
   "cell_type": "code",
   "execution_count": 23,
   "metadata": {},
   "outputs": [
    {
     "data": {
      "image/png": "[encoded data removed]",
      "text/plain": [
       "<Figure size 432x288 with 1 Axes>"
      ]
     },
     "metadata": {
      "needs_background": "light"
     },
     "output_type": "display_data"
    }
   ],
   "source": [
    "freqs.plot(kind = 'bar', title = 'First Digits of Population Size by US County vs Benford\\'s Law Prediction');\n",
    "plt.xlabel('First Digits')\n",
    "plt.ylabel('Frequency');"
   ]
  },
  {
   "cell_type": "code",
   "execution_count": 24,
   "metadata": {},
   "outputs": [
    {
     "data": {
      "text/plain": [
       "Power_divergenceResult(statistic=9.522569120793193, pvalue=0.3001453330051994)"
      ]
     },
     "execution_count": 24,
     "metadata": {},
     "output_type": "execute_result"
    }
   ],
   "source": [
    "#chi-square test to check if divergence\n",
    "from scipy.stats import chisquare\n",
    "actual_counts = first_digits_population_size.value_counts()\n",
    "expected_counts = expected_frequencies*len(first_digits_population_size)\n",
    "chisquare(actual_counts, f_exp = expected_counts)"
   ]
  },
  {
   "cell_type": "markdown",
   "metadata": {},
   "source": [
    "Not statistically significant difference - but what about the specific proportions?"
   ]
  },
  {
   "cell_type": "code",
   "execution_count": 26,
   "metadata": {},
   "outputs": [
    {
     "data": {
      "image/png": "[encoded data removed]",
      "text/plain": [
       "<Figure size 648x360 with 1 Axes>"
      ]
     },
     "metadata": {
      "needs_background": "light"
     },
     "output_type": "display_data"
    }
   ],
   "source": [
    "#use previously made function\n",
    "plot_multi_proportion_confint_digits(actual_first_digit_frequencies = first_digit_frequencies, \n",
    "                                    actual_first_digit_counts = actual_counts,\n",
    "                                    expected_first_digit_frequencies = expected_frequencies,\n",
    "                                    label_actual = 'Population Size First Digits',\n",
    "                                    label_expected = 'Benford\\'s Law Prediction',\n",
    "                                    title = 'Population Size First Digit CIs vs. Benford Law Expectations'\n",
    "                                    )"
   ]
  },
  {
   "cell_type": "markdown",
   "metadata": {},
   "source": [
    "Multionomial 95% CIs adjusted so not influencing significance of any individual value based on population significance.\n",
    "2 is a little high and 5 is right on the edge, maybe even a little over\n",
    "overall values are in line with Benford's law"
   ]
  },
  {
   "cell_type": "markdown",
   "metadata": {},
   "source": [
    "# Khipus!"
   ]
  },
  {
   "cell_type": "markdown",
   "metadata": {},
   "source": [
    "Want to test whether first digit distribution in khipus adheres to benford's law"
   ]
  },
  {
   "cell_type": "code",
   "execution_count": 27,
   "metadata": {},
   "outputs": [
    {
     "data": {
      "image/png": "[encoded data removed]",
      "text/plain": [
       "<Figure size 432x288 with 1 Axes>"
      ]
     },
     "metadata": {
      "needs_background": "light"
     },
     "output_type": "display_data"
    }
   ],
   "source": [
    "#using numpy - set random seed so that it always produces same simulation so when debugging not confused\n",
    "np.random.seed(0)\n",
    "uniform_sum = np.random.randint(1, 9, 10000) + np.random.randint(1, 9, 10000) #sum of two random variables ten thousand times\n",
    "\n",
    "#to assess with benford's law, need to get first digits\n",
    "first_digit_uniform = pd.Series(uniform_sum).apply(first_digit) #numpy has own objects so need to transform into pandas series\n",
    "uniform_first_digit_frequencies = first_digit_uniform.value_counts()/len(first_digit_uniform)\n",
    "uniform_first_digit_frequencies.sort_index(inplace=True)\n",
    "\n",
    "freqs_expected_distributions = pd.DataFrame([uniform_first_digit_frequencies, expected_frequencies]).T\n",
    "freqs_expected_distributions.columns = ['Uniform Sum', 'Benford']\n",
    "freqs_expected_distributions.plot(kind='bar', title ='First Digits of Uniform Sum vs. Benford Expectations');\n",
    "plt.xlabel('First Digits')\n",
    "plt.ylabel('Frequency');"
   ]
  },
  {
   "cell_type": "markdown",
   "metadata": {},
   "source": [
    "non-numerical distribution vs. empirical numerical distribution"
   ]
  },
  {
   "cell_type": "code",
   "execution_count": 28,
   "metadata": {},
   "outputs": [
    {
     "data": {
      "text/html": [
       "<div>\n",
       "<style scoped>\n",
       "    .dataframe tbody tr th:only-of-type {\n",
       "        vertical-align: middle;\n",
       "    }\n",
       "\n",
       "    .dataframe tbody tr th {\n",
       "        vertical-align: top;\n",
       "    }\n",
       "\n",
       "    .dataframe thead th {\n",
       "        text-align: right;\n",
       "    }\n",
       "</style>\n",
       "<table border=\"1\" class=\"dataframe\">\n",
       "  <thead>\n",
       "    <tr style=\"text-align: right;\">\n",
       "      <th></th>\n",
       "      <th>Unnamed: 0</th>\n",
       "      <th>Khipu</th>\n",
       "      <th>Cord</th>\n",
       "      <th>Fiber</th>\n",
       "      <th>Value</th>\n",
       "      <th>Colors</th>\n",
       "      <th>Spin_Ply</th>\n",
       "      <th>Attachment</th>\n",
       "      <th>Termin</th>\n",
       "      <th>Length</th>\n",
       "      <th>Anomalous</th>\n",
       "    </tr>\n",
       "  </thead>\n",
       "  <tbody>\n",
       "    <tr>\n",
       "      <th>56822</th>\n",
       "      <td>3146</td>\n",
       "      <td>UR294</td>\n",
       "      <td>1</td>\n",
       "      <td>CN</td>\n",
       "      <td>100</td>\n",
       "      <td>LB</td>\n",
       "      <td>Z</td>\n",
       "      <td>V</td>\n",
       "      <td>K</td>\n",
       "      <td>34.5</td>\n",
       "      <td>False</td>\n",
       "    </tr>\n",
       "    <tr>\n",
       "      <th>56823</th>\n",
       "      <td>3147</td>\n",
       "      <td>UR294</td>\n",
       "      <td>2</td>\n",
       "      <td>CN</td>\n",
       "      <td>22</td>\n",
       "      <td>MB</td>\n",
       "      <td>Z</td>\n",
       "      <td>V</td>\n",
       "      <td>B</td>\n",
       "      <td>22.5</td>\n",
       "      <td>False</td>\n",
       "    </tr>\n",
       "    <tr>\n",
       "      <th>56824</th>\n",
       "      <td>3148</td>\n",
       "      <td>UR294</td>\n",
       "      <td>3</td>\n",
       "      <td>CN</td>\n",
       "      <td>65</td>\n",
       "      <td>NB</td>\n",
       "      <td>Z</td>\n",
       "      <td>V</td>\n",
       "      <td>K</td>\n",
       "      <td>17.5</td>\n",
       "      <td>False</td>\n",
       "    </tr>\n",
       "    <tr>\n",
       "      <th>56825</th>\n",
       "      <td>3149</td>\n",
       "      <td>UR294</td>\n",
       "      <td>4</td>\n",
       "      <td>CN</td>\n",
       "      <td>52</td>\n",
       "      <td>W</td>\n",
       "      <td>Z</td>\n",
       "      <td>V</td>\n",
       "      <td>K</td>\n",
       "      <td>23.0</td>\n",
       "      <td>False</td>\n",
       "    </tr>\n",
       "    <tr>\n",
       "      <th>56826</th>\n",
       "      <td>3150</td>\n",
       "      <td>UR294</td>\n",
       "      <td>5</td>\n",
       "      <td>CN</td>\n",
       "      <td>0</td>\n",
       "      <td>MB\\t (0-23) \\r\\nMB:W:BG\\t (23-27) \\r\\nMB\\t (27...</td>\n",
       "      <td>Z</td>\n",
       "      <td>V</td>\n",
       "      <td>K</td>\n",
       "      <td>40.5</td>\n",
       "      <td>False</td>\n",
       "    </tr>\n",
       "  </tbody>\n",
       "</table>\n",
       "</div>"
      ],
      "text/plain": [
       "       Unnamed: 0  Khipu Cord Fiber  Value  \\\n",
       "56822        3146  UR294    1    CN    100   \n",
       "56823        3147  UR294    2    CN     22   \n",
       "56824        3148  UR294    3    CN     65   \n",
       "56825        3149  UR294    4    CN     52   \n",
       "56826        3150  UR294    5    CN      0   \n",
       "\n",
       "                                                  Colors Spin_Ply Attachment  \\\n",
       "56822                                                 LB        Z          V   \n",
       "56823                                                 MB        Z          V   \n",
       "56824                                                 NB        Z          V   \n",
       "56825                                                  W        Z          V   \n",
       "56826  MB\\t (0-23) \\r\\nMB:W:BG\\t (23-27) \\r\\nMB\\t (27...        Z          V   \n",
       "\n",
       "      Termin  Length Anomalous  \n",
       "56822      K    34.5     False  \n",
       "56823      B    22.5     False  \n",
       "56824      K    17.5     False  \n",
       "56825      K    23.0     False  \n",
       "56826      K    40.5     False  "
      ]
     },
     "execution_count": 28,
     "metadata": {},
     "output_type": "execute_result"
    }
   ],
   "source": [
    "khipu_cords = pd.read_pickle('khipu_cords.pkl')\n",
    "khipu_cords.tail()"
   ]
  },
  {
   "cell_type": "code",
   "execution_count": 30,
   "metadata": {},
   "outputs": [],
   "source": [
    "#get first digits of values of anomalous khipu cords\n",
    "first_digits_anomalous = khipu_cords[khipu_cords['Anomalous'] != False]['Value'].apply(first_digit)\n",
    "#get first digits of values of normal khipu cords\n",
    "first_digits_normal = khipu_cords[khipu_cords['Anomalous'] == False]['Value'].apply(first_digit)\n",
    "#drop cords with no knots (value = 0)\n",
    "first_digits_anomalous = first_digits_anomalous[first_digits_anomalous != 0]\n",
    "first_digits_normal = first_digits_normal[first_digits_normal != 0]"
   ]
  },
  {
   "cell_type": "code",
   "execution_count": 32,
   "metadata": {},
   "outputs": [],
   "source": [
    "#find frequencies\n",
    "anomalous_first_digits_frequencies = first_digits_anomalous.value_counts()/len(first_digits_anomalous)\n",
    "anomalous_first_digits_frequencies.sort_index(inplace=True)\n",
    "normal_first_digits_frequencies = first_digits_normal.value_counts()/len(first_digits_normal)\n",
    "normal_first_digits_frequencies.sort_index(inplace=True)"
   ]
  },
  {
   "cell_type": "code",
   "execution_count": 34,
   "metadata": {},
   "outputs": [
    {
     "ename": "NameError",
     "evalue": "name 'uniform_first_digits_frequencies' is not defined",
     "output_type": "error",
     "traceback": [
      "\u001b[0;31m---------------------------------------------------------------------------\u001b[0m",
      "\u001b[0;31mNameError\u001b[0m                                 Traceback (most recent call last)",
      "\u001b[0;32m<ipython-input-34-79fcc8b964d3>\u001b[0m in \u001b[0;36m<module>\u001b[0;34m\u001b[0m\n\u001b[1;32m      2\u001b[0m                                  \u001b[0mnormal_first_digits_frequencies\u001b[0m\u001b[0;34m,\u001b[0m\u001b[0;34m\u001b[0m\u001b[0;34m\u001b[0m\u001b[0m\n\u001b[1;32m      3\u001b[0m                                  \u001b[0mexpected_frequencies\u001b[0m\u001b[0;34m,\u001b[0m\u001b[0;34m\u001b[0m\u001b[0;34m\u001b[0m\u001b[0m\n\u001b[0;32m----> 4\u001b[0;31m                                  uniform_first_digits_frequencies]).T\n\u001b[0m\u001b[1;32m      5\u001b[0m \u001b[0mfreqs_cord_values\u001b[0m\u001b[0;34m.\u001b[0m\u001b[0mcolumns\u001b[0m \u001b[0;34m=\u001b[0m \u001b[0;34m[\u001b[0m\u001b[0;34m'Anomalous'\u001b[0m\u001b[0;34m,\u001b[0m \u001b[0;34m'Normal'\u001b[0m\u001b[0;34m,\u001b[0m \u001b[0;34m'Expected (Benford)'\u001b[0m\u001b[0;34m,\u001b[0m \u001b[0;34m'Expected (Uniform Sum)'\u001b[0m \u001b[0;34m]\u001b[0m\u001b[0;34m\u001b[0m\u001b[0;34m\u001b[0m\u001b[0m\n",
      "\u001b[0;31mNameError\u001b[0m: name 'uniform_first_digits_frequencies' is not defined"
     ]
    }
   ],
   "source": [
    "freqs_cord_values = pd.DataFrame([anomalous_first_digits_frequencies,\n",
    "                                 normal_first_digits_frequencies,\n",
    "                                 expected_frequencies,\n",
    "                                 uniform_first_digits_frequencies]).T\n",
    "freqs_cord_values.columns = ['Anomalous', 'Normal', 'Expected (Benford)', 'Expected (Uniform Sum)' ]"
   ]
  },
  {
   "cell_type": "code",
   "execution_count": null,
   "metadata": {},
   "outputs": [],
   "source": []
  }
 ],
 "metadata": {
  "kernelspec": {
   "display_name": "Python 3",
   "language": "python",
   "name": "python3"
  },
  "language_info": {
   "codemirror_mode": {
    "name": "ipython",
    "version": 3
   },
   "file_extension": ".py",
   "mimetype": "text/x-python",
   "name": "python",
   "nbconvert_exporter": "python",
   "pygments_lexer": "ipython3",
   "version": "3.7.3"
  }
 },
 "nbformat": 4,
 "nbformat_minor": 2
}
