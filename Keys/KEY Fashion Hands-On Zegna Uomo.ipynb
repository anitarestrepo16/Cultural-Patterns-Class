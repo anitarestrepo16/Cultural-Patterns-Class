{
 "cells": [
  {
   "cell_type": "markdown",
   "metadata": {},
   "source": [
    "# Fashion (MACS 40400: Computation and the Identification of Cultural Patterns)\n",
    "\n",
    "Today, we're going to attempt to discover if there are any conventional interpretants for Zegna's Uomo cologne. In class on Tuesday, we saw that the product was intended to produce interpretants related to the concepts of masculinity, mastery and sophistication. Today, we'll evaluate whether these are the sorts of interpretants that are actually produced in the circles of people who use the product by analyzing the words used in YouTube videos and Amazon reviews of the product."
   ]
  },
  {
   "cell_type": "markdown",
   "metadata": {},
   "source": [
    "*******\n",
    "\n",
    "## This section of code is optional\n",
    "It covers the process by which I downloaded the YouTube data we will be using for the lab (the end result of which is available on Canvas as a JSON). Scroll further down to see material necessary to in-class hands-on session."
   ]
  },
  {
   "cell_type": "code",
   "execution_count": 1,
   "metadata": {},
   "outputs": [
    {
     "name": "stdout",
     "output_type": "stream",
     "text": [
      "Requirement already satisfied: youtube_dl in c:\\users\\jon clindaniel\\anaconda3\\lib\\site-packages (2019.10.22)\n"
     ]
    }
   ],
   "source": [
    "#Install youtube-dl for downloading youtube videos/metadata (as well as information from other video streaming sites)\n",
    "!pip install youtube_dl"
   ]
  },
  {
   "cell_type": "code",
   "execution_count": 2,
   "metadata": {},
   "outputs": [],
   "source": [
    "# packages installed in bin folder, each one has new objects apart from basic dictionaries, lists and tuples\n",
    "import youtube_dl\n",
    "import pandas as pd\n",
    "import requests #takes in specialized interfaces\n",
    "import re # regular expressions"
   ]
  },
  {
   "cell_type": "code",
   "execution_count": 3,
   "metadata": {},
   "outputs": [
    {
     "name": "stdout",
     "output_type": "stream",
     "text": [
      "[youtube:search] query \"Zegna Uomo\": Downloading page 1\n",
      "[youtube:search] query \"Zegna Uomo\": Downloading page 2\n",
      "[youtube:search] query \"Zegna Uomo\": Downloading page 3\n",
      "[youtube:search] query \"Zegna Uomo\": Downloading page 4\n",
      "[youtube:search] query \"Zegna Uomo\": Downloading page 5\n",
      "[download] Downloading playlist: Zegna Uomo\n",
      "[youtube:search] playlist Zegna Uomo: Collected 100 video ids (downloading 100 of them)\n",
      "[download] Downloading video 1 of 100\n",
      "[youtube] Otqi2zZrRJM: Downloading webpage\n",
      "[youtube] Otqi2zZrRJM: Downloading video info webpage\n",
      "[youtube] Otqi2zZrRJM: Looking for automatic captions\n",
      "[download] Downloading video 2 of 100\n",
      "[youtube] 4cWpCynRQzw: Downloading webpage\n",
      "[youtube] 4cWpCynRQzw: Downloading video info webpage\n",
      "[youtube] 4cWpCynRQzw: Looking for automatic captions\n",
      "[download] Downloading video 3 of 100\n",
      "[youtube] axzIdt6rFYM: Downloading webpage\n",
      "[youtube] axzIdt6rFYM: Downloading video info webpage\n",
      "[youtube] axzIdt6rFYM: Looking for automatic captions\n",
      "[youtube] axzIdt6rFYM: Downloading MPD manifest\n",
      "[download] Downloading video 4 of 100\n",
      "[youtube] MibC6tRSBpk: Downloading webpage\n",
      "[youtube] MibC6tRSBpk: Downloading video info webpage\n",
      "[youtube] MibC6tRSBpk: Looking for automatic captions\n",
      "[download] Downloading video 5 of 100\n",
      "[youtube] ow3QAF_aB_M: Downloading webpage\n",
      "[youtube] ow3QAF_aB_M: Downloading video info webpage\n",
      "[youtube] ow3QAF_aB_M: Looking for automatic captions\n",
      "[youtube] ow3QAF_aB_M: Downloading MPD manifest\n",
      "[download] Downloading video 6 of 100\n",
      "[youtube] jlRLCn7cHeg: Downloading webpage\n",
      "[youtube] jlRLCn7cHeg: Downloading video info webpage\n",
      "[youtube] jlRLCn7cHeg: Looking for automatic captions\n",
      "[download] Downloading video 7 of 100\n",
      "[youtube] fOb2ZjaeNwQ: Downloading webpage\n",
      "[youtube] fOb2ZjaeNwQ: Downloading video info webpage\n",
      "[youtube] fOb2ZjaeNwQ: Looking for automatic captions\n",
      "[download] Downloading video 8 of 100\n",
      "[youtube] _9kTLCKna6U: Downloading webpage\n",
      "[youtube] _9kTLCKna6U: Downloading video info webpage\n",
      "[youtube] _9kTLCKna6U: Looking for automatic captions\n",
      "[download] Downloading video 9 of 100\n",
      "[youtube] wAeVZHHfqU8: Downloading webpage\n",
      "[youtube] wAeVZHHfqU8: Downloading video info webpage\n",
      "[youtube] wAeVZHHfqU8: Looking for automatic captions\n",
      "[download] Downloading video 10 of 100\n",
      "[youtube] dkoS8ZpiZ-U: Downloading webpage\n",
      "[youtube] dkoS8ZpiZ-U: Downloading video info webpage\n",
      "[youtube] dkoS8ZpiZ-U: Looking for automatic captions\n",
      "[youtube] dkoS8ZpiZ-U: Downloading MPD manifest\n",
      "[download] Downloading video 11 of 100\n",
      "[youtube] sWk94lBXuzk: Downloading webpage\n",
      "[youtube] sWk94lBXuzk: Downloading video info webpage\n",
      "[youtube] sWk94lBXuzk: Looking for automatic captions\n"
     ]
    },
    {
     "name": "stderr",
     "output_type": "stream",
     "text": [
      "WARNING: Couldn't find automatic captions for sWk94lBXuzk\n"
     ]
    },
    {
     "name": "stdout",
     "output_type": "stream",
     "text": [
      "[download] Downloading video 12 of 100\n",
      "[youtube] TFKz6QDY_9k: Downloading webpage\n",
      "[youtube] TFKz6QDY_9k: Downloading video info webpage\n",
      "[youtube] TFKz6QDY_9k: Looking for automatic captions\n",
      "[download] Downloading video 13 of 100\n",
      "[youtube] 6jeZgHWlsao: Downloading webpage\n",
      "[youtube] 6jeZgHWlsao: Downloading video info webpage\n",
      "[youtube] 6jeZgHWlsao: Looking for automatic captions\n",
      "[download] Downloading video 14 of 100\n",
      "[youtube] e1BxYRif2FM: Downloading webpage\n",
      "[youtube] e1BxYRif2FM: Downloading video info webpage\n",
      "[youtube] e1BxYRif2FM: Looking for automatic captions\n",
      "[download] Downloading video 15 of 100\n",
      "[youtube] 0uzaSR-9owA: Downloading webpage\n",
      "[youtube] 0uzaSR-9owA: Downloading video info webpage\n",
      "[youtube] 0uzaSR-9owA: Looking for automatic captions\n",
      "[youtube] 0uzaSR-9owA: Downloading MPD manifest\n",
      "[download] Downloading video 16 of 100\n",
      "[youtube] 51iCVeAYHro: Downloading webpage\n",
      "[youtube] 51iCVeAYHro: Downloading video info webpage\n",
      "[youtube] 51iCVeAYHro: Looking for automatic captions\n",
      "[download] Downloading video 17 of 100\n",
      "[youtube] 1mU6tQl1fHM: Downloading webpage\n",
      "[youtube] 1mU6tQl1fHM: Downloading video info webpage\n",
      "[youtube] 1mU6tQl1fHM: Looking for automatic captions\n",
      "[youtube] 1mU6tQl1fHM: Downloading MPD manifest\n",
      "[download] Downloading video 18 of 100\n",
      "[youtube] kQDK7WtkZSs: Downloading webpage\n",
      "[youtube] kQDK7WtkZSs: Downloading video info webpage\n",
      "[youtube] kQDK7WtkZSs: Looking for automatic captions\n",
      "[youtube] kQDK7WtkZSs: Downloading MPD manifest\n",
      "[download] Downloading video 19 of 100\n",
      "[youtube] eHbhTfOwZKI: Downloading webpage\n",
      "[youtube] eHbhTfOwZKI: Downloading video info webpage\n",
      "[youtube] eHbhTfOwZKI: Looking for automatic captions\n",
      "[download] Downloading video 20 of 100\n",
      "[youtube] QurSbRGy_r4: Downloading webpage\n",
      "[youtube] QurSbRGy_r4: Downloading video info webpage\n",
      "[youtube] QurSbRGy_r4: Looking for automatic captions\n"
     ]
    },
    {
     "name": "stderr",
     "output_type": "stream",
     "text": [
      "WARNING: Couldn't find automatic captions for QurSbRGy_r4\n"
     ]
    },
    {
     "name": "stdout",
     "output_type": "stream",
     "text": [
      "[download] Downloading video 21 of 100\n",
      "[youtube] myGkJ3fJjrQ: Downloading webpage\n",
      "[youtube] myGkJ3fJjrQ: Downloading video info webpage\n",
      "[youtube] myGkJ3fJjrQ: Looking for automatic captions\n",
      "[download] Downloading video 22 of 100\n",
      "[youtube] tgZis3DkQVo: Downloading webpage\n",
      "[youtube] tgZis3DkQVo: Downloading video info webpage\n",
      "[youtube] tgZis3DkQVo: Looking for automatic captions\n",
      "[download] Downloading video 23 of 100\n",
      "[youtube] ioSGxWHiaZU: Downloading webpage\n",
      "[youtube] ioSGxWHiaZU: Downloading video info webpage\n",
      "[youtube] ioSGxWHiaZU: Looking for automatic captions\n",
      "[download] Downloading video 24 of 100\n",
      "[youtube] QbkoRoZZ4gw: Downloading webpage\n",
      "[youtube] QbkoRoZZ4gw: Downloading video info webpage\n",
      "[youtube] QbkoRoZZ4gw: Looking for automatic captions\n"
     ]
    },
    {
     "name": "stderr",
     "output_type": "stream",
     "text": [
      "WARNING: Couldn't find automatic captions for QbkoRoZZ4gw\n"
     ]
    },
    {
     "name": "stdout",
     "output_type": "stream",
     "text": [
      "[download] Downloading video 25 of 100\n",
      "[youtube] YKx4BfZ2fJQ: Downloading webpage\n",
      "[youtube] YKx4BfZ2fJQ: Downloading video info webpage\n",
      "[youtube] YKx4BfZ2fJQ: Looking for automatic captions\n",
      "[download] Downloading video 26 of 100\n",
      "[youtube] d1_R6gFj_pw: Downloading webpage\n",
      "[youtube] d1_R6gFj_pw: Downloading video info webpage\n",
      "[youtube] d1_R6gFj_pw: Looking for automatic captions\n"
     ]
    },
    {
     "name": "stderr",
     "output_type": "stream",
     "text": [
      "WARNING: Couldn't find automatic captions for d1_R6gFj_pw\n"
     ]
    },
    {
     "name": "stdout",
     "output_type": "stream",
     "text": [
      "[download] Downloading video 27 of 100\n",
      "[youtube] 6jeZgHWlsao: Downloading webpage\n",
      "[youtube] 6jeZgHWlsao: Downloading video info webpage\n",
      "[youtube] 6jeZgHWlsao: Looking for automatic captions\n",
      "[download] Downloading video 28 of 100\n",
      "[youtube] UW-zHgizU3I: Downloading webpage\n",
      "[youtube] UW-zHgizU3I: Downloading video info webpage\n",
      "[youtube] UW-zHgizU3I: Looking for automatic captions\n"
     ]
    },
    {
     "name": "stderr",
     "output_type": "stream",
     "text": [
      "WARNING: Couldn't find automatic captions for UW-zHgizU3I\n"
     ]
    },
    {
     "name": "stdout",
     "output_type": "stream",
     "text": [
      "[download] Downloading video 29 of 100\n",
      "[youtube] hr6mpIasoOY: Downloading webpage\n",
      "[youtube] hr6mpIasoOY: Downloading video info webpage\n",
      "[youtube] hr6mpIasoOY: Looking for automatic captions\n",
      "[download] Downloading video 30 of 100\n",
      "[youtube] jacMq_BLeoE: Downloading webpage\n",
      "[youtube] jacMq_BLeoE: Downloading video info webpage\n",
      "[youtube] jacMq_BLeoE: Looking for automatic captions\n",
      "[youtube] jacMq_BLeoE: Downloading MPD manifest\n",
      "[download] Downloading video 31 of 100\n",
      "[youtube] Cfaz7OUDiZI: Downloading webpage\n",
      "[youtube] Cfaz7OUDiZI: Downloading video info webpage\n",
      "[youtube] Cfaz7OUDiZI: Looking for automatic captions\n"
     ]
    },
    {
     "name": "stderr",
     "output_type": "stream",
     "text": [
      "WARNING: Couldn't find automatic captions for Cfaz7OUDiZI\n"
     ]
    },
    {
     "name": "stdout",
     "output_type": "stream",
     "text": [
      "[youtube] Cfaz7OUDiZI: Downloading MPD manifest\n",
      "[download] Downloading video 32 of 100\n",
      "[youtube] zBaNNxIAOHM: Downloading webpage\n",
      "[youtube] zBaNNxIAOHM: Downloading video info webpage\n",
      "[youtube] zBaNNxIAOHM: Looking for automatic captions\n"
     ]
    },
    {
     "name": "stderr",
     "output_type": "stream",
     "text": [
      "WARNING: Couldn't find automatic captions for zBaNNxIAOHM\n"
     ]
    },
    {
     "name": "stdout",
     "output_type": "stream",
     "text": [
      "[download] Downloading video 33 of 100\n",
      "[youtube] KK4-El2cdPg: Downloading webpage\n",
      "[youtube] KK4-El2cdPg: Downloading video info webpage\n",
      "[youtube] KK4-El2cdPg: Looking for automatic captions\n",
      "[youtube] KK4-El2cdPg: Downloading MPD manifest\n",
      "[download] Downloading video 34 of 100\n",
      "[youtube] f_JX6vJDAUQ: Downloading webpage\n",
      "[youtube] f_JX6vJDAUQ: Downloading video info webpage\n",
      "[youtube] f_JX6vJDAUQ: Looking for automatic captions\n",
      "[download] Downloading video 35 of 100\n",
      "[youtube] JPfvHkFnmPY: Downloading webpage\n",
      "[youtube] JPfvHkFnmPY: Downloading video info webpage\n",
      "[youtube] JPfvHkFnmPY: Looking for automatic captions\n"
     ]
    },
    {
     "name": "stderr",
     "output_type": "stream",
     "text": [
      "WARNING: Couldn't find automatic captions for JPfvHkFnmPY\n"
     ]
    },
    {
     "name": "stdout",
     "output_type": "stream",
     "text": [
      "[download] Downloading video 36 of 100\n",
      "[youtube] GxXwzovGTPw: Downloading webpage\n",
      "[youtube] GxXwzovGTPw: Downloading video info webpage\n",
      "[youtube] GxXwzovGTPw: Looking for automatic captions\n",
      "[youtube] GxXwzovGTPw: Downloading MPD manifest\n",
      "[download] Downloading video 37 of 100\n",
      "[youtube] TFKz6QDY_9k: Downloading webpage\n",
      "[youtube] TFKz6QDY_9k: Downloading video info webpage\n",
      "[youtube] TFKz6QDY_9k: Looking for automatic captions\n",
      "[download] Downloading video 38 of 100\n",
      "[youtube] D8gdeC7BFRM: Downloading webpage\n",
      "[youtube] D8gdeC7BFRM: Downloading video info webpage\n",
      "[youtube] D8gdeC7BFRM: Looking for automatic captions\n",
      "[download] Downloading video 39 of 100\n",
      "[youtube] p9fE64CT0NE: Downloading webpage\n",
      "[youtube] p9fE64CT0NE: Downloading video info webpage\n",
      "[youtube] p9fE64CT0NE: Looking for automatic captions\n",
      "[youtube] p9fE64CT0NE: Downloading MPD manifest\n",
      "[download] Downloading video 40 of 100\n",
      "[youtube] xNHxfcnHZcQ: Downloading webpage\n",
      "[youtube] xNHxfcnHZcQ: Downloading video info webpage\n",
      "[youtube] xNHxfcnHZcQ: Looking for automatic captions\n"
     ]
    },
    {
     "name": "stderr",
     "output_type": "stream",
     "text": [
      "WARNING: Couldn't find automatic captions for xNHxfcnHZcQ\n"
     ]
    },
    {
     "name": "stdout",
     "output_type": "stream",
     "text": [
      "[youtube] xNHxfcnHZcQ: Downloading MPD manifest\n",
      "[download] Downloading video 41 of 100\n",
      "[youtube] 2oF1hP8XX8w: Downloading webpage\n",
      "[youtube] 2oF1hP8XX8w: Downloading video info webpage\n",
      "[youtube] 2oF1hP8XX8w: Looking for automatic captions\n"
     ]
    },
    {
     "name": "stderr",
     "output_type": "stream",
     "text": [
      "WARNING: Couldn't find automatic captions for 2oF1hP8XX8w\n"
     ]
    },
    {
     "name": "stdout",
     "output_type": "stream",
     "text": [
      "[download] Downloading video 42 of 100\n",
      "[youtube] NmsP5lzcbOI: Downloading webpage\n",
      "[youtube] NmsP5lzcbOI: Downloading video info webpage\n",
      "[youtube] NmsP5lzcbOI: Looking for automatic captions\n",
      "[download] Downloading video 43 of 100\n",
      "[youtube] YdMP9H4Tj5Y: Downloading webpage\n",
      "[youtube] YdMP9H4Tj5Y: Downloading video info webpage\n",
      "[youtube] YdMP9H4Tj5Y: Looking for automatic captions\n",
      "[download] Downloading video 44 of 100\n",
      "[youtube] QOvyr_EKV1g: Downloading webpage\n",
      "[youtube] QOvyr_EKV1g: Downloading video info webpage\n",
      "[youtube] QOvyr_EKV1g: Looking for automatic captions\n",
      "[download] Downloading video 45 of 100\n",
      "[youtube] xSLQGo833yU: Downloading webpage\n",
      "[youtube] xSLQGo833yU: Downloading video info webpage\n",
      "[youtube] xSLQGo833yU: Looking for automatic captions\n"
     ]
    },
    {
     "name": "stderr",
     "output_type": "stream",
     "text": [
      "WARNING: Couldn't find automatic captions for xSLQGo833yU\n"
     ]
    },
    {
     "name": "stdout",
     "output_type": "stream",
     "text": [
      "[download] Downloading video 46 of 100\n",
      "[youtube] xax2B82CMSo: Downloading webpage\n",
      "[youtube] xax2B82CMSo: Downloading video info webpage\n",
      "[youtube] xax2B82CMSo: Looking for automatic captions\n"
     ]
    },
    {
     "name": "stderr",
     "output_type": "stream",
     "text": [
      "WARNING: Couldn't find automatic captions for xax2B82CMSo\n"
     ]
    },
    {
     "name": "stdout",
     "output_type": "stream",
     "text": [
      "[download] Downloading video 47 of 100\n",
      "[youtube] 9pYLGO4PFXA: Downloading webpage\n",
      "[youtube] 9pYLGO4PFXA: Downloading video info webpage\n",
      "[youtube] 9pYLGO4PFXA: Looking for automatic captions\n",
      "[download] Downloading video 48 of 100\n",
      "[youtube] 5s-USM9zR0Y: Downloading webpage\n",
      "[youtube] 5s-USM9zR0Y: Downloading video info webpage\n",
      "[youtube] 5s-USM9zR0Y: Looking for automatic captions\n",
      "[download] Downloading video 49 of 100\n",
      "[youtube] 1_zMvtu8TM4: Downloading webpage\n",
      "[youtube] 1_zMvtu8TM4: Downloading video info webpage\n",
      "[youtube] 1_zMvtu8TM4: Looking for automatic captions\n",
      "[download] Downloading video 50 of 100\n",
      "[youtube] JLULjR_tmdo: Downloading webpage\n",
      "[youtube] JLULjR_tmdo: Downloading video info webpage\n",
      "[youtube] JLULjR_tmdo: Looking for automatic captions\n",
      "[download] Downloading video 51 of 100\n",
      "[youtube] SD-58GVj_30: Downloading webpage\n",
      "[youtube] SD-58GVj_30: Downloading video info webpage\n",
      "[youtube] SD-58GVj_30: Looking for automatic captions\n",
      "[download] Downloading video 52 of 100\n",
      "[youtube] cMPTxTSp20I: Downloading webpage\n",
      "[youtube] cMPTxTSp20I: Downloading video info webpage\n",
      "[youtube] cMPTxTSp20I: Looking for automatic captions\n",
      "[youtube] cMPTxTSp20I: Downloading MPD manifest\n",
      "[download] Downloading video 53 of 100\n",
      "[youtube] 7yNnMgbcR9U: Downloading webpage\n",
      "[youtube] 7yNnMgbcR9U: Downloading video info webpage\n",
      "[youtube] 7yNnMgbcR9U: Looking for automatic captions\n",
      "[download] Downloading video 54 of 100\n",
      "[youtube] RbeCmO-YQjw: Downloading webpage\n",
      "[youtube] RbeCmO-YQjw: Downloading video info webpage\n",
      "[youtube] RbeCmO-YQjw: Looking for automatic captions\n",
      "[youtube] RbeCmO-YQjw: Downloading MPD manifest\n",
      "[download] Downloading video 55 of 100\n",
      "[youtube] HGy89_EAEoQ: Downloading webpage\n",
      "[youtube] HGy89_EAEoQ: Downloading video info webpage\n",
      "[youtube] HGy89_EAEoQ: Looking for automatic captions\n"
     ]
    },
    {
     "name": "stderr",
     "output_type": "stream",
     "text": [
      "WARNING: Couldn't find automatic captions for HGy89_EAEoQ\n"
     ]
    },
    {
     "name": "stdout",
     "output_type": "stream",
     "text": [
      "[download] Downloading video 56 of 100\n",
      "[youtube] t426YWUgwNU: Downloading webpage\n",
      "[youtube] t426YWUgwNU: Downloading video info webpage\n",
      "[youtube] t426YWUgwNU: Looking for automatic captions\n"
     ]
    },
    {
     "name": "stderr",
     "output_type": "stream",
     "text": [
      "WARNING: Couldn't find automatic captions for t426YWUgwNU\n"
     ]
    },
    {
     "name": "stdout",
     "output_type": "stream",
     "text": [
      "[download] Downloading video 57 of 100\n",
      "[youtube] Kj_gvpRIo5k: Downloading webpage\n",
      "[youtube] Kj_gvpRIo5k: Downloading video info webpage\n",
      "[youtube] Kj_gvpRIo5k: Looking for automatic captions\n"
     ]
    },
    {
     "name": "stderr",
     "output_type": "stream",
     "text": [
      "WARNING: Couldn't find automatic captions for Kj_gvpRIo5k\n"
     ]
    },
    {
     "name": "stdout",
     "output_type": "stream",
     "text": [
      "[youtube] Kj_gvpRIo5k: Downloading MPD manifest\n",
      "[download] Downloading video 58 of 100\n",
      "[youtube] 3FW2wJgSmFY: Downloading webpage\n",
      "[youtube] 3FW2wJgSmFY: Downloading video info webpage\n",
      "[youtube] 3FW2wJgSmFY: Looking for automatic captions\n"
     ]
    },
    {
     "name": "stderr",
     "output_type": "stream",
     "text": [
      "WARNING: Couldn't find automatic captions for 3FW2wJgSmFY\n"
     ]
    },
    {
     "name": "stdout",
     "output_type": "stream",
     "text": [
      "[youtube] 3FW2wJgSmFY: Downloading MPD manifest\n",
      "[download] Downloading video 59 of 100\n",
      "[youtube] xE3mq6ST_LE: Downloading webpage\n",
      "[youtube] xE3mq6ST_LE: Downloading video info webpage\n",
      "[youtube] xE3mq6ST_LE: Looking for automatic captions\n"
     ]
    },
    {
     "name": "stderr",
     "output_type": "stream",
     "text": [
      "WARNING: Couldn't find automatic captions for xE3mq6ST_LE\n"
     ]
    },
    {
     "name": "stdout",
     "output_type": "stream",
     "text": [
      "[download] Downloading video 60 of 100\n",
      "[youtube] ofyA_gcOjV0: Downloading webpage\n",
      "[youtube] ofyA_gcOjV0: Downloading video info webpage\n",
      "[youtube] ofyA_gcOjV0: Looking for automatic captions\n"
     ]
    },
    {
     "name": "stderr",
     "output_type": "stream",
     "text": [
      "WARNING: Couldn't find automatic captions for ofyA_gcOjV0\n"
     ]
    },
    {
     "name": "stdout",
     "output_type": "stream",
     "text": [
      "[download] Downloading video 61 of 100\n",
      "[youtube] yP0YoXOH7d8: Downloading webpage\n",
      "[youtube] yP0YoXOH7d8: Downloading video info webpage\n",
      "[youtube] yP0YoXOH7d8: Looking for automatic captions\n"
     ]
    },
    {
     "name": "stderr",
     "output_type": "stream",
     "text": [
      "WARNING: Couldn't find automatic captions for yP0YoXOH7d8\n"
     ]
    },
    {
     "name": "stdout",
     "output_type": "stream",
     "text": [
      "[download] Downloading video 62 of 100\n",
      "[youtube] PdQXsLdkJX4: Downloading webpage\n",
      "[youtube] PdQXsLdkJX4: Downloading video info webpage\n",
      "[youtube] PdQXsLdkJX4: Looking for automatic captions\n",
      "[download] Downloading video 63 of 100\n",
      "[youtube] 8yDSqW_CS2o: Downloading webpage\n",
      "[youtube] 8yDSqW_CS2o: Downloading video info webpage\n",
      "[youtube] 8yDSqW_CS2o: Looking for automatic captions\n"
     ]
    },
    {
     "name": "stderr",
     "output_type": "stream",
     "text": [
      "WARNING: Couldn't find automatic captions for 8yDSqW_CS2o\n"
     ]
    },
    {
     "name": "stdout",
     "output_type": "stream",
     "text": [
      "[youtube] 8yDSqW_CS2o: Downloading MPD manifest\n",
      "[download] Downloading video 64 of 100\n",
      "[youtube] NTC1d50w_6M: Downloading webpage\n",
      "[youtube] NTC1d50w_6M: Downloading video info webpage\n",
      "[youtube] NTC1d50w_6M: Looking for automatic captions\n",
      "[youtube] NTC1d50w_6M: Downloading MPD manifest\n",
      "[download] Downloading video 65 of 100\n",
      "[youtube] 9QhrdZ-mRDk: Downloading webpage\n",
      "[youtube] 9QhrdZ-mRDk: Downloading video info webpage\n",
      "[youtube] 9QhrdZ-mRDk: Looking for automatic captions\n"
     ]
    },
    {
     "name": "stderr",
     "output_type": "stream",
     "text": [
      "WARNING: Couldn't find automatic captions for 9QhrdZ-mRDk\n"
     ]
    },
    {
     "name": "stdout",
     "output_type": "stream",
     "text": [
      "[download] Downloading video 66 of 100\n",
      "[youtube] MNp4KYzwSmI: Downloading webpage\n",
      "[youtube] MNp4KYzwSmI: Downloading video info webpage\n",
      "[youtube] MNp4KYzwSmI: Looking for automatic captions\n"
     ]
    },
    {
     "name": "stderr",
     "output_type": "stream",
     "text": [
      "WARNING: Couldn't find automatic captions for MNp4KYzwSmI\n"
     ]
    },
    {
     "name": "stdout",
     "output_type": "stream",
     "text": [
      "[youtube] MNp4KYzwSmI: Downloading MPD manifest\n",
      "[download] Downloading video 67 of 100\n",
      "[youtube] g-kn05gqJAA: Downloading webpage\n",
      "[youtube] g-kn05gqJAA: Downloading video info webpage\n",
      "[youtube] g-kn05gqJAA: Looking for automatic captions\n"
     ]
    },
    {
     "name": "stderr",
     "output_type": "stream",
     "text": [
      "WARNING: Couldn't find automatic captions for g-kn05gqJAA\n"
     ]
    },
    {
     "name": "stdout",
     "output_type": "stream",
     "text": [
      "[download] Downloading video 68 of 100\n",
      "[youtube] y4bvfXPQiEI: Downloading webpage\n",
      "[youtube] y4bvfXPQiEI: Downloading video info webpage\n",
      "[youtube] y4bvfXPQiEI: Looking for automatic captions\n"
     ]
    },
    {
     "name": "stderr",
     "output_type": "stream",
     "text": [
      "WARNING: Couldn't find automatic captions for y4bvfXPQiEI\n"
     ]
    },
    {
     "name": "stdout",
     "output_type": "stream",
     "text": [
      "[youtube] y4bvfXPQiEI: Downloading MPD manifest\n",
      "[download] Downloading video 69 of 100\n",
      "[youtube] wEQg-tguLmw: Downloading webpage\n",
      "[youtube] wEQg-tguLmw: Downloading video info webpage\n",
      "[youtube] wEQg-tguLmw: Looking for automatic captions\n"
     ]
    },
    {
     "name": "stderr",
     "output_type": "stream",
     "text": [
      "WARNING: Couldn't find automatic captions for wEQg-tguLmw\n"
     ]
    },
    {
     "name": "stdout",
     "output_type": "stream",
     "text": [
      "[youtube] wEQg-tguLmw: Downloading MPD manifest\n",
      "[download] Downloading video 70 of 100\n",
      "[youtube] 5S3pky9V0lA: Downloading webpage\n",
      "[youtube] 5S3pky9V0lA: Downloading video info webpage\n",
      "[youtube] 5S3pky9V0lA: Looking for automatic captions\n",
      "[download] Downloading video 71 of 100\n",
      "[youtube] R82UuGiG1cY: Downloading webpage\n",
      "[youtube] R82UuGiG1cY: Downloading video info webpage\n",
      "[youtube] R82UuGiG1cY: Looking for automatic captions\n"
     ]
    },
    {
     "name": "stderr",
     "output_type": "stream",
     "text": [
      "WARNING: Couldn't find automatic captions for R82UuGiG1cY\n"
     ]
    },
    {
     "name": "stdout",
     "output_type": "stream",
     "text": [
      "[download] Downloading video 72 of 100\n",
      "[youtube] 3o6IR1MXKQ8: Downloading webpage\n",
      "[youtube] 3o6IR1MXKQ8: Downloading video info webpage\n",
      "[youtube] 3o6IR1MXKQ8: Looking for automatic captions\n"
     ]
    },
    {
     "name": "stderr",
     "output_type": "stream",
     "text": [
      "WARNING: Couldn't find automatic captions for 3o6IR1MXKQ8\n"
     ]
    },
    {
     "name": "stdout",
     "output_type": "stream",
     "text": [
      "[youtube] 3o6IR1MXKQ8: Downloading MPD manifest\n",
      "[download] Downloading video 73 of 100\n",
      "[youtube] -ccf7LWCNds: Downloading webpage\n",
      "[youtube] -ccf7LWCNds: Downloading video info webpage\n",
      "[youtube] -ccf7LWCNds: Looking for automatic captions\n"
     ]
    },
    {
     "name": "stderr",
     "output_type": "stream",
     "text": [
      "WARNING: Couldn't find automatic captions for -ccf7LWCNds\n"
     ]
    },
    {
     "name": "stdout",
     "output_type": "stream",
     "text": [
      "[download] Downloading video 74 of 100\n",
      "[youtube] mRgyMuInMzI: Downloading webpage\n",
      "[youtube] mRgyMuInMzI: Downloading video info webpage\n",
      "[youtube] mRgyMuInMzI: Looking for automatic captions\n"
     ]
    },
    {
     "name": "stderr",
     "output_type": "stream",
     "text": [
      "WARNING: Couldn't find automatic captions for mRgyMuInMzI\n"
     ]
    },
    {
     "name": "stdout",
     "output_type": "stream",
     "text": [
      "[download] Downloading video 75 of 100\n",
      "[youtube] IxlIzlvt3Eo: Downloading webpage\n",
      "[youtube] IxlIzlvt3Eo: Downloading video info webpage\n",
      "[youtube] IxlIzlvt3Eo: Looking for automatic captions\n"
     ]
    },
    {
     "name": "stderr",
     "output_type": "stream",
     "text": [
      "WARNING: Couldn't find automatic captions for IxlIzlvt3Eo\n"
     ]
    },
    {
     "name": "stdout",
     "output_type": "stream",
     "text": [
      "[youtube] IxlIzlvt3Eo: Downloading MPD manifest\n",
      "[download] Downloading video 76 of 100\n",
      "[youtube] PvWNlvCIw4k: Downloading webpage\n",
      "[youtube] PvWNlvCIw4k: Downloading video info webpage\n",
      "[youtube] PvWNlvCIw4k: Looking for automatic captions\n"
     ]
    },
    {
     "name": "stderr",
     "output_type": "stream",
     "text": [
      "WARNING: Couldn't find automatic captions for PvWNlvCIw4k\n"
     ]
    },
    {
     "name": "stdout",
     "output_type": "stream",
     "text": [
      "[download] Downloading video 77 of 100\n",
      "[youtube] LA0WX1ujnOw: Downloading webpage\n",
      "[youtube] LA0WX1ujnOw: Downloading video info webpage\n",
      "[youtube] LA0WX1ujnOw: Looking for automatic captions\n"
     ]
    },
    {
     "name": "stderr",
     "output_type": "stream",
     "text": [
      "WARNING: Couldn't find automatic captions for LA0WX1ujnOw\n"
     ]
    },
    {
     "name": "stdout",
     "output_type": "stream",
     "text": [
      "[youtube] LA0WX1ujnOw: Downloading MPD manifest\n",
      "[download] Downloading video 78 of 100\n",
      "[youtube] lxZ_YFuQQ50: Downloading webpage\n",
      "[youtube] lxZ_YFuQQ50: Downloading video info webpage\n",
      "[youtube] lxZ_YFuQQ50: Looking for automatic captions\n"
     ]
    },
    {
     "name": "stderr",
     "output_type": "stream",
     "text": [
      "WARNING: Couldn't find automatic captions for lxZ_YFuQQ50\n"
     ]
    },
    {
     "name": "stdout",
     "output_type": "stream",
     "text": [
      "[youtube] lxZ_YFuQQ50: Downloading MPD manifest\n",
      "[download] Downloading video 79 of 100\n",
      "[youtube] Lrv61U4edTg: Downloading webpage\n",
      "[youtube] Lrv61U4edTg: Downloading video info webpage\n",
      "[youtube] Lrv61U4edTg: Looking for automatic captions\n"
     ]
    },
    {
     "name": "stderr",
     "output_type": "stream",
     "text": [
      "WARNING: Couldn't find automatic captions for Lrv61U4edTg\n"
     ]
    },
    {
     "name": "stdout",
     "output_type": "stream",
     "text": [
      "[download] Downloading video 80 of 100\n",
      "[youtube] _4fVVGfuJEc: Downloading webpage\n",
      "[youtube] _4fVVGfuJEc: Downloading video info webpage\n",
      "[youtube] _4fVVGfuJEc: Looking for automatic captions\n"
     ]
    },
    {
     "name": "stderr",
     "output_type": "stream",
     "text": [
      "WARNING: Couldn't find automatic captions for _4fVVGfuJEc\n"
     ]
    },
    {
     "name": "stdout",
     "output_type": "stream",
     "text": [
      "[youtube] _4fVVGfuJEc: Downloading MPD manifest\n",
      "[download] Downloading video 81 of 100\n",
      "[youtube] YyLBH-e_Iwc: Downloading webpage\n",
      "[youtube] YyLBH-e_Iwc: Downloading video info webpage\n",
      "[youtube] YyLBH-e_Iwc: Looking for automatic captions\n"
     ]
    },
    {
     "name": "stderr",
     "output_type": "stream",
     "text": [
      "WARNING: Couldn't find automatic captions for YyLBH-e_Iwc\n"
     ]
    },
    {
     "name": "stdout",
     "output_type": "stream",
     "text": [
      "[download] Downloading video 82 of 100\n",
      "[youtube] Ti_Z1vq1jSY: Downloading webpage\n",
      "[youtube] Ti_Z1vq1jSY: Downloading video info webpage\n",
      "[youtube] Ti_Z1vq1jSY: Looking for automatic captions\n",
      "[download] Downloading video 83 of 100\n",
      "[youtube] mcQ5EP8MJhI: Downloading webpage\n",
      "[youtube] mcQ5EP8MJhI: Downloading video info webpage\n",
      "[youtube] mcQ5EP8MJhI: Looking for automatic captions\n"
     ]
    },
    {
     "name": "stderr",
     "output_type": "stream",
     "text": [
      "WARNING: Couldn't find automatic captions for mcQ5EP8MJhI\n"
     ]
    },
    {
     "name": "stdout",
     "output_type": "stream",
     "text": [
      "[download] Downloading video 84 of 100\n",
      "[youtube] lDyLJlGkrqg: Downloading webpage\n",
      "[youtube] lDyLJlGkrqg: Downloading video info webpage\n",
      "[youtube] lDyLJlGkrqg: Looking for automatic captions\n"
     ]
    },
    {
     "name": "stderr",
     "output_type": "stream",
     "text": [
      "WARNING: Couldn't find automatic captions for lDyLJlGkrqg\n"
     ]
    },
    {
     "name": "stdout",
     "output_type": "stream",
     "text": [
      "[download] Downloading video 85 of 100\n",
      "[youtube] 8NojSCWiZXo: Downloading webpage\n",
      "[youtube] 8NojSCWiZXo: Downloading video info webpage\n",
      "[youtube] 8NojSCWiZXo: Looking for automatic captions\n"
     ]
    },
    {
     "name": "stderr",
     "output_type": "stream",
     "text": [
      "WARNING: Couldn't find automatic captions for 8NojSCWiZXo\n"
     ]
    },
    {
     "name": "stdout",
     "output_type": "stream",
     "text": [
      "[download] Downloading video 86 of 100\n",
      "[youtube] p8KUP3JNI4I: Downloading webpage\n",
      "[youtube] p8KUP3JNI4I: Downloading video info webpage\n",
      "[youtube] p8KUP3JNI4I: Looking for automatic captions\n"
     ]
    },
    {
     "name": "stderr",
     "output_type": "stream",
     "text": [
      "WARNING: Couldn't find automatic captions for p8KUP3JNI4I\n"
     ]
    },
    {
     "name": "stdout",
     "output_type": "stream",
     "text": [
      "[download] Downloading video 87 of 100\n",
      "[youtube] TeXQBMlZC8k: Downloading webpage\n",
      "[youtube] TeXQBMlZC8k: Downloading video info webpage\n",
      "[youtube] TeXQBMlZC8k: Looking for automatic captions\n"
     ]
    },
    {
     "name": "stderr",
     "output_type": "stream",
     "text": [
      "WARNING: Couldn't find automatic captions for TeXQBMlZC8k\n"
     ]
    },
    {
     "name": "stdout",
     "output_type": "stream",
     "text": [
      "[download] Downloading video 88 of 100\n",
      "[youtube] PQhnEgvTFmE: Downloading webpage\n",
      "[youtube] PQhnEgvTFmE: Downloading video info webpage\n",
      "[youtube] PQhnEgvTFmE: Looking for automatic captions\n"
     ]
    },
    {
     "name": "stderr",
     "output_type": "stream",
     "text": [
      "WARNING: Couldn't find automatic captions for PQhnEgvTFmE\n"
     ]
    },
    {
     "name": "stdout",
     "output_type": "stream",
     "text": [
      "[download] Downloading video 89 of 100\n",
      "[youtube] kAgsddZ6b8U: Downloading webpage\n",
      "[youtube] kAgsddZ6b8U: Downloading video info webpage\n",
      "[youtube] kAgsddZ6b8U: Looking for automatic captions\n"
     ]
    },
    {
     "name": "stderr",
     "output_type": "stream",
     "text": [
      "WARNING: Couldn't find automatic captions for kAgsddZ6b8U\n"
     ]
    },
    {
     "name": "stdout",
     "output_type": "stream",
     "text": [
      "[download] Downloading video 90 of 100\n",
      "[youtube] fGqT3lzOSKU: Downloading webpage\n",
      "[youtube] fGqT3lzOSKU: Downloading video info webpage\n",
      "[youtube] fGqT3lzOSKU: Looking for automatic captions\n"
     ]
    },
    {
     "name": "stderr",
     "output_type": "stream",
     "text": [
      "WARNING: Couldn't find automatic captions for fGqT3lzOSKU\n"
     ]
    },
    {
     "name": "stdout",
     "output_type": "stream",
     "text": [
      "[download] Downloading video 91 of 100\n",
      "[youtube] 20Uz-o0glEM: Downloading webpage\n",
      "[youtube] 20Uz-o0glEM: Downloading video info webpage\n",
      "[youtube] 20Uz-o0glEM: Looking for automatic captions\n",
      "[download] Downloading video 92 of 100\n",
      "[youtube] U5JiaQgEI84: Downloading webpage\n",
      "[youtube] U5JiaQgEI84: Downloading video info webpage\n",
      "[youtube] U5JiaQgEI84: Looking for automatic captions\n",
      "[youtube] U5JiaQgEI84: Downloading MPD manifest\n",
      "[download] Downloading video 93 of 100\n",
      "[youtube] 36hTaMiPLQ4: Downloading webpage\n",
      "[youtube] 36hTaMiPLQ4: Downloading video info webpage\n",
      "[youtube] 36hTaMiPLQ4: Looking for automatic captions\n"
     ]
    },
    {
     "name": "stderr",
     "output_type": "stream",
     "text": [
      "WARNING: Couldn't find automatic captions for 36hTaMiPLQ4\n"
     ]
    },
    {
     "name": "stdout",
     "output_type": "stream",
     "text": [
      "[download] Downloading video 94 of 100\n",
      "[youtube] BRogBKf9Bm8: Downloading webpage\n",
      "[youtube] BRogBKf9Bm8: Downloading video info webpage\n",
      "[youtube] BRogBKf9Bm8: Looking for automatic captions\n"
     ]
    },
    {
     "name": "stderr",
     "output_type": "stream",
     "text": [
      "WARNING: Couldn't find automatic captions for BRogBKf9Bm8\n"
     ]
    },
    {
     "name": "stdout",
     "output_type": "stream",
     "text": [
      "[download] Downloading video 95 of 100\n",
      "[youtube] Gq3LiSFx1t4: Downloading webpage\n",
      "[youtube] Gq3LiSFx1t4: Downloading video info webpage\n",
      "[youtube] Gq3LiSFx1t4: Looking for automatic captions\n"
     ]
    },
    {
     "name": "stderr",
     "output_type": "stream",
     "text": [
      "WARNING: Couldn't find automatic captions for Gq3LiSFx1t4\n"
     ]
    },
    {
     "name": "stdout",
     "output_type": "stream",
     "text": [
      "[youtube] Gq3LiSFx1t4: Downloading MPD manifest\n",
      "[download] Downloading video 96 of 100\n",
      "[youtube] 9dem-ZU9OLE: Downloading webpage\n",
      "[youtube] 9dem-ZU9OLE: Downloading video info webpage\n",
      "[youtube] 9dem-ZU9OLE: Looking for automatic captions\n",
      "[youtube] 9dem-ZU9OLE: Downloading MPD manifest\n",
      "[download] Downloading video 97 of 100\n",
      "[youtube] DieAckaG7TY: Downloading webpage\n",
      "[youtube] DieAckaG7TY: Downloading video info webpage\n",
      "[youtube] DieAckaG7TY: Looking for automatic captions\n"
     ]
    },
    {
     "name": "stderr",
     "output_type": "stream",
     "text": [
      "WARNING: Couldn't find automatic captions for DieAckaG7TY\n"
     ]
    },
    {
     "name": "stdout",
     "output_type": "stream",
     "text": [
      "[download] Downloading video 98 of 100\n",
      "[youtube] DsthYpCm0XM: Downloading webpage\n",
      "[youtube] DsthYpCm0XM: Downloading video info webpage\n",
      "[youtube] DsthYpCm0XM: Looking for automatic captions\n"
     ]
    },
    {
     "name": "stderr",
     "output_type": "stream",
     "text": [
      "WARNING: Couldn't find automatic captions for DsthYpCm0XM\n"
     ]
    },
    {
     "name": "stdout",
     "output_type": "stream",
     "text": [
      "[download] Downloading video 99 of 100\n",
      "[youtube] Aq_QxwNf5N8: Downloading webpage\n",
      "[youtube] Aq_QxwNf5N8: Downloading video info webpage\n",
      "[youtube] Aq_QxwNf5N8: Looking for automatic captions\n"
     ]
    },
    {
     "name": "stderr",
     "output_type": "stream",
     "text": [
      "WARNING: Couldn't find automatic captions for Aq_QxwNf5N8\n"
     ]
    },
    {
     "name": "stdout",
     "output_type": "stream",
     "text": [
      "[download] Downloading video 100 of 100\n",
      "[youtube] qNlo5ZuOdpA: Downloading webpage\n",
      "[youtube] qNlo5ZuOdpA: Downloading video info webpage\n",
      "[youtube] qNlo5ZuOdpA: Looking for automatic captions\n",
      "[download] Finished downloading playlist: Zegna Uomo\n"
     ]
    }
   ],
   "source": [
    "ydl_opts = {'dump_single_json': True, 'writeautomaticsub': True, 'subtitleslangs': ['en']}\n",
    "with youtube_dl.YoutubeDL(ydl_opts) as ydl:\n",
    "    result = ydl.extract_info(\"ytsearch100:Zegna Uomo\", download=False)"
   ]
  },
  {
   "cell_type": "code",
   "execution_count": 47,
   "metadata": {},
   "outputs": [
    {
     "data": {
      "text/html": [
       "<div>\n",
       "<style scoped>\n",
       "    .dataframe tbody tr th:only-of-type {\n",
       "        vertical-align: middle;\n",
       "    }\n",
       "\n",
       "    .dataframe tbody tr th {\n",
       "        vertical-align: top;\n",
       "    }\n",
       "\n",
       "    .dataframe thead th {\n",
       "        text-align: right;\n",
       "    }\n",
       "</style>\n",
       "<table border=\"1\" class=\"dataframe\">\n",
       "  <thead>\n",
       "    <tr style=\"text-align: right;\">\n",
       "      <th></th>\n",
       "      <th>Title</th>\n",
       "      <th>Description</th>\n",
       "      <th>Tags</th>\n",
       "      <th>Captions</th>\n",
       "    </tr>\n",
       "  </thead>\n",
       "  <tbody>\n",
       "    <tr>\n",
       "      <th>0</th>\n",
       "      <td>Uomo Ermenegildo Zegna for Men (2013)</td>\n",
       "      <td>a fragrance i TRULY love Frarantica Link    Fo...</td>\n",
       "      <td>zegna uomo fragrance review mens all year roun...</td>\n",
       "      <td>hey guys how are y'all doing I've been  mea...</td>\n",
       "    </tr>\n",
       "    <tr>\n",
       "      <th>1</th>\n",
       "      <td>Redolessence Smells &amp; Rates best Zegna fragrance</td>\n",
       "      <td>Facebook   Twitter   IG    Redolessence    Zeg...</td>\n",
       "      <td>best Zegna fragrance best Zegna cologne Zegna ...</td>\n",
       "      <td>what's going on guys so today's video I  go...</td>\n",
       "    </tr>\n",
       "    <tr>\n",
       "      <th>2</th>\n",
       "      <td>Ermenegildo Zegna Uomo (Review) 🔥🔥Cheapie sexi...</td>\n",
       "      <td></td>\n",
       "      <td></td>\n",
       "      <td>hey everybody welcome back     good      ev...</td>\n",
       "    </tr>\n",
       "    <tr>\n",
       "      <th>3</th>\n",
       "      <td>Uomo by Ermenegildo Zegna - A Quicky Review</td>\n",
       "      <td>Fragrantica Profile:    Zegna Website:</td>\n",
       "      <td>uomo Ermenegildo Zegna (Organization) fresh be...</td>\n",
       "      <td>come to another fragrance quickie and  toda...</td>\n",
       "    </tr>\n",
       "    <tr>\n",
       "      <th>4</th>\n",
       "      <td>FIRST IMPRESSION! | UOMO by Ermenegildo Zegna</td>\n",
       "      <td>HELLO EVERYONE!  Today at StudioScents I'm pre...</td>\n",
       "      <td>Fragrancepreview UOMO ErmenegildoZegna Firstim...</td>\n",
       "      <td>hi and welcome back to studio since I'm  To...</td>\n",
       "    </tr>\n",
       "  </tbody>\n",
       "</table>\n",
       "</div>"
      ],
      "text/plain": [
       "                                               Title  \\\n",
       "0              Uomo Ermenegildo Zegna for Men (2013)   \n",
       "1   Redolessence Smells & Rates best Zegna fragrance   \n",
       "2  Ermenegildo Zegna Uomo (Review) 🔥🔥Cheapie sexi...   \n",
       "3        Uomo by Ermenegildo Zegna - A Quicky Review   \n",
       "4      FIRST IMPRESSION! | UOMO by Ermenegildo Zegna   \n",
       "\n",
       "                                         Description  \\\n",
       "0  a fragrance i TRULY love Frarantica Link    Fo...   \n",
       "1  Facebook   Twitter   IG    Redolessence    Zeg...   \n",
       "2                                                      \n",
       "3           Fragrantica Profile:    Zegna Website:     \n",
       "4  HELLO EVERYONE!  Today at StudioScents I'm pre...   \n",
       "\n",
       "                                                Tags  \\\n",
       "0  zegna uomo fragrance review mens all year roun...   \n",
       "1  best Zegna fragrance best Zegna cologne Zegna ...   \n",
       "2                                                      \n",
       "3  uomo Ermenegildo Zegna (Organization) fresh be...   \n",
       "4  Fragrancepreview UOMO ErmenegildoZegna Firstim...   \n",
       "\n",
       "                                            Captions  \n",
       "0     hey guys how are y'all doing I've been  mea...  \n",
       "1     what's going on guys so today's video I  go...  \n",
       "2     hey everybody welcome back     good      ev...  \n",
       "3     come to another fragrance quickie and  toda...  \n",
       "4     hi and welcome back to studio since I'm  To...  "
      ]
     },
     "execution_count": 47,
     "metadata": {},
     "output_type": "execute_result"
    }
   ],
   "source": [
    "tag_re = re.compile(r'<[^>]+>')\n",
    "link_re = re.compile(r'http\\S+|\\d+')\n",
    "def remove_tags(text):\n",
    "    return tag_re.sub(' ', text)\n",
    "\n",
    "def remove_links(text):\n",
    "    return link_re.sub(' ', text)\n",
    "\n",
    "\n",
    "title, description, tags, captions = ([] for i in range(4))\n",
    "\n",
    "for i in result['entries']:\n",
    "    # append each item to a separate list and then add them as a dictionary to dataframe all at once after the loop has run\n",
    "    title.append(i['title'])\n",
    "    description.append(remove_links(i['description']).replace('\\n',' '))\n",
    "    tags.append(remove_links(' '.join(i['tags'])))\n",
    "    if 'en' in i['automatic_captions']:\n",
    "        auto_captions = requests.get(i['automatic_captions']['en'][0]['url'])\n",
    "        auto_captions_clean = remove_tags(auto_captions.text).replace('&amp;#39;', \"'\")         \\\n",
    "                                                             .replace('&lt;font',\" \")           \\\n",
    "                                                             .replace('color=&quot;', \" \")      \\\n",
    "                                                             .replace('&lt;/font&gt;', \" \")     \\\n",
    "                                                             .replace('#CCCCCC&quot;&gt;', \" \") \\\n",
    "                                                             .replace('#E5E5E5&quot;&gt;', \" \")\n",
    "        captions.append(auto_captions_clean)\n",
    "    else:\n",
    "        captions.append(float('nan'))\n",
    "uomo_yt_df = pd.DataFrame({'Title': title, 'Description': description, 'Tags': tags, 'Captions': captions})\n",
    "\n",
    "# uomo_yt_df.to_json('uomo_yt100.json') # save dataframe to JSON\n",
    "\n",
    "uomo_yt_df.head()"
   ]
  },
  {
   "cell_type": "markdown",
   "metadata": {},
   "source": [
    "**************\n",
    "\n",
    "## In-class Hands-on material begins here:\n",
    "Before class, please download the \"gensim\" package and run the following code cell to download several items for NLTK (Natural Language Toolkit). You can do this by clicking on your 'Anaconda Navigator' Program and completing the [following instructions](https://stackoverflow.com/questions/39299726/cant-find-package-on-anaconda-navigator-what-to-do-next), or by accessing your terminal and typing `conda install gensim` (and completing the installation process)."
   ]
  },
  {
   "cell_type": "code",
   "execution_count": 1,
   "metadata": {},
   "outputs": [
    {
     "name": "stderr",
     "output_type": "stream",
     "text": [
      "C:\\Users\\Jon Clindaniel\\Anaconda3\\lib\\site-packages\\gensim\\utils.py:1197: UserWarning: detected Windows; aliasing chunkize to chunkize_serial\n",
      "  warnings.warn(\"detected Windows; aliasing chunkize to chunkize_serial\")\n"
     ]
    }
   ],
   "source": [
    "import pandas as pd\n",
    "import nltk\n",
    "import matplotlib.pyplot as plt\n",
    "from gensim import corpora, models\n",
    "\n",
    "#nltk.download('punkt')\n",
    "#nltk.download('averaged_perceptron_tagger')\n",
    "#nltk.download('tagsets') \n",
    "#nltk.download('stopwords')\n",
    "#nltk.download('wordnet')\n",
    "\n",
    "# Read in Youtube Data for Uomo\n",
    "uomo_yt_df = pd.read_json('uomo_yt100.json')\n",
    "uomo_yt_df.dropna(inplace=True)"
   ]
  },
  {
   "cell_type": "markdown",
   "metadata": {},
   "source": [
    "******************"
   ]
  },
  {
   "cell_type": "markdown",
   "metadata": {},
   "source": [
    "NLTK allows us to tag parts of speech. Let's start by analyzing the most commonly used adjectives to see if they are consistent with the intended interpretant from the Uomo advertisement copy."
   ]
  },
  {
   "cell_type": "code",
   "execution_count": 2,
   "metadata": {},
   "outputs": [],
   "source": [
    "# Let's write this in a function, so that we can 'apply' this process to our series of Pandas text:\n",
    "def pos_tag(text):\n",
    "    import string\n",
    "    \n",
    "    # Define stop words--common words like \"the\"--and punctuation to drop from analysis\n",
    "    stop = nltk.corpus.stopwords.words('english') + list(string.punctuation) + [\"amp\", \"39\"]\n",
    "    \n",
    "    # Tokenize words using nltk.word_tokenize, keeping only those tokens that do not appear in the stop words we defined\n",
    "    tokens = [i for i in nltk.word_tokenize(text.lower()) if i not in stop]\n",
    "    \n",
    "    # Label parts of speech automatically using NLTK\n",
    "    pos_tagged = nltk.pos_tag(tokens)\n",
    "    return pos_tagged\n",
    "\n",
    "# Apply function to the column containing YT captions, can check and see that this returns parts of speech\n",
    "pos_tagged_captions = uomo_yt_df['Captions'].apply(pos_tag)\n",
    "\n",
    "# Extend list so that it contains all words/parts of speech for all the captions so I can analyze the overall adj. frequency\n",
    "pos_tagged_captions_full = []\n",
    "for i in pos_tagged_captions:\n",
    "    pos_tagged_captions_full.extend(i)"
   ]
  },
  {
   "cell_type": "code",
   "execution_count": 3,
   "metadata": {},
   "outputs": [
    {
     "name": "stdout",
     "output_type": "stream",
     "text": [
      "JJ: adjective or numeral, ordinal\n",
      "    third ill-mannered pre-war regrettable oiled calamitous first separable\n",
      "    ectoplasmic battery-powered participatory fourth still-to-be-named\n",
      "    multilingual multi-disciplinary ...\n"
     ]
    }
   ],
   "source": [
    "# Can check the NLTK codes in the following way:\n",
    "nltk.help.upenn_tagset('JJ')"
   ]
  },
  {
   "cell_type": "code",
   "execution_count": 5,
   "metadata": {},
   "outputs": [
    {
     "data": {
      "image/png": "[encoded data removed]",
      "text/plain": [
       "<Figure size 432x288 with 1 Axes>"
      ]
     },
     "metadata": {
      "needs_background": "light"
     },
     "output_type": "display_data"
    }
   ],
   "source": [
    "# Plot top adjectives using nltk's built-in Freq. distn. calculator and plotting function (http://nltk.sourceforge.net/doc/en/ch03.html)\n",
    "fd = nltk.FreqDist(word + \"/\" + tag for (word, tag) in pos_tagged_captions_full if tag[:2] == 'JJ')\n",
    "fd.plot(20, title = 'Overall Frequency of Top 10 Adjectives in YouTube Captions about Uomo Cologne');"
   ]
  },
  {
   "cell_type": "markdown",
   "metadata": {},
   "source": [
    "The data from the captions seems a bit noisy. This should not be surprising given that influencers often give introductions and talk about other things than the product proper when they are reviewing items. We do, however, see some hints of words associated with the product, such as \"great,\" \"good,\" \"fresh,\" and \"nice.\" Let's take a look at the other text associated with these YouTube videos. Perhaps the descriptions and tags associated with the videos will give us a clearer signal of the intended interpretants of the Uomo cologne.\n",
    "\n",
    "Let's write a function that takes in a Pandas Series of text data and tags parts of speech and plots the top adjectives for us so that we don't have to keep typing this out for the other columns in the dataframe that contain text:"
   ]
  },
  {
   "cell_type": "code",
   "execution_count": 6,
   "metadata": {},
   "outputs": [
    {
     "data": {
      "image/png": "[encoded data removed]",
      "text/plain": [
       "<Figure size 432x288 with 1 Axes>"
      ]
     },
     "metadata": {
      "needs_background": "light"
     },
     "output_type": "display_data"
    },
    {
     "data": {
      "image/png": "[encoded data removed]",
      "text/plain": [
       "<Figure size 432x288 with 1 Axes>"
      ]
     },
     "metadata": {
      "needs_background": "light"
     },
     "output_type": "display_data"
    }
   ],
   "source": [
    "def plot_top_adj(series, data_description):\n",
    "    # Apply part of Speech tagger that we wrote above to any Pandas series that pass into the function\n",
    "    pos_tagged = series.apply(pos_tag)\n",
    "\n",
    "    # Extend list so that it contains all words/parts of speech for all the captions\n",
    "    pos_tagged_full = []\n",
    "    for i in pos_tagged:\n",
    "        pos_tagged_full.extend(i)\n",
    "    \n",
    "    # Create Frequency Distribution of different adjectives and plot the distribution\n",
    "    fd = nltk.FreqDist(word + \"/\" + tag for (word, tag) in pos_tagged_full if tag[:2] == 'JJ')\n",
    "    fd.plot(10, title='Top 10 Adjectives for ' + data_description);\n",
    "    return\n",
    "\n",
    "# Make plots for frequency of top 10 adjectives in the Descriptions as well as in the Tags:\n",
    "plot_top_adj(uomo_yt_df['Description'], 'YouTube Uomo Descriptions')\n",
    "plot_top_adj(uomo_yt_df['Tags'], 'YouTube Uomo Tags')"
   ]
  },
  {
   "cell_type": "markdown",
   "metadata": {},
   "source": [
    "Our POS tagger doesn't seem to be functioning that well in the descriptions. We would likely need to develop some Youtube-specific stop-words (like \"subscribe\") in order to really evaluate the adjectival patterns here. You can see, though, that a couple of the terms in the tags seem to be relevant to our product (for instance, it seems to be reviewed beside Dior several times, and be described as \"best\" 15 times).\n",
    "\n",
    "Let's take a look at the parts of speech beyond adjectives. As it stands, we're probably overstating the number of unique nouns and verbs in the dataset, however, without adjusting for the different tenses, plural forms, etc. In order to study words other than adjectives, let's find the lemmas of each word so that our counts can be more accurate on an overall level.\n",
    "\n",
    "From Wikipedia [(Lemma Entry)](https://en.wikipedia.org/wiki/Lemma_(morphology)):\n",
    ">In morphology and lexicography, a lemma (plural lemmas or lemmata) is the canonical form, dictionary form, or citation form of a set of words (headword). In English, for example, run, runs, ran and running are forms of the same lexeme, with run as the lemma."
   ]
  },
  {
   "cell_type": "code",
   "execution_count": 7,
   "metadata": {},
   "outputs": [
    {
     "data": {
      "image/png": "[encoded data removed]",
      "text/plain": [
       "<Figure size 432x288 with 1 Axes>"
      ]
     },
     "metadata": {
      "needs_background": "light"
     },
     "output_type": "display_data"
    },
    {
     "data": {
      "image/png": "[encoded data removed]",
      "text/plain": [
       "<Figure size 432x288 with 1 Axes>"
      ]
     },
     "metadata": {
      "needs_background": "light"
     },
     "output_type": "display_data"
    },
    {
     "data": {
      "image/png": "[encoded data removed]",
      "text/plain": [
       "<Figure size 432x288 with 1 Axes>"
      ]
     },
     "metadata": {
      "needs_background": "light"
     },
     "output_type": "display_data"
    }
   ],
   "source": [
    "def get_wordnet_pos(word):\n",
    "    tag = nltk.pos_tag([word])[0][1][0].upper()\n",
    "    tag_dict = {\"J\": nltk.corpus.wordnet.ADJ,\n",
    "                \"N\": nltk.corpus.wordnet.NOUN,\n",
    "                \"V\": nltk.corpus.wordnet.VERB,\n",
    "                \"R\": nltk.corpus.wordnet.ADV}\n",
    "\n",
    "    return tag_dict.get(tag, nltk.corpus.wordnet.NOUN)\n",
    "\n",
    "def get_lemmas(text):\n",
    "    import string\n",
    "    stop = nltk.corpus.stopwords.words('english') + list(string.punctuation) + [\"amp\", \"39\", \"lt\", \"font\", \"/font\", \"font/\", \"color=\", \"gt\", \"quot\"]\n",
    "    tokens = [i for i in nltk.word_tokenize(text.lower()) if i not in stop]\n",
    "    lemmas = [nltk.stem.WordNetLemmatizer().lemmatize(t, get_wordnet_pos(t)) for t in tokens]\n",
    "    return lemmas\n",
    "\n",
    "def plot_top_lemmas(series, data_description):\n",
    "    lemmas = series.apply(get_lemmas)\n",
    "\n",
    "    # Extend list so that it contains all words/parts of speech for all the captions\n",
    "    lemmas_full = []\n",
    "    for i in lemmas:\n",
    "        lemmas_full.extend(i)\n",
    "\n",
    "    nltk.FreqDist(lemmas_full).plot(10, title='Top 10 Lemmas Overall for ' + data_description);\n",
    "    return\n",
    "plot_top_lemmas(uomo_yt_df['Captions'], 'YouTube Uomo Captions')\n",
    "plot_top_lemmas(uomo_yt_df['Description'], 'YouTube Uomo Descriptions')\n",
    "plot_top_lemmas(uomo_yt_df['Tags'], 'YouTube Uomo Tags')"
   ]
  },
  {
   "cell_type": "markdown",
   "metadata": {},
   "source": [
    "As you can see this data is all really messy. We're just seeing the most common words overall (i.e. words that appear a lot regardless of the specific Uomo product). To identify the signal in the midst of all this noise, we need to use another measure beyond frequency. One such measure is called TF-IDF. We will be exploring many different approaches to identifying signals in text data over the next couple of weeks, but today, we'll focus on this one.\n",
    "\n",
    "## [TF-IDF calculation](https://radimrehurek.com/gensim/auto_examples/index.html#core-tutorials)\n",
    "\n",
    "Wikipedia [(TF-IDF Entry)](https://en.wikipedia.org/wiki/Tf%E2%80%93idf):\n",
    "\n",
    ">In information retrieval, tf–idf or TFIDF, short for term frequency–inverse document frequency, is a numerical statistic that is intended to reflect how important a word is to a document in a collection or corpus. It is often used as a weighting factor in searches of information retrieval, text mining, and user modeling. The tf–idf value increases proportionally to the number of times a word appears in the document and is offset by the number of documents in the corpus that contain the word, which helps to adjust for the fact that some words appear more frequently in general.\n",
    "\n",
    "Let's utilize this statistic to try to identify the most \"important\" words that are used in the YouTube videos (i.e. cut through the noise of words that are just used more commonly than others):"
   ]
  },
  {
   "cell_type": "code",
   "execution_count": 11,
   "metadata": {},
   "outputs": [
    {
     "data": {
      "image/png": "[encoded data removed]",
      "text/plain": [
       "<Figure size 432x288 with 1 Axes>"
      ]
     },
     "metadata": {
      "needs_background": "light"
     },
     "output_type": "display_data"
    }
   ],
   "source": [
    "def plot_top_tfidf(series, data_description):\n",
    "    # Apply 'get lemmas' function to any Pandas Series that we pass in to get lemmas for each row in the Series\n",
    "    lemmas = series.apply(get_lemmas)\n",
    "    \n",
    "    # Initialize Series of lemmas as Gensim Dictionary for further processing\n",
    "    dictionary = corpora.Dictionary([i for i in lemmas])\n",
    "\n",
    "    # Convert dictionary into bag of words format: list of (token_id, token_count) tuples\n",
    "    bow_corpus = [dictionary.doc2bow(text) for text in lemmas]\n",
    "    \n",
    "    # Calculate TFIDF based on bag of words counts for each token and return weights:\n",
    "    tfidf = models.TfidfModel(bow_corpus)\n",
    "    tfidf_weights = tfidf[bow_corpus[0]]\n",
    "\n",
    "    # Sort TFIDF weights highest to lowest:\n",
    "    sorted_tfidf_weights = sorted(tfidf_weights, key=lambda w: w[1], reverse=True)\n",
    "\n",
    "    # Plot the top 10 weighted words:\n",
    "    top_10 = {dictionary[k]:v for k,v in sorted_tfidf_weights[:10]} # dictionary comprehension\n",
    "    plt.plot(list(top_10.keys()), list(top_10.values()))\n",
    "    plt.xticks(rotation='vertical')\n",
    "    plt.title('Top 10 Lemmas (TFIDF) for ' + data_description);\n",
    "    \n",
    "    return\n",
    "\n",
    "plot_top_tfidf(uomo_yt_df['Captions'], 'YouTube Uomo Captions')"
   ]
  },
  {
   "cell_type": "code",
   "execution_count": 12,
   "metadata": {},
   "outputs": [
    {
     "data": {
      "image/png": "[encoded data removed]",
      "text/plain": [
       "<Figure size 432x288 with 1 Axes>"
      ]
     },
     "metadata": {
      "needs_background": "light"
     },
     "output_type": "display_data"
    }
   ],
   "source": [
    "plot_top_tfidf(uomo_yt_df['Description'], 'YouTube Uomo Descriptions')"
   ]
  },
  {
   "cell_type": "code",
   "execution_count": 13,
   "metadata": {},
   "outputs": [
    {
     "data": {
      "image/png": "[encoded data removed]",
      "text/plain": [
       "<Figure size 432x288 with 1 Axes>"
      ]
     },
     "metadata": {
      "needs_background": "light"
     },
     "output_type": "display_data"
    }
   ],
   "source": [
    "plot_top_tfidf(uomo_yt_df['Tags'], 'YouTube Uomo Tags')"
   ]
  },
  {
   "cell_type": "markdown",
   "metadata": {},
   "source": [
    "This is still pretty noisy and would need some more cleaning to begin to reveal any serious patterns. We're starting to see some patterns, though--especially in the tags: sexy, men's year-round fragrance. Overall, this cologne definitely seems to produce interpretants related to the topics of masculinity and desirability. Let's take a look at smaller text samples to see if that helps us narrow down on the interpretant any and see if this is a legisign. We'll run these same functions on the Amazon reviews.\n",
    "\n",
    "## Amazon Reviews\n",
    "Let's see what interpretants are produced by everyday consumers of the product based on their Amazon reviews. While we could scrape these reviews, I used a Chrome Extension called [Amazon Review Downloader](https://chrome.google.com/webstore/detail/amazon-review-downloader/ikphihiljfhlmpokjbmkhliphckfpcph?hl=en-US) to quickly, and automatically download the reviews and store them as a CSV."
   ]
  },
  {
   "cell_type": "code",
   "execution_count": 29,
   "metadata": {},
   "outputs": [
    {
     "data": {
      "text/html": [
       "<div>\n",
       "<style scoped>\n",
       "    .dataframe tbody tr th:only-of-type {\n",
       "        vertical-align: middle;\n",
       "    }\n",
       "\n",
       "    .dataframe tbody tr th {\n",
       "        vertical-align: top;\n",
       "    }\n",
       "\n",
       "    .dataframe thead th {\n",
       "        text-align: right;\n",
       "    }\n",
       "</style>\n",
       "<table border=\"1\" class=\"dataframe\">\n",
       "  <thead>\n",
       "    <tr style=\"text-align: right;\">\n",
       "      <th></th>\n",
       "      <th>name</th>\n",
       "      <th>rating</th>\n",
       "      <th>review</th>\n",
       "    </tr>\n",
       "  </thead>\n",
       "  <tbody>\n",
       "    <tr>\n",
       "      <th>0</th>\n",
       "      <td>Jim_USA</td>\n",
       "      <td>4.0 out of 5 stars</td>\n",
       "      <td>Linear Clean Citrus Safe.  Four sprays and 2 hours later  the mid notes are the same as the top notes.  A little cedar wanders in but this simply a nice clean citrus scent that will not be over powering.  Clean casual scent that won't put anyone off it stays close to the skin.  For my style and skin it's a Spring and Summer or an \"\"after work out\"\" fragrance.</td>\n",
       "    </tr>\n",
       "    <tr>\n",
       "      <th>1</th>\n",
       "      <td>Jon Dunham</td>\n",
       "      <td>5.0 out of 5 stars</td>\n",
       "      <td>I get compliments every day! \"\"Is that Versace?\"\" \"\"Wow that cologne!\"\" \"\"You smell amazing!\"\" \"\"I don't wanna sound strange but you smell so good!\"\"</td>\n",
       "    </tr>\n",
       "    <tr>\n",
       "      <th>2</th>\n",
       "      <td>Iggy</td>\n",
       "      <td>5.0 out of 5 stars</td>\n",
       "      <td>If you know about fragrances and do not want to be counted of another one of the million....You want to be exclusive....You know what you want and how it projects your image....then you should get IT.Compare to other TWO initial fragrances this one will set you apart from the commonality.</td>\n",
       "    </tr>\n",
       "  </tbody>\n",
       "</table>\n",
       "</div>"
      ],
      "text/plain": [
       "         name              rating  \\\n",
       "0  Jim_USA     4.0 out of 5 stars   \n",
       "1  Jon Dunham  5.0 out of 5 stars   \n",
       "2  Iggy        5.0 out of 5 stars   \n",
       "\n",
       "                                                                                                                                                                                                                                                                                                                                                                      review  \n",
       "0  Linear Clean Citrus Safe.  Four sprays and 2 hours later  the mid notes are the same as the top notes.  A little cedar wanders in but this simply a nice clean citrus scent that will not be over powering.  Clean casual scent that won't put anyone off it stays close to the skin.  For my style and skin it's a Spring and Summer or an \"\"after work out\"\" fragrance.  \n",
       "1  I get compliments every day! \"\"Is that Versace?\"\" \"\"Wow that cologne!\"\" \"\"You smell amazing!\"\" \"\"I don't wanna sound strange but you smell so good!\"\"                                                                                                                                                                                                                      \n",
       "2  If you know about fragrances and do not want to be counted of another one of the million....You want to be exclusive....You know what you want and how it projects your image....then you should get IT.Compare to other TWO initial fragrances this one will set you apart from the commonality.                                                                          "
      ]
     },
     "execution_count": 29,
     "metadata": {},
     "output_type": "execute_result"
    }
   ],
   "source": [
    "amazon_rev_df = pd.read_csv('uomo_amazon.csv')\n",
    "\n",
    "# Show full reviews of the first couple of reviewers\n",
    "pd.set_option('display.max_colwidth', -1)\n",
    "amazon_rev_df.head(3)"
   ]
  },
  {
   "cell_type": "code",
   "execution_count": 78,
   "metadata": {},
   "outputs": [
    {
     "data": {
      "image/png": "[encoded data removed]",
      "text/plain": [
       "<Figure size 432x288 with 1 Axes>"
      ]
     },
     "metadata": {
      "needs_background": "light"
     },
     "output_type": "display_data"
    },
    {
     "data": {
      "image/png": "[encoded data removed]",
      "text/plain": [
       "<Figure size 432x288 with 1 Axes>"
      ]
     },
     "metadata": {
      "needs_background": "light"
     },
     "output_type": "display_data"
    },
    {
     "data": {
      "image/png": "[encoded data removed]",
      "text/plain": [
       "<Figure size 432x288 with 1 Axes>"
      ]
     },
     "metadata": {
      "needs_background": "light"
     },
     "output_type": "display_data"
    }
   ],
   "source": [
    "plot_top_adj(amazon_rev_df['review'], 'Amazon Uomo Reviews')\n",
    "\n",
    "plot_top_lemmas(amazon_rev_df['review'], 'Amazon Uomo Reviews')\n",
    "\n",
    "plot_top_tfidf(amazon_rev_df['review'], 'Amazon Uomo Reviews')"
   ]
  },
  {
   "cell_type": "markdown",
   "metadata": {},
   "source": [
    "In the adjectives, we can see there is consistency in the way people describe the product as \"great,\" \"good,\" \"best,\" and \"fresh.\" Additionally when we measure TFIDF, we can see that \"clean, citrus notes\" seem to be the top lemmas, corresponding with the \"fresh.\" From this, it is difficult to tell whether these men associate these characteristics with the abstract concepts of \"masculinity\" \"confidence,\" and \"mastery,\" (although, the use of the word \"notes\" consistently, makes me suspect they are indexing a language of sophistication similarly to the way people talk about wine) but they do seem to like the product and from the tags in the YouTube videos (TFIDF plot), we can see there is a clear association of the product with \"masculinity\" and \"sexiness.\" It seems that, in the broad strokes, Zegna's intended interpretants do match the typical interpretants of the fashion sign. This sign relation of masculinity and sexiness (interpretant) with the cologne (sign vehicle), thus, seems to be a replication of a broader legisign--a culturally patterned association between these particular fresh, citrus notes and masculinity.\n",
    "\n",
    "In future weeks, we'll build on what we've done here and learn how we can expand 1-word text analyses to interpret the context in which words appear, as well as to identify more general \"topics\" that are commonly referred to in a corpus of texts. These techniques will allow us to add a bit more nuance to our computational analyses of cultural patterns."
   ]
  }
 ],
 "metadata": {
  "kernelspec": {
   "display_name": "Python 3",
   "language": "python",
   "name": "python3"
  },
  "language_info": {
   "codemirror_mode": {
    "name": "ipython",
    "version": 3
   },
   "file_extension": ".py",
   "mimetype": "text/x-python",
   "name": "python",
   "nbconvert_exporter": "python",
   "pygments_lexer": "ipython3",
   "version": "3.7.4"
  }
 },
 "nbformat": 4,
 "nbformat_minor": 2
}
