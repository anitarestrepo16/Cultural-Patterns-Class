{
 "cells": [
  {
   "cell_type": "markdown",
   "metadata": {},
   "source": [
    "python is object-oriented\n",
    "    have properties\n",
    "    can go into functions\n",
    "string objects: \n",
    "    functions built in\n",
    "    properties\n",
    "types of objects\n",
    "    integers\n",
    "    list\n",
    "    tuple\n",
    "    string\n",
    "    dictionary\n",
    "strings go in quotes"
   ]
  },
  {
   "cell_type": "code",
   "execution_count": 6,
   "metadata": {},
   "outputs": [
    {
     "name": "stdout",
     "output_type": "stream",
     "text": [
      "3\n",
      "cactus\n",
      "dog\n"
     ]
    }
   ],
   "source": [
    "#length\n",
    "len(\"3\") #would equal 1\n",
    "#len is inbuilt function\n",
    "#tuple is immutable - can't change it\n",
    "randlist = [\"3\", \"cactus\", \"dog\"]\n",
    "randtuple = (\"3\", \"cactus\", \"dog\")\n",
    "#loops\n",
    "for item in randlist:\n",
    "    print(item)"
   ]
  },
  {
   "cell_type": "code",
   "execution_count": 9,
   "metadata": {},
   "outputs": [
    {
     "name": "stdout",
     "output_type": "stream",
     "text": [
      "1\n",
      "6\n",
      "3\n"
     ]
    }
   ],
   "source": [
    "for item in randlist:\n",
    "    print(len(item))"
   ]
  },
  {
   "cell_type": "code",
   "execution_count": 10,
   "metadata": {},
   "outputs": [
    {
     "name": "stdout",
     "output_type": "stream",
     "text": [
      "[1, 6, 3]\n"
     ]
    }
   ],
   "source": [
    "#list comprehension\n",
    "comp_list = [len(item) for item in randlist]\n",
    "print(comp_list)"
   ]
  },
  {
   "cell_type": "code",
   "execution_count": 18,
   "metadata": {},
   "outputs": [
    {
     "data": {
      "text/plain": [
       "'Margaret Thatcher'"
      ]
     },
     "execution_count": 18,
     "metadata": {},
     "output_type": "execute_result"
    }
   ],
   "source": [
    "str1 = \"Margaret Thatcher\"\n",
    "str.upper(str1) #capitalize all\n",
    "str.lower(str1) #lower case all\n",
    "str.capitalize(str1) #capitalize first character\n",
    "str.split(str1) #separate by spaces\n",
    "str1 #text is not mutable - create new string when do things on it"
   ]
  },
  {
   "cell_type": "code",
   "execution_count": 20,
   "metadata": {},
   "outputs": [
    {
     "data": {
      "text/plain": [
       "'Mar'"
      ]
     },
     "execution_count": 20,
     "metadata": {},
     "output_type": "execute_result"
    }
   ],
   "source": [
    "#indexing - starts at zero and NOT INCLUSIVE ON THE RIGHT SIDEEEEEEE!!!!!!!!!!!\n",
    "str1[0:3]"
   ]
  },
  {
   "cell_type": "code",
   "execution_count": 21,
   "metadata": {},
   "outputs": [
    {
     "data": {
      "text/plain": [
       "'Mar'"
      ]
     },
     "execution_count": 21,
     "metadata": {},
     "output_type": "execute_result"
    }
   ],
   "source": [
    "str1[:3] #Because of reasons above still produces the same"
   ]
  },
  {
   "cell_type": "code",
   "execution_count": null,
   "metadata": {},
   "outputs": [],
   "source": [
    "#regular expressions - to find specific items\n",
    "import re #package to use regular expressions\n",
    "#work for content, frequency and location -> make it specific\n",
    "r'\\$' # r tells it is a regular expression, backslash so computer doesn't confuse with regular expression item - take it literally\n",
    "r'\\.com' # find everything with .com\n",
    "r'dog' # no special regular expression if just normal charcters - find specific string of text\n",
    "#advantage of regular expressions is when you start using special codes for CONTENT\n",
    "r'\\w' # search for alphanumeric string (w for word) - big boss, covers most things\n",
    "r'\\d' # search for numbers (d for digits)\n",
    "r'\\s' # search for space characters\n",
    "r'\\n' # search for new lines\n",
    "r'\\t' # search for tabs\n",
    "r'\\r' # find patterns\n",
    "# for everything EXCEPT one of these: capitalize\n",
    "r'\\S' # everything but the spaces\n",
    "\n",
    "okcupid = \"i'm almost 54 and 1/2 and i've decided what i want to be when igrow up.\"\n",
    "\n",
    "#to encode frequency\n",
    "r'\\d\\d\\d\\d' # find everything that is four digits\n",
    "# or\n",
    "r'\\d{4}'\n",
    "# if multiple options\n",
    "r'\\d{2,4}' # from two up to four\n",
    "# or\n",
    "r'\\d*' # 0 or more - pull them out if they're there but don't care\n",
    "# or\n",
    "r'\\d+' # at least one\n",
    "\n",
    "#combining\n",
    "r'\\w{4}\\d{2}' # find everything that is four characters and then 2 digits\n",
    "r'.' #anything\n",
    "\n",
    "#location\n",
    "$ # means it's at the end of a line\n",
    "^ # means it's at the beginning of a line\n",
    "\n",
    "\n",
    "# using the code\n",
    "[A-Z] #all letters\n",
    "[0-9] # all digits\n",
    "tag_re = re.compile(r'\\d') # keep this ready for a search -> make it into its own object\n",
    "tag_re.sub(' ', text) # once you find this expression, substitute with a space\n"
   ]
  }
 ],
 "metadata": {
  "kernelspec": {
   "display_name": "Python 3",
   "language": "python",
   "name": "python3"
  },
  "language_info": {
   "codemirror_mode": {
    "name": "ipython",
    "version": 3
   },
   "file_extension": ".py",
   "mimetype": "text/x-python",
   "name": "python",
   "nbconvert_exporter": "python",
   "pygments_lexer": "ipython3",
   "version": "3.7.4"
  }
 },
 "nbformat": 4,
 "nbformat_minor": 2
}
