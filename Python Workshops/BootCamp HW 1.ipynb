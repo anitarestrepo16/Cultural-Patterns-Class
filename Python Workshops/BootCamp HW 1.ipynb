{
 "cells": [
  {
   "cell_type": "markdown",
   "metadata": {},
   "source": [
    "# Part 1"
   ]
  },
  {
   "cell_type": "code",
   "execution_count": 1,
   "metadata": {},
   "outputs": [],
   "source": [
    "Psychology = [\"Mary_Adda_Liddlelam\", \"Annie_Hu\"]\n",
    "Sociology = [\"Cai_Futong\"]\n",
    "Anthropology = [\"Sue_Peirce_Tishus\"]\n",
    "Computer_Science = [\"Jack_Overflow\"]"
   ]
  },
  {
   "cell_type": "code",
   "execution_count": 2,
   "metadata": {},
   "outputs": [
    {
     "name": "stdout",
     "output_type": "stream",
     "text": [
      "['Jack_Overflow', 'Cai_Futong']\n",
      "[]\n"
     ]
    }
   ],
   "source": [
    "Computer_Science.append(\"Cai_Futong\")\n",
    "print(Computer_Science)\n",
    "Sociology = []\n",
    "print(Sociology)"
   ]
  },
  {
   "cell_type": "code",
   "execution_count": 4,
   "metadata": {},
   "outputs": [
    {
     "name": "stdout",
     "output_type": "stream",
     "text": [
      "['Sue_Peirce_Tishus', 'Mary_Adda_Liddlelam', 'Annie_Hu']\n"
     ]
    }
   ],
   "source": [
    "Anthropology.extend(Psychology)\n",
    "print(Anthropology)\n",
    "Psychology = []"
   ]
  },
  {
   "cell_type": "code",
   "execution_count": 6,
   "metadata": {},
   "outputs": [
    {
     "data": {
      "text/plain": [
       "False"
      ]
     },
     "execution_count": 6,
     "metadata": {},
     "output_type": "execute_result"
    }
   ],
   "source": [
    "\"Annie_Hu\" in Psychology"
   ]
  },
  {
   "cell_type": "code",
   "execution_count": 8,
   "metadata": {},
   "outputs": [
    {
     "name": "stdout",
     "output_type": "stream",
     "text": [
      "Sue_Peirce_Tishus\n",
      "Mary_Adda_Liddlelam\n",
      "Annie_Hu\n"
     ]
    }
   ],
   "source": [
    "for i in Anthropology:\n",
    "    print(i)"
   ]
  },
  {
   "cell_type": "code",
   "execution_count": 10,
   "metadata": {},
   "outputs": [
    {
     "data": {
      "text/plain": [
       "3"
      ]
     },
     "execution_count": 10,
     "metadata": {},
     "output_type": "execute_result"
    }
   ],
   "source": [
    "len(Anthropology)"
   ]
  },
  {
   "cell_type": "markdown",
   "metadata": {},
   "source": [
    "# Part 2"
   ]
  },
  {
   "cell_type": "code",
   "execution_count": 12,
   "metadata": {},
   "outputs": [
    {
     "name": "stdout",
     "output_type": "stream",
     "text": [
      "{'Mary_Adda_Liddlelam': {'Major': 'Psychology', 'Language': 'English'}, 'Cai_Futong': {'Major': 'Sociology', 'Language': 'Mandarin'}}\n"
     ]
    }
   ],
   "source": [
    "kids = {\"Mary_Adda_Liddlelam\": {\"Major\": \"Psychology\", \"Language\": \"English\"},\n",
    "        \"Cai_Futong\": {\"Major\": \"Sociology\", \"Language\": \"Mandarin\"}\n",
    "       }\n",
    "print(kids)"
   ]
  },
  {
   "cell_type": "code",
   "execution_count": 14,
   "metadata": {},
   "outputs": [],
   "source": [
    "Cai_Futong = {\"Major\": \"Sociology\", \"Language\": \"Mandarin\"}\n"
   ]
  },
  {
   "cell_type": "code",
   "execution_count": 16,
   "metadata": {},
   "outputs": [],
   "source": [
    "def FindMajor(name):\n",
    "    return name[\"Major\"]"
   ]
  },
  {
   "cell_type": "code",
   "execution_count": 17,
   "metadata": {},
   "outputs": [
    {
     "data": {
      "text/plain": [
       "'Sociology'"
      ]
     },
     "execution_count": 17,
     "metadata": {},
     "output_type": "execute_result"
    }
   ],
   "source": [
    "FindMajor(Cai_Futong)"
   ]
  }
 ],
 "metadata": {
  "kernelspec": {
   "display_name": "Python 3",
   "language": "python",
   "name": "python3"
  },
  "language_info": {
   "codemirror_mode": {
    "name": "ipython",
    "version": 3
   },
   "file_extension": ".py",
   "mimetype": "text/x-python",
   "name": "python",
   "nbconvert_exporter": "python",
   "pygments_lexer": "ipython3",
   "version": "3.7.3"
  }
 },
 "nbformat": 4,
 "nbformat_minor": 2
}
