{
 "cells": [
  {
   "cell_type": "markdown",
   "metadata": {},
   "source": [
    "# Data Structures\n",
    "\"Objects that store data in Python that have certain methods associated with them\""
   ]
  },
  {
   "cell_type": "markdown",
   "metadata": {},
   "source": [
    "## Lists (ordered collection) [ ]"
   ]
  },
  {
   "cell_type": "code",
   "execution_count": 8,
   "metadata": {},
   "outputs": [
    {
     "name": "stdout",
     "output_type": "stream",
     "text": [
      "['pink', 'yellow', 'green']\n"
     ]
    }
   ],
   "source": [
    "#Create a list of colors (similar to an array in other languages)\n",
    "colors=[\"pink\",\"yellow\",\"green\"]\n",
    "print(colors)"
   ]
  },
  {
   "cell_type": "code",
   "execution_count": 9,
   "metadata": {},
   "outputs": [
    {
     "name": "stdout",
     "output_type": "stream",
     "text": [
      "['pink', 'yellow', 'green', 'blue']\n"
     ]
    }
   ],
   "source": [
    "#Add to the list\n",
    "colors.append(\"blue\")\n",
    "print(colors)"
   ]
  },
  {
   "cell_type": "code",
   "execution_count": 10,
   "metadata": {},
   "outputs": [
    {
     "data": {
      "text/plain": [
       "['pink', 'yellow', 'green', 'blue', 'purple', 'aqua']"
      ]
     },
     "execution_count": 10,
     "metadata": {},
     "output_type": "execute_result"
    }
   ],
   "source": [
    "#Concatenate\n",
    "colors.extend([\"purple\",\"aqua\"])\n",
    "colors"
   ]
  },
  {
   "cell_type": "code",
   "execution_count": 11,
   "metadata": {},
   "outputs": [
    {
     "name": "stdout",
     "output_type": "stream",
     "text": [
      "True False\n"
     ]
    }
   ],
   "source": [
    "#search the list (look for yellow in the colors list)\n",
    "print(\"yellow\" in colors,\"orange\" in colors)"
   ]
  },
  {
   "cell_type": "markdown",
   "metadata": {},
   "source": [
    "### Slice the list"
   ]
  },
  {
   "cell_type": "code",
   "execution_count": 12,
   "metadata": {},
   "outputs": [
    {
     "data": {
      "text/plain": [
       "'purple'"
      ]
     },
     "execution_count": 12,
     "metadata": {},
     "output_type": "execute_result"
    }
   ],
   "source": [
    "colors[0]\n",
    "colors[:2]\n",
    "colors[3:]\n",
    "colors[1:3]\n",
    "colors[-2]"
   ]
  },
  {
   "cell_type": "markdown",
   "metadata": {},
   "source": [
    "## Tuples (similar to lists but can't modify them)   ( ) or nothing"
   ]
  },
  {
   "cell_type": "code",
   "execution_count": 6,
   "metadata": {},
   "outputs": [
    {
     "name": "stdout",
     "output_type": "stream",
     "text": [
      "(11, 28)\n",
      "11 28\n"
     ]
    },
    {
     "data": {
      "text/plain": [
       "int"
      ]
     },
     "execution_count": 6,
     "metadata": {},
     "output_type": "execute_result"
    }
   ],
   "source": [
    "#Use these for multiple assignment (same as lists)\n",
    "# x,y = y,x     Pythonic way to swap elements where x and y are variables\n",
    "def sum_prod(x,y):\n",
    "    return x+y,x*y\n",
    "\n",
    "sp=sum_prod(4,7)\n",
    "print(sp)\n",
    "type(sp)\n",
    "s,p=sum_prod(4,7)\n",
    "print (s,p)\n",
    "type(s)\n"
   ]
  },
  {
   "cell_type": "markdown",
   "metadata": {},
   "source": [
    "## Dictionaries (associates values with keys)    { } \n",
    "Key value pairs; key is a string, value can be anything, a list, a tuple, etc."
   ]
  },
  {
   "cell_type": "markdown",
   "metadata": {},
   "source": [
    "#### Keys must be immutable"
   ]
  },
  {
   "cell_type": "code",
   "execution_count": 1,
   "metadata": {},
   "outputs": [
    {
     "name": "stdout",
     "output_type": "stream",
     "text": [
      "{}\n"
     ]
    },
    {
     "data": {
      "text/plain": [
       "dict"
      ]
     },
     "execution_count": 1,
     "metadata": {},
     "output_type": "execute_result"
    }
   ],
   "source": [
    "#Create an empty dictionary\n",
    "studentId={}\n",
    "print(studentId)\n",
    "type(studentId)"
   ]
  },
  {
   "cell_type": "code",
   "execution_count": 9,
   "metadata": {},
   "outputs": [
    {
     "name": "stdout",
     "output_type": "stream",
     "text": [
      "{'Joe': 351060, 'Bob': 342111}\n",
      "342111\n"
     ]
    }
   ],
   "source": [
    "#Create a dictionary with a few elements\n",
    "studentId={\"Joe\":351060, \"Bob\": 342111}\n",
    "print(studentId)\n",
    "print(studentId['Bob'])"
   ]
  },
  {
   "cell_type": "code",
   "execution_count": 11,
   "metadata": {},
   "outputs": [
    {
     "name": "stdout",
     "output_type": "stream",
     "text": [
      "342111\n",
      "0\n"
     ]
    }
   ],
   "source": [
    "# Now what if I searched for someone not in the dictionary? Crashes my code and would be difficult to adjust using this method\n",
    "#print(studentId['Steve'])\n",
    "\n",
    "# Useful when searching over large dictionaries (like database data): 'get' function returns value if it is there, \n",
    "# but returns 'None' or a specified value (0) if not found\n",
    "print(studentId.get(\"Bob\",0))\n",
    "print(studentId.get(\"Steve\",0))"
   ]
  },
  {
   "cell_type": "code",
   "execution_count": 10,
   "metadata": {},
   "outputs": [
    {
     "name": "stdout",
     "output_type": "stream",
     "text": [
      "{'Steve': 351212, 'Joe': 351060, 'Bob': 342111}\n"
     ]
    }
   ],
   "source": [
    "#Assign new value pairs\n",
    "studentId[\"Steve\"]=351212\n",
    "print(studentId)"
   ]
  },
  {
   "cell_type": "code",
   "execution_count": 11,
   "metadata": {},
   "outputs": [
    {
     "name": "stdout",
     "output_type": "stream",
     "text": [
      "3\n"
     ]
    },
    {
     "data": {
      "text/plain": [
       "dict"
      ]
     },
     "execution_count": 11,
     "metadata": {},
     "output_type": "execute_result"
    }
   ],
   "source": [
    "#Check length and type\n",
    "print(len(studentId))\n",
    "type(studentId)"
   ]
  },
  {
   "cell_type": "code",
   "execution_count": 12,
   "metadata": {},
   "outputs": [
    {
     "data": {
      "text/plain": [
       "True"
      ]
     },
     "execution_count": 12,
     "metadata": {},
     "output_type": "execute_result"
    }
   ],
   "source": [
    "\"Bob\" in studentId"
   ]
  },
  {
   "cell_type": "code",
   "execution_count": 13,
   "metadata": {},
   "outputs": [
    {
     "data": {
      "text/plain": [
       "False"
      ]
     },
     "execution_count": 13,
     "metadata": {},
     "output_type": "execute_result"
    }
   ],
   "source": [
    "\"Carl\" in studentId"
   ]
  },
  {
   "cell_type": "code",
   "execution_count": 2,
   "metadata": {},
   "outputs": [
    {
     "name": "stdout",
     "output_type": "stream",
     "text": [
      "[100, 90]\n"
     ]
    },
    {
     "data": {
      "text/plain": [
       "100"
      ]
     },
     "execution_count": 2,
     "metadata": {},
     "output_type": "execute_result"
    }
   ],
   "source": [
    "# Store ordered lists as values\n",
    "student_scores = {'Bob':[100, 90],'Steve':[80,70]}\n",
    "print(student_scores.get('Bob'))\n",
    "print(student_scores.get('Bob')[0])"
   ]
  },
  {
   "cell_type": "code",
   "execution_count": 6,
   "metadata": {},
   "outputs": [
    {
     "name": "stdout",
     "output_type": "stream",
     "text": [
      "{'Hobby': 'Rowing', 'Age': 24}\n",
      "24\n"
     ]
    }
   ],
   "source": [
    "# Store dictionaries as values to embed even more data via sub-keys and values\n",
    "student_info = {'Bob':{'Hobby':'Rowing', 'Age':24}, 'Steve':{'Hobby':'Boxing', 'Age':30}}\n",
    "\n",
    "print(student_info.get('Bob'))\n",
    "\n",
    "print(student_info.get('Bob').get('Age'))"
   ]
  },
  {
   "cell_type": "markdown",
   "metadata": {},
   "source": [
    "## Finding Help\n",
    "1. Abe: Piazza for posting questions, classmates can all contribute to this\n",
    "2. Google search errors you receive will often lead you to this website stack overflow where someone has had the problem before you\n",
    "3. Python documentation"
   ]
  }
 ],
 "metadata": {
  "kernelspec": {
   "display_name": "Python 3",
   "language": "python",
   "name": "python3"
  },
  "language_info": {
   "codemirror_mode": {
    "name": "ipython",
    "version": 3
   },
   "file_extension": ".py",
   "mimetype": "text/x-python",
   "name": "python",
   "nbconvert_exporter": "python",
   "pygments_lexer": "ipython3",
   "version": "3.7.3"
  }
 },
 "nbformat": 4,
 "nbformat_minor": 1
}
