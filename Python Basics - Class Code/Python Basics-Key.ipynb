{
 "cells": [
  {
   "cell_type": "markdown",
   "metadata": {},
   "source": [
    "# Python Basics"
   ]
  },
  {
   "cell_type": "markdown",
   "metadata": {},
   "source": [
    "### After downloading Anaconda distribution of Python 3...\n",
    "\n",
    "### Working with cells in jupyter notebooks\n",
    "1. this is the first point\n",
    "2. this is the second point"
   ]
  },
  {
   "cell_type": "code",
   "execution_count": null,
   "metadata": {},
   "outputs": [],
   "source": [
    "# Add 3 new cells - \n",
    "# show how to change them from code to markdown and vice versa\n",
    "# show how to move them up and down"
   ]
  },
  {
   "cell_type": "markdown",
   "metadata": {},
   "source": [
    "## Working with numbers"
   ]
  },
  {
   "cell_type": "code",
   "execution_count": 9,
   "metadata": {
    "scrolled": true
   },
   "outputs": [
    {
     "name": "stdout",
     "output_type": "stream",
     "text": [
      "1\n",
      "1 1\n",
      "8\n",
      "4\n",
      "10\n"
     ]
    }
   ],
   "source": [
    "# functions take an input in parenthesis and return an output in the white space below based on what the function does.\n",
    "# Print function prints out what is inside the paranthesis.\n",
    "print(1) #no operation, just print function\n",
    "print(1, 1) #print multiple things, separated by comma, printed out side by side\n",
    "print(3+5)  #addition\n",
    "print(6-2)  #subtraction\n",
    "print(2*5)  #multiplication"
   ]
  },
  {
   "cell_type": "code",
   "execution_count": 22,
   "metadata": {
    "collapsed": true
   },
   "outputs": [],
   "source": [
    "#This is a comment in Python\n",
    "#Whitespace is ignored inside parentheses and brackets, but is essential to show blocks of code "
   ]
  },
  {
   "cell_type": "code",
   "execution_count": 8,
   "metadata": {},
   "outputs": [
    {
     "name": "stdout",
     "output_type": "stream",
     "text": [
      "2.5\n",
      "2\n",
      "1\n"
     ]
    }
   ],
   "source": [
    "print(5/2)  #what we know as division\n",
    "print(5//2) #integer division\n",
    "print(5%2) #modulus operator -- the remainder of integer division"
   ]
  },
  {
   "cell_type": "code",
   "execution_count": 34,
   "metadata": {},
   "outputs": [
    {
     "name": "stdout",
     "output_type": "stream",
     "text": [
      "25\n"
     ]
    }
   ],
   "source": [
    "print(5**2)  #5 raised to the 2nd power (5^2)"
   ]
  },
  {
   "cell_type": "code",
   "execution_count": null,
   "metadata": {
    "collapsed": true
   },
   "outputs": [],
   "source": []
  },
  {
   "cell_type": "markdown",
   "metadata": {},
   "source": [
    "## Strings"
   ]
  },
  {
   "cell_type": "code",
   "execution_count": 28,
   "metadata": {},
   "outputs": [],
   "source": [
    "#Use either single or double quotes for strings, but be consistent\n",
    "myMessage = \"Hello, world!\"\n",
    "yourMessage = 'Hello, world!'"
   ]
  },
  {
   "cell_type": "code",
   "execution_count": 7,
   "metadata": {},
   "outputs": [
    {
     "name": "stdout",
     "output_type": "stream",
     "text": [
      "This is a new line \n",
      "of text\n",
      "This is a new line \n",
      " of text\n"
     ]
    }
   ],
   "source": [
    "#Use the backslash to encode special characters\n",
    "new_line = \"\\n\"\n",
    "print('This is a new line ' + new_line + 'of text')"
   ]
  },
  {
   "cell_type": "code",
   "execution_count": 30,
   "metadata": {},
   "outputs": [
    {
     "name": "stdout",
     "output_type": "stream",
     "text": [
      "This will not give a \\n new line of text\n",
      "This will give a\n",
      "new line of text\n"
     ]
    }
   ],
   "source": [
    "#Use r to represent a raw string (example: if you want a backslash to appear and not signify a new line)\n",
    "not_new_line = r\"\\n\"\n",
    "new_line = \"\\n\"\n",
    "print('This will not give a ' + not_new_line + ' new line of text')\n",
    "print ('This will give a' + new_line + 'new line of text')"
   ]
  },
  {
   "cell_type": "code",
   "execution_count": 31,
   "metadata": {},
   "outputs": [
    {
     "name": "stdout",
     "output_type": "stream",
     "text": [
      " I can start a message like this\n",
      "and continue it on the next line\n",
      "and keep going for as many lines as I wish\n",
      "before eventually ending it. \n"
     ]
    }
   ],
   "source": [
    "#Use triple (double) quotes to create a multi-line string\n",
    "myMessage = \"\"\" I can start a message like this\n",
    "and continue it on the next line\n",
    "and keep going for as many lines as I wish\n",
    "before eventually ending it. \"\"\"\n",
    "print(myMessage)"
   ]
  },
  {
   "cell_type": "markdown",
   "metadata": {},
   "source": [
    "## Variables and Functions"
   ]
  },
  {
   "cell_type": "code",
   "execution_count": 1,
   "metadata": {},
   "outputs": [
    {
     "name": "stdout",
     "output_type": "stream",
     "text": [
      "0\n",
      "Jon\n"
     ]
    }
   ],
   "source": [
    "#to define a variable simply use it and give it a starting value\n",
    "count=0\n",
    "name=\"Jon\"\n",
    "print(count)\n",
    "print(name)"
   ]
  },
  {
   "cell_type": "code",
   "execution_count": 10,
   "metadata": {},
   "outputs": [
    {
     "name": "stdout",
     "output_type": "stream",
     "text": [
      "This is your message: Hello, world!\n"
     ]
    }
   ],
   "source": [
    "#Use def to define a function; note that code block that is run inside the function only needs to be indented to \n",
    "def printMsg(msg):\n",
    "    return print(\"This is your message: \" + msg)\n",
    "\n",
    "printMsg(\"Hello, world!\")"
   ]
  },
  {
   "cell_type": "markdown",
   "metadata": {},
   "source": [
    "## Loops\n",
    "Loops allow you to repeat some action again and again -- one of the most powerful advantages of working with computational resources.\n",
    "\n",
    "Two types of loops:\n",
    "* for (repeat something again and again for a set number of times.\n",
    "* while (repeat something again and again until some condition is met)"
   ]
  },
  {
   "cell_type": "code",
   "execution_count": 2,
   "metadata": {},
   "outputs": [
    {
     "name": "stdout",
     "output_type": "stream",
     "text": [
      "0\n",
      "1\n",
      "2\n",
      "3\n",
      "4\n"
     ]
    }
   ],
   "source": [
    "for i in range(5):    #5 numbers, starting at 0 gives 0,1,2,3,4\n",
    "    print (i)"
   ]
  },
  {
   "cell_type": "code",
   "execution_count": 4,
   "metadata": {},
   "outputs": [
    {
     "name": "stdout",
     "output_type": "stream",
     "text": [
      "0\n",
      "1\n",
      "2\n",
      "3\n",
      "4\n"
     ]
    }
   ],
   "source": [
    "i=0\n",
    "while i<5:\n",
    "    print(i)\n",
    "    i+=1 # Very important! While loop will continue indefinitely if you do not have a way to terminate it\n",
    "            # If you do accidently write a run-away while loop, you can click the stop button at the top to terminate ipynb"
   ]
  },
  {
   "cell_type": "markdown",
   "metadata": {},
   "source": [
    "# Decision Structures\n",
    "What if you want to do something that is dependent upon a particular condition being met? For instance, if we only wanted to print a number if it was the number 2."
   ]
  },
  {
   "cell_type": "code",
   "execution_count": 7,
   "metadata": {},
   "outputs": [
    {
     "name": "stdout",
     "output_type": "stream",
     "text": [
      "2\n"
     ]
    }
   ],
   "source": [
    "for i in range(5):\n",
    "    if i == 2:\n",
    "        print(i)"
   ]
  },
  {
   "cell_type": "code",
   "execution_count": 8,
   "metadata": {},
   "outputs": [
    {
     "name": "stdout",
     "output_type": "stream",
     "text": [
      "0\n",
      "1\n",
      "3\n",
      "4\n"
     ]
    }
   ],
   "source": [
    "for i in range(5):\n",
    "    if i != 2:\n",
    "        print(i)"
   ]
  },
  {
   "cell_type": "code",
   "execution_count": null,
   "metadata": {},
   "outputs": [],
   "source": [
    "# Can use other elements as well like greater than/less than, greater than or equal to, etc."
   ]
  },
  {
   "cell_type": "markdown",
   "metadata": {},
   "source": [
    "## Apply Loops to generate random numbers\n",
    "Will use in our lab next week to simulate data"
   ]
  },
  {
   "cell_type": "code",
   "execution_count": 40,
   "metadata": {},
   "outputs": [
    {
     "name": "stdout",
     "output_type": "stream",
     "text": [
      "49\n",
      "41\n",
      "38\n"
     ]
    }
   ],
   "source": [
    "#Generate 3 random numbers between 10 and 50\n",
    "import random\n",
    "for i in range(3):\n",
    "    myNum = random.randint(10,50)\n",
    "    print(myNum)"
   ]
  }
 ],
 "metadata": {
  "kernelspec": {
   "display_name": "Python 3",
   "language": "python",
   "name": "python3"
  },
  "language_info": {
   "codemirror_mode": {
    "name": "ipython",
    "version": 3
   },
   "file_extension": ".py",
   "mimetype": "text/x-python",
   "name": "python",
   "nbconvert_exporter": "python",
   "pygments_lexer": "ipython3",
   "version": "3.7.3"
  }
 },
 "nbformat": 4,
 "nbformat_minor": 1
}
